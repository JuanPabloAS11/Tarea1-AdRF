{
  "nbformat": 4,
  "nbformat_minor": 0,
  "metadata": {
    "colab": {
      "provenance": [],
      "toc_visible": true
    },
    "kernelspec": {
      "name": "python3",
      "display_name": "Python 3"
    },
    "language_info": {
      "name": "python"
    }
  },
  "cells": [
    {
      "cell_type": "code",
      "execution_count": null,
      "metadata": {
        "id": "ZvkHpRoOoYJQ"
      },
      "outputs": [],
      "source": [
        "!pip install rpy2==3.5.1"
      ]
    },
    {
      "cell_type": "markdown",
      "source": [
        "Lo primero que tenemos que hacer es cargar las librerías a utilizar."
      ],
      "metadata": {
        "id": "9JKWFHOvo0vx"
      }
    },
    {
      "cell_type": "code",
      "source": [
        "import pandas as pd\n",
        "import numpy as np\n",
        "!pip install yfinance\n",
        "import yfinance as yf\n",
        "import seaborn as sns\n",
        "import matplotlib.pyplot as plt\n",
        "from datetime import datetime, timedelta\n",
        "from functools import reduce\n",
        "from numpy.ma.core import append"
      ],
      "metadata": {
        "id": "xhMYiuzRo6pq"
      },
      "execution_count": null,
      "outputs": []
    },
    {
      "cell_type": "code",
      "source": [
        "# Link del repositorio de  Gitgub de la Tarea 1\n",
        "%load_ext rpy2.ipython\n",
        "\n",
        "!rm -rf RiesgosFinancieros\n",
        "!git clone \"https://github.com/JuanPabloAS11/Tarea1-AdRF\""
      ],
      "metadata": {
        "colab": {
          "base_uri": "https://localhost:8080/"
        },
        "id": "xDNaCQpUpZb2",
        "outputId": "1becbb6d-af3c-4544-cd62-fc43328f5f30"
      },
      "execution_count": 3,
      "outputs": [
        {
          "output_type": "stream",
          "name": "stdout",
          "text": [
            "Cloning into 'Tarea1-AdRF'...\n",
            "remote: Enumerating objects: 23, done.\u001b[K\n",
            "remote: Counting objects: 100% (23/23), done.\u001b[K\n",
            "remote: Compressing objects: 100% (22/22), done.\u001b[K\n",
            "remote: Total 23 (delta 3), reused 0 (delta 0), pack-reused 0\u001b[K\n",
            "Unpacking objects: 100% (23/23), 226.65 KiB | 4.63 MiB/s, done.\n"
          ]
        }
      ]
    },
    {
      "cell_type": "markdown",
      "source": [
        "1. Calcular el VaR y CVaR a un día por los métodos Simulación Histórica con y sin Alisado. Tomar como día de valoración el 10 de marzo de 2023."
      ],
      "metadata": {
        "id": "FnIS113_piyf"
      }
    },
    {
      "cell_type": "markdown",
      "source": [
        "# Acciones\n",
        "100 acciones de GCarso, -5000 de América Móvil y 1200 de Walmart. Todas de la BMV"
      ],
      "metadata": {
        "id": "4o6Q_ycnrtzj"
      }
    },
    {
      "cell_type": "markdown",
      "source": [
        "Primero vamos a definir algunas funciones que nos serán de utilidad en pasos posteriores\n"
      ],
      "metadata": {
        "id": "t3mC7yWZMPU6"
      }
    },
    {
      "cell_type": "code",
      "source": [
        "# Función que calcula el VaR condicional\n",
        "def CVaR(x , VaR):\n",
        "  return np.mean(x[x >= VaR])"
      ],
      "metadata": {
        "id": "jwAgfX9wMtZ6"
      },
      "execution_count": 4,
      "outputs": []
    },
    {
      "cell_type": "code",
      "source": [
        "def ExponentialWeighted(primer, num_esc):\n",
        "  return [primer*((1-primer)**i) for i in range(num_esc)]"
      ],
      "metadata": {
        "id": "t7cOvO4wM-I-"
      },
      "execution_count": 5,
      "outputs": []
    },
    {
      "cell_type": "code",
      "source": [
        "def VaR_CA(x,P,alpha):\n",
        "  aux = pd.DataFrame({\"X\":x, \"Proba\":P})\n",
        "  aux = aux.sort_values(by = [\"X\"])\n",
        "  aux[\"Acumulado\"] = aux[\"Proba\"].cumsum()\n",
        "  aux2 = aux[aux[\"Acumulado\"]>=(alpha)]\n",
        "  return aux2[\"X\"].values[0]"
      ],
      "metadata": {
        "id": "u9TvAyT4bQaR"
      },
      "execution_count": 6,
      "outputs": []
    },
    {
      "cell_type": "code",
      "source": [
        "def CVaR_CA(x,P,alpha):\n",
        "  aux = pd.DataFrame({\"X\":x, \"Proba\":P})\n",
        "  aux = aux.sort_values(by = [\"X\"])\n",
        "  aux[\"Acumulado\"] = aux[\"Proba\"].cumsum()\n",
        "  plist = aux[\"Acumulado\"]/aux[\"Acumulado\"].values[len(aux)-1]\n",
        "  aux2 = aux[plist>alpha]\n",
        "  loss = aux2[\"X\"].values\n",
        "  esc = aux2[\"Proba\"].values\n",
        "  return sum(loss*esc)/sum(esc)"
      ],
      "metadata": {
        "id": "btdufMhsbTCy"
      },
      "execution_count": 7,
      "outputs": []
    },
    {
      "cell_type": "markdown",
      "source": [
        "Ahora creamos una clase, donde se incluyen funciones para el cálculo del VaR y CVaR por Simulación Histórica"
      ],
      "metadata": {
        "id": "gV9bUySPbYfH"
      }
    },
    {
      "cell_type": "code",
      "source": [
        "class Riesgo_Equity_FX:\n",
        "\n",
        "  def __init__(self):\n",
        "    self.posiciones = None\n",
        "    self.acciones = None\n",
        "    self.VaR = None\n",
        "    self.CVaR = None\n",
        "    self.alpha = None\n",
        "    self.summary = None\n",
        "    self.alisado = None\n",
        "  \n",
        "  def compute(self,acciones, posiciones, fecha_valoracion, alpha = 0.98 , alisado = False):\n",
        "    stock_data = yf.download(acciones, end = fecha_valoracion)\n",
        "    X=stock_data.Close\n",
        "    X = X.dropna()\n",
        "    X = X[::-1]\n",
        "    X0 = X.head(1)\n",
        "    DeltaX = (X.shift(1)/X)-1\n",
        "    DeltaX.iloc[0,:] = 0\n",
        "    X_s = X0.values*(1+DeltaX)\n",
        "    posiciones = pd.Series(posiciones,index = acciones)\n",
        "    PL = (X_s-X0.values[0])*posiciones\n",
        "    PL['Total']=PL.sum(axis=1)\n",
        "    VaR_C=[]\n",
        "\n",
        "    if alisado:\n",
        "      c = 1\n",
        "      PL.dropna(inplace = True)\n",
        "      #PL = PL.iloc[::-1]\n",
        "      PL[\"Esc_SA\"] = ExponentialWeighted(0.05,PL.shape[0])\n",
        "      col_aux = list(PL.columns)\n",
        "      col_aux.remove(\"Esc_SA\")\n",
        "      vector_VaR = [VaR_CA(PL.iloc[:,i],PL.Esc_SA,alpha) for i in range(PL.shape[1]-1)]\n",
        "      VaR = pd.Series(vector_VaR,index = col_aux)\n",
        "    else:\n",
        "      c = 0\n",
        "      vector_VaR = [PL.iloc[:,i].quantile(1-alpha) for i in range(len(acciones))]\n",
        "      VaR = pd.Series(vector_VaR,index = acciones)\n",
        "      VaR = PL.quantile(alpha,numeric_only = True)\n",
        "\n",
        "    \n",
        "    for i in range(0,PL.shape[1]-c):\n",
        "      VC=CVaR(PL.iloc[:,i],VaR[i])\n",
        "      VaR_C.append(VC)\n",
        "\n",
        "    self.summary = pd.DataFrame({\"VaR\":VaR})\n",
        "    self.summary['CVaR'] = VaR_C\n",
        "\n",
        "    self.posiciones = posiciones\n",
        "    self.acciones = acciones\n",
        "    self.VaR = self.summary[['VaR']]\n",
        "    self.CVaR = self.summary[['CVaR']]\n",
        "    self.alpha = alpha\n",
        "\n",
        "    return\n"
      ],
      "metadata": {
        "id": "rqqhYKkzsYNa"
      },
      "execution_count": 8,
      "outputs": []
    },
    {
      "cell_type": "markdown",
      "source": [
        "Ahora utilizamos la función compute, para cargar los datos de las Acciones indicadas"
      ],
      "metadata": {
        "id": "U2-F40yab8cc"
      }
    },
    {
      "cell_type": "markdown",
      "source": [
        "##  Sin Alisado"
      ],
      "metadata": {
        "id": "0RyUZJZqu8im"
      }
    },
    {
      "cell_type": "markdown",
      "source": [
        "Para este caso vamos a utilizar la función compute que está definida en la clase anterior, y vamos a especificar el parámetro alisado=False"
      ],
      "metadata": {
        "id": "K29j0MV5vFla"
      }
    },
    {
      "cell_type": "code",
      "source": [
        "misAcciones = Riesgo_Equity_FX()"
      ],
      "metadata": {
        "id": "nJ_Pwvd8cDfI"
      },
      "execution_count": 9,
      "outputs": []
    },
    {
      "cell_type": "code",
      "source": [
        "# En los valores de los parámetros introducimos la clave de la Acción que se encuentra en Yahoo Finance, el número\n",
        "# de acciones a valorar, la fecha de valoración al 10 de marzo de 2023, un valor de alpha del 98%, y especificamos\n",
        "# el parámetro alisado=False.\n",
        "misAcciones.compute(['GCARSOA1.MX','AMXL.MX','WALMEX.MX'], [1000, -5000, 1200], '2023-03-10', alpha = 0.98,alisado=False)"
      ],
      "metadata": {
        "colab": {
          "base_uri": "https://localhost:8080/"
        },
        "id": "kafg-hDjcMB-",
        "outputId": "adc64fa9-1a27-463a-bf7b-7ced70ad4838"
      },
      "execution_count": 10,
      "outputs": [
        {
          "output_type": "stream",
          "name": "stdout",
          "text": [
            "[*********************100%***********************]  3 of 3 completed\n"
          ]
        }
      ]
    },
    {
      "cell_type": "markdown",
      "source": [
        "Realizamos un resumen de los valores, utilizando la función Summary incluida en la clase Riesgo_Equity_FX.\n",
        "En este resumen podemos visualizar el VaR y CVaR de las tres acciones, así como el total."
      ],
      "metadata": {
        "id": "BmB0qGMfwFfy"
      }
    },
    {
      "cell_type": "code",
      "source": [
        "misAcciones.summary"
      ],
      "metadata": {
        "colab": {
          "base_uri": "https://localhost:8080/",
          "height": 174
        },
        "id": "-PY8_6GMwHtm",
        "outputId": "9f9a3af1-af6c-4096-d9d7-4befa7745a59"
      },
      "execution_count": 11,
      "outputs": [
        {
          "output_type": "execute_result",
          "data": {
            "text/plain": [
              "                     VaR         CVaR\n",
              "AMXL.MX      3204.055424  4719.718225\n",
              "GCARSOA1.MX  4357.661394  7036.790563\n",
              "WALMEX.MX    3140.064853  4234.112958\n",
              "Total        5321.514639  7636.094292"
            ],
            "text/html": [
              "\n",
              "  <div id=\"df-45235799-5364-4778-b7b8-6f117cfa9dc1\">\n",
              "    <div class=\"colab-df-container\">\n",
              "      <div>\n",
              "<style scoped>\n",
              "    .dataframe tbody tr th:only-of-type {\n",
              "        vertical-align: middle;\n",
              "    }\n",
              "\n",
              "    .dataframe tbody tr th {\n",
              "        vertical-align: top;\n",
              "    }\n",
              "\n",
              "    .dataframe thead th {\n",
              "        text-align: right;\n",
              "    }\n",
              "</style>\n",
              "<table border=\"1\" class=\"dataframe\">\n",
              "  <thead>\n",
              "    <tr style=\"text-align: right;\">\n",
              "      <th></th>\n",
              "      <th>VaR</th>\n",
              "      <th>CVaR</th>\n",
              "    </tr>\n",
              "  </thead>\n",
              "  <tbody>\n",
              "    <tr>\n",
              "      <th>AMXL.MX</th>\n",
              "      <td>3204.055424</td>\n",
              "      <td>4719.718225</td>\n",
              "    </tr>\n",
              "    <tr>\n",
              "      <th>GCARSOA1.MX</th>\n",
              "      <td>4357.661394</td>\n",
              "      <td>7036.790563</td>\n",
              "    </tr>\n",
              "    <tr>\n",
              "      <th>WALMEX.MX</th>\n",
              "      <td>3140.064853</td>\n",
              "      <td>4234.112958</td>\n",
              "    </tr>\n",
              "    <tr>\n",
              "      <th>Total</th>\n",
              "      <td>5321.514639</td>\n",
              "      <td>7636.094292</td>\n",
              "    </tr>\n",
              "  </tbody>\n",
              "</table>\n",
              "</div>\n",
              "      <button class=\"colab-df-convert\" onclick=\"convertToInteractive('df-45235799-5364-4778-b7b8-6f117cfa9dc1')\"\n",
              "              title=\"Convert this dataframe to an interactive table.\"\n",
              "              style=\"display:none;\">\n",
              "        \n",
              "  <svg xmlns=\"http://www.w3.org/2000/svg\" height=\"24px\"viewBox=\"0 0 24 24\"\n",
              "       width=\"24px\">\n",
              "    <path d=\"M0 0h24v24H0V0z\" fill=\"none\"/>\n",
              "    <path d=\"M18.56 5.44l.94 2.06.94-2.06 2.06-.94-2.06-.94-.94-2.06-.94 2.06-2.06.94zm-11 1L8.5 8.5l.94-2.06 2.06-.94-2.06-.94L8.5 2.5l-.94 2.06-2.06.94zm10 10l.94 2.06.94-2.06 2.06-.94-2.06-.94-.94-2.06-.94 2.06-2.06.94z\"/><path d=\"M17.41 7.96l-1.37-1.37c-.4-.4-.92-.59-1.43-.59-.52 0-1.04.2-1.43.59L10.3 9.45l-7.72 7.72c-.78.78-.78 2.05 0 2.83L4 21.41c.39.39.9.59 1.41.59.51 0 1.02-.2 1.41-.59l7.78-7.78 2.81-2.81c.8-.78.8-2.07 0-2.86zM5.41 20L4 18.59l7.72-7.72 1.47 1.35L5.41 20z\"/>\n",
              "  </svg>\n",
              "      </button>\n",
              "      \n",
              "  <style>\n",
              "    .colab-df-container {\n",
              "      display:flex;\n",
              "      flex-wrap:wrap;\n",
              "      gap: 12px;\n",
              "    }\n",
              "\n",
              "    .colab-df-convert {\n",
              "      background-color: #E8F0FE;\n",
              "      border: none;\n",
              "      border-radius: 50%;\n",
              "      cursor: pointer;\n",
              "      display: none;\n",
              "      fill: #1967D2;\n",
              "      height: 32px;\n",
              "      padding: 0 0 0 0;\n",
              "      width: 32px;\n",
              "    }\n",
              "\n",
              "    .colab-df-convert:hover {\n",
              "      background-color: #E2EBFA;\n",
              "      box-shadow: 0px 1px 2px rgba(60, 64, 67, 0.3), 0px 1px 3px 1px rgba(60, 64, 67, 0.15);\n",
              "      fill: #174EA6;\n",
              "    }\n",
              "\n",
              "    [theme=dark] .colab-df-convert {\n",
              "      background-color: #3B4455;\n",
              "      fill: #D2E3FC;\n",
              "    }\n",
              "\n",
              "    [theme=dark] .colab-df-convert:hover {\n",
              "      background-color: #434B5C;\n",
              "      box-shadow: 0px 1px 3px 1px rgba(0, 0, 0, 0.15);\n",
              "      filter: drop-shadow(0px 1px 2px rgba(0, 0, 0, 0.3));\n",
              "      fill: #FFFFFF;\n",
              "    }\n",
              "  </style>\n",
              "\n",
              "      <script>\n",
              "        const buttonEl =\n",
              "          document.querySelector('#df-45235799-5364-4778-b7b8-6f117cfa9dc1 button.colab-df-convert');\n",
              "        buttonEl.style.display =\n",
              "          google.colab.kernel.accessAllowed ? 'block' : 'none';\n",
              "\n",
              "        async function convertToInteractive(key) {\n",
              "          const element = document.querySelector('#df-45235799-5364-4778-b7b8-6f117cfa9dc1');\n",
              "          const dataTable =\n",
              "            await google.colab.kernel.invokeFunction('convertToInteractive',\n",
              "                                                     [key], {});\n",
              "          if (!dataTable) return;\n",
              "\n",
              "          const docLinkHtml = 'Like what you see? Visit the ' +\n",
              "            '<a target=\"_blank\" href=https://colab.research.google.com/notebooks/data_table.ipynb>data table notebook</a>'\n",
              "            + ' to learn more about interactive tables.';\n",
              "          element.innerHTML = '';\n",
              "          dataTable['output_type'] = 'display_data';\n",
              "          await google.colab.output.renderOutput(dataTable, element);\n",
              "          const docLink = document.createElement('div');\n",
              "          docLink.innerHTML = docLinkHtml;\n",
              "          element.appendChild(docLink);\n",
              "        }\n",
              "      </script>\n",
              "    </div>\n",
              "  </div>\n",
              "  "
            ]
          },
          "metadata": {},
          "execution_count": 11
        }
      ]
    },
    {
      "cell_type": "code",
      "source": [
        "# Alternativa\n",
        "fecha_valoracion = '2023-03-10'\n",
        "acciones = ['GCARSOA1.MX','AMXL.MX','WALMEX.MX']\n",
        "posiciones = [1000, -5000, 1200]\n",
        "alpha = 0.98\n",
        "\n",
        "stock_data = yf.download(acciones, end = fecha_valoracion)\n",
        "X=stock_data.Close\n",
        "X = X.dropna()\n",
        "X = X[::-1]\n",
        "X0 = X.head(1)\n",
        "DeltaX = (X.shift(1)/X)-1\n",
        "DeltaX.iloc[0,:] = 0\n",
        "X_s = X0.values*(1+DeltaX)\n",
        "posiciones = pd.Series(posiciones,index = acciones)\n",
        "PL = (X_s-X0.values[0])*posiciones\n",
        "PL['Total']=PL.sum(axis=1)\n",
        "vector_VaR = [PL.iloc[:,i].quantile(1-alpha) for i in range(len(acciones))]\n",
        "vector_VaR\n",
        "VaR = pd.Series(vector_VaR,index = acciones)\n",
        "VaR = PL.quantile(alpha,numeric_only = True)\n",
        "VaR"
      ],
      "metadata": {
        "colab": {
          "base_uri": "https://localhost:8080/"
        },
        "id": "66q3OJZIgJeM",
        "outputId": "3af7351c-5fe4-4dce-e27c-c1cce7f62e8e"
      },
      "execution_count": 12,
      "outputs": [
        {
          "output_type": "stream",
          "name": "stdout",
          "text": [
            "[*********************100%***********************]  3 of 3 completed\n"
          ]
        },
        {
          "output_type": "execute_result",
          "data": {
            "text/plain": [
              "AMXL.MX        3204.055424\n",
              "GCARSOA1.MX    4357.661394\n",
              "WALMEX.MX      3140.064853\n",
              "Total          5321.514639\n",
              "Name: 0.98, dtype: float64"
            ]
          },
          "metadata": {},
          "execution_count": 12
        }
      ]
    },
    {
      "cell_type": "markdown",
      "source": [
        "Por lo tanto llegamos a los mismos resultados"
      ],
      "metadata": {
        "id": "acW2J3jdgRPt"
      }
    },
    {
      "cell_type": "code",
      "source": [
        "# Visualizamos el valor de cada acción en la Fecha de Valoración (Notemos que nos arroja el \n",
        "# día 09 de marzo)\n",
        "\n",
        "X.head(1)"
      ],
      "metadata": {
        "colab": {
          "base_uri": "https://localhost:8080/",
          "height": 112
        },
        "id": "WeIZ8xUrTWjB",
        "outputId": "5946bdfc-c498-4b30-d03d-2acbdcf97df7"
      },
      "execution_count": 13,
      "outputs": [
        {
          "output_type": "execute_result",
          "data": {
            "text/plain": [
              "            AMXL.MX  GCARSOA1.MX  WALMEX.MX\n",
              "Date                                       \n",
              "2023-03-09    19.51    87.400002  72.040001"
            ],
            "text/html": [
              "\n",
              "  <div id=\"df-c574888b-db70-4eb8-ade6-3263052c07a8\">\n",
              "    <div class=\"colab-df-container\">\n",
              "      <div>\n",
              "<style scoped>\n",
              "    .dataframe tbody tr th:only-of-type {\n",
              "        vertical-align: middle;\n",
              "    }\n",
              "\n",
              "    .dataframe tbody tr th {\n",
              "        vertical-align: top;\n",
              "    }\n",
              "\n",
              "    .dataframe thead th {\n",
              "        text-align: right;\n",
              "    }\n",
              "</style>\n",
              "<table border=\"1\" class=\"dataframe\">\n",
              "  <thead>\n",
              "    <tr style=\"text-align: right;\">\n",
              "      <th></th>\n",
              "      <th>AMXL.MX</th>\n",
              "      <th>GCARSOA1.MX</th>\n",
              "      <th>WALMEX.MX</th>\n",
              "    </tr>\n",
              "    <tr>\n",
              "      <th>Date</th>\n",
              "      <th></th>\n",
              "      <th></th>\n",
              "      <th></th>\n",
              "    </tr>\n",
              "  </thead>\n",
              "  <tbody>\n",
              "    <tr>\n",
              "      <th>2023-03-09</th>\n",
              "      <td>19.51</td>\n",
              "      <td>87.400002</td>\n",
              "      <td>72.040001</td>\n",
              "    </tr>\n",
              "  </tbody>\n",
              "</table>\n",
              "</div>\n",
              "      <button class=\"colab-df-convert\" onclick=\"convertToInteractive('df-c574888b-db70-4eb8-ade6-3263052c07a8')\"\n",
              "              title=\"Convert this dataframe to an interactive table.\"\n",
              "              style=\"display:none;\">\n",
              "        \n",
              "  <svg xmlns=\"http://www.w3.org/2000/svg\" height=\"24px\"viewBox=\"0 0 24 24\"\n",
              "       width=\"24px\">\n",
              "    <path d=\"M0 0h24v24H0V0z\" fill=\"none\"/>\n",
              "    <path d=\"M18.56 5.44l.94 2.06.94-2.06 2.06-.94-2.06-.94-.94-2.06-.94 2.06-2.06.94zm-11 1L8.5 8.5l.94-2.06 2.06-.94-2.06-.94L8.5 2.5l-.94 2.06-2.06.94zm10 10l.94 2.06.94-2.06 2.06-.94-2.06-.94-.94-2.06-.94 2.06-2.06.94z\"/><path d=\"M17.41 7.96l-1.37-1.37c-.4-.4-.92-.59-1.43-.59-.52 0-1.04.2-1.43.59L10.3 9.45l-7.72 7.72c-.78.78-.78 2.05 0 2.83L4 21.41c.39.39.9.59 1.41.59.51 0 1.02-.2 1.41-.59l7.78-7.78 2.81-2.81c.8-.78.8-2.07 0-2.86zM5.41 20L4 18.59l7.72-7.72 1.47 1.35L5.41 20z\"/>\n",
              "  </svg>\n",
              "      </button>\n",
              "      \n",
              "  <style>\n",
              "    .colab-df-container {\n",
              "      display:flex;\n",
              "      flex-wrap:wrap;\n",
              "      gap: 12px;\n",
              "    }\n",
              "\n",
              "    .colab-df-convert {\n",
              "      background-color: #E8F0FE;\n",
              "      border: none;\n",
              "      border-radius: 50%;\n",
              "      cursor: pointer;\n",
              "      display: none;\n",
              "      fill: #1967D2;\n",
              "      height: 32px;\n",
              "      padding: 0 0 0 0;\n",
              "      width: 32px;\n",
              "    }\n",
              "\n",
              "    .colab-df-convert:hover {\n",
              "      background-color: #E2EBFA;\n",
              "      box-shadow: 0px 1px 2px rgba(60, 64, 67, 0.3), 0px 1px 3px 1px rgba(60, 64, 67, 0.15);\n",
              "      fill: #174EA6;\n",
              "    }\n",
              "\n",
              "    [theme=dark] .colab-df-convert {\n",
              "      background-color: #3B4455;\n",
              "      fill: #D2E3FC;\n",
              "    }\n",
              "\n",
              "    [theme=dark] .colab-df-convert:hover {\n",
              "      background-color: #434B5C;\n",
              "      box-shadow: 0px 1px 3px 1px rgba(0, 0, 0, 0.15);\n",
              "      filter: drop-shadow(0px 1px 2px rgba(0, 0, 0, 0.3));\n",
              "      fill: #FFFFFF;\n",
              "    }\n",
              "  </style>\n",
              "\n",
              "      <script>\n",
              "        const buttonEl =\n",
              "          document.querySelector('#df-c574888b-db70-4eb8-ade6-3263052c07a8 button.colab-df-convert');\n",
              "        buttonEl.style.display =\n",
              "          google.colab.kernel.accessAllowed ? 'block' : 'none';\n",
              "\n",
              "        async function convertToInteractive(key) {\n",
              "          const element = document.querySelector('#df-c574888b-db70-4eb8-ade6-3263052c07a8');\n",
              "          const dataTable =\n",
              "            await google.colab.kernel.invokeFunction('convertToInteractive',\n",
              "                                                     [key], {});\n",
              "          if (!dataTable) return;\n",
              "\n",
              "          const docLinkHtml = 'Like what you see? Visit the ' +\n",
              "            '<a target=\"_blank\" href=https://colab.research.google.com/notebooks/data_table.ipynb>data table notebook</a>'\n",
              "            + ' to learn more about interactive tables.';\n",
              "          element.innerHTML = '';\n",
              "          dataTable['output_type'] = 'display_data';\n",
              "          await google.colab.output.renderOutput(dataTable, element);\n",
              "          const docLink = document.createElement('div');\n",
              "          docLink.innerHTML = docLinkHtml;\n",
              "          element.appendChild(docLink);\n",
              "        }\n",
              "      </script>\n",
              "    </div>\n",
              "  </div>\n",
              "  "
            ]
          },
          "metadata": {},
          "execution_count": 13
        }
      ]
    },
    {
      "cell_type": "code",
      "source": [
        "# Multiplicamos por el número de posiciones para obneter su valor.\n",
        "X0*posiciones"
      ],
      "metadata": {
        "colab": {
          "base_uri": "https://localhost:8080/",
          "height": 112
        },
        "id": "TGM7zLWH1juF",
        "outputId": "79539d6e-9dce-470f-f110-8255b21f2fd8"
      },
      "execution_count": 15,
      "outputs": [
        {
          "output_type": "execute_result",
          "data": {
            "text/plain": [
              "                 AMXL.MX   GCARSOA1.MX     WALMEX.MX\n",
              "Date                                                \n",
              "2023-03-09 -97550.001144  87400.001526  86448.001099"
            ],
            "text/html": [
              "\n",
              "  <div id=\"df-b4a330e5-e82f-4d69-a629-dae0bc17354b\">\n",
              "    <div class=\"colab-df-container\">\n",
              "      <div>\n",
              "<style scoped>\n",
              "    .dataframe tbody tr th:only-of-type {\n",
              "        vertical-align: middle;\n",
              "    }\n",
              "\n",
              "    .dataframe tbody tr th {\n",
              "        vertical-align: top;\n",
              "    }\n",
              "\n",
              "    .dataframe thead th {\n",
              "        text-align: right;\n",
              "    }\n",
              "</style>\n",
              "<table border=\"1\" class=\"dataframe\">\n",
              "  <thead>\n",
              "    <tr style=\"text-align: right;\">\n",
              "      <th></th>\n",
              "      <th>AMXL.MX</th>\n",
              "      <th>GCARSOA1.MX</th>\n",
              "      <th>WALMEX.MX</th>\n",
              "    </tr>\n",
              "    <tr>\n",
              "      <th>Date</th>\n",
              "      <th></th>\n",
              "      <th></th>\n",
              "      <th></th>\n",
              "    </tr>\n",
              "  </thead>\n",
              "  <tbody>\n",
              "    <tr>\n",
              "      <th>2023-03-09</th>\n",
              "      <td>-97550.001144</td>\n",
              "      <td>87400.001526</td>\n",
              "      <td>86448.001099</td>\n",
              "    </tr>\n",
              "  </tbody>\n",
              "</table>\n",
              "</div>\n",
              "      <button class=\"colab-df-convert\" onclick=\"convertToInteractive('df-b4a330e5-e82f-4d69-a629-dae0bc17354b')\"\n",
              "              title=\"Convert this dataframe to an interactive table.\"\n",
              "              style=\"display:none;\">\n",
              "        \n",
              "  <svg xmlns=\"http://www.w3.org/2000/svg\" height=\"24px\"viewBox=\"0 0 24 24\"\n",
              "       width=\"24px\">\n",
              "    <path d=\"M0 0h24v24H0V0z\" fill=\"none\"/>\n",
              "    <path d=\"M18.56 5.44l.94 2.06.94-2.06 2.06-.94-2.06-.94-.94-2.06-.94 2.06-2.06.94zm-11 1L8.5 8.5l.94-2.06 2.06-.94-2.06-.94L8.5 2.5l-.94 2.06-2.06.94zm10 10l.94 2.06.94-2.06 2.06-.94-2.06-.94-.94-2.06-.94 2.06-2.06.94z\"/><path d=\"M17.41 7.96l-1.37-1.37c-.4-.4-.92-.59-1.43-.59-.52 0-1.04.2-1.43.59L10.3 9.45l-7.72 7.72c-.78.78-.78 2.05 0 2.83L4 21.41c.39.39.9.59 1.41.59.51 0 1.02-.2 1.41-.59l7.78-7.78 2.81-2.81c.8-.78.8-2.07 0-2.86zM5.41 20L4 18.59l7.72-7.72 1.47 1.35L5.41 20z\"/>\n",
              "  </svg>\n",
              "      </button>\n",
              "      \n",
              "  <style>\n",
              "    .colab-df-container {\n",
              "      display:flex;\n",
              "      flex-wrap:wrap;\n",
              "      gap: 12px;\n",
              "    }\n",
              "\n",
              "    .colab-df-convert {\n",
              "      background-color: #E8F0FE;\n",
              "      border: none;\n",
              "      border-radius: 50%;\n",
              "      cursor: pointer;\n",
              "      display: none;\n",
              "      fill: #1967D2;\n",
              "      height: 32px;\n",
              "      padding: 0 0 0 0;\n",
              "      width: 32px;\n",
              "    }\n",
              "\n",
              "    .colab-df-convert:hover {\n",
              "      background-color: #E2EBFA;\n",
              "      box-shadow: 0px 1px 2px rgba(60, 64, 67, 0.3), 0px 1px 3px 1px rgba(60, 64, 67, 0.15);\n",
              "      fill: #174EA6;\n",
              "    }\n",
              "\n",
              "    [theme=dark] .colab-df-convert {\n",
              "      background-color: #3B4455;\n",
              "      fill: #D2E3FC;\n",
              "    }\n",
              "\n",
              "    [theme=dark] .colab-df-convert:hover {\n",
              "      background-color: #434B5C;\n",
              "      box-shadow: 0px 1px 3px 1px rgba(0, 0, 0, 0.15);\n",
              "      filter: drop-shadow(0px 1px 2px rgba(0, 0, 0, 0.3));\n",
              "      fill: #FFFFFF;\n",
              "    }\n",
              "  </style>\n",
              "\n",
              "      <script>\n",
              "        const buttonEl =\n",
              "          document.querySelector('#df-b4a330e5-e82f-4d69-a629-dae0bc17354b button.colab-df-convert');\n",
              "        buttonEl.style.display =\n",
              "          google.colab.kernel.accessAllowed ? 'block' : 'none';\n",
              "\n",
              "        async function convertToInteractive(key) {\n",
              "          const element = document.querySelector('#df-b4a330e5-e82f-4d69-a629-dae0bc17354b');\n",
              "          const dataTable =\n",
              "            await google.colab.kernel.invokeFunction('convertToInteractive',\n",
              "                                                     [key], {});\n",
              "          if (!dataTable) return;\n",
              "\n",
              "          const docLinkHtml = 'Like what you see? Visit the ' +\n",
              "            '<a target=\"_blank\" href=https://colab.research.google.com/notebooks/data_table.ipynb>data table notebook</a>'\n",
              "            + ' to learn more about interactive tables.';\n",
              "          element.innerHTML = '';\n",
              "          dataTable['output_type'] = 'display_data';\n",
              "          await google.colab.output.renderOutput(dataTable, element);\n",
              "          const docLink = document.createElement('div');\n",
              "          docLink.innerHTML = docLinkHtml;\n",
              "          element.appendChild(docLink);\n",
              "        }\n",
              "      </script>\n",
              "    </div>\n",
              "  </div>\n",
              "  "
            ]
          },
          "metadata": {},
          "execution_count": 15
        }
      ]
    },
    {
      "cell_type": "markdown",
      "source": [
        "## Con Alisado"
      ],
      "metadata": {
        "id": "Q3QEna13xbiK"
      }
    },
    {
      "cell_type": "markdown",
      "source": [
        "Ahora para el caso Sin Alisado, de igual manera utilizamos la función compute, sólo que especificando en el parámetro alisado=True"
      ],
      "metadata": {
        "id": "nPNjXzygx_Jx"
      }
    },
    {
      "cell_type": "code",
      "source": [
        "misAcciones.compute(['GCARSOA1.MX','AMXL.MX','WALMEX.MX'], [1000, -5000, 1200], '2023-03-10', alpha = 0.98, alisado=True)"
      ],
      "metadata": {
        "colab": {
          "base_uri": "https://localhost:8080/"
        },
        "id": "pNoOFexjyKNf",
        "outputId": "1f1a8bbe-c98c-4275-908e-ab8a34b0d534"
      },
      "execution_count": 16,
      "outputs": [
        {
          "output_type": "stream",
          "name": "stdout",
          "text": [
            "[*********************100%***********************]  3 of 3 completed\n"
          ]
        }
      ]
    },
    {
      "cell_type": "markdown",
      "source": [
        "Y realizamos un resumen, en donde se muestra el VaR y CVaR"
      ],
      "metadata": {
        "id": "dayO4uTRyPI0"
      }
    },
    {
      "cell_type": "code",
      "source": [
        "misAcciones.summary"
      ],
      "metadata": {
        "colab": {
          "base_uri": "https://localhost:8080/",
          "height": 174
        },
        "id": "oIlYoSIfyT_v",
        "outputId": "d06a98c9-e3a2-4ba9-a3b5-9afa7b0de37b"
      },
      "execution_count": 17,
      "outputs": [
        {
          "output_type": "execute_result",
          "data": {
            "text/plain": [
              "                     VaR         CVaR\n",
              "AMXL.MX      2829.693230  4251.101000\n",
              "GCARSOA1.MX  2847.859373  4731.781394\n",
              "WALMEX.MX    2528.083736  3539.770679\n",
              "Total        2803.959320  4433.296404"
            ],
            "text/html": [
              "\n",
              "  <div id=\"df-18f37f00-2e89-4548-ad38-c6f5158d3b08\">\n",
              "    <div class=\"colab-df-container\">\n",
              "      <div>\n",
              "<style scoped>\n",
              "    .dataframe tbody tr th:only-of-type {\n",
              "        vertical-align: middle;\n",
              "    }\n",
              "\n",
              "    .dataframe tbody tr th {\n",
              "        vertical-align: top;\n",
              "    }\n",
              "\n",
              "    .dataframe thead th {\n",
              "        text-align: right;\n",
              "    }\n",
              "</style>\n",
              "<table border=\"1\" class=\"dataframe\">\n",
              "  <thead>\n",
              "    <tr style=\"text-align: right;\">\n",
              "      <th></th>\n",
              "      <th>VaR</th>\n",
              "      <th>CVaR</th>\n",
              "    </tr>\n",
              "  </thead>\n",
              "  <tbody>\n",
              "    <tr>\n",
              "      <th>AMXL.MX</th>\n",
              "      <td>2829.693230</td>\n",
              "      <td>4251.101000</td>\n",
              "    </tr>\n",
              "    <tr>\n",
              "      <th>GCARSOA1.MX</th>\n",
              "      <td>2847.859373</td>\n",
              "      <td>4731.781394</td>\n",
              "    </tr>\n",
              "    <tr>\n",
              "      <th>WALMEX.MX</th>\n",
              "      <td>2528.083736</td>\n",
              "      <td>3539.770679</td>\n",
              "    </tr>\n",
              "    <tr>\n",
              "      <th>Total</th>\n",
              "      <td>2803.959320</td>\n",
              "      <td>4433.296404</td>\n",
              "    </tr>\n",
              "  </tbody>\n",
              "</table>\n",
              "</div>\n",
              "      <button class=\"colab-df-convert\" onclick=\"convertToInteractive('df-18f37f00-2e89-4548-ad38-c6f5158d3b08')\"\n",
              "              title=\"Convert this dataframe to an interactive table.\"\n",
              "              style=\"display:none;\">\n",
              "        \n",
              "  <svg xmlns=\"http://www.w3.org/2000/svg\" height=\"24px\"viewBox=\"0 0 24 24\"\n",
              "       width=\"24px\">\n",
              "    <path d=\"M0 0h24v24H0V0z\" fill=\"none\"/>\n",
              "    <path d=\"M18.56 5.44l.94 2.06.94-2.06 2.06-.94-2.06-.94-.94-2.06-.94 2.06-2.06.94zm-11 1L8.5 8.5l.94-2.06 2.06-.94-2.06-.94L8.5 2.5l-.94 2.06-2.06.94zm10 10l.94 2.06.94-2.06 2.06-.94-2.06-.94-.94-2.06-.94 2.06-2.06.94z\"/><path d=\"M17.41 7.96l-1.37-1.37c-.4-.4-.92-.59-1.43-.59-.52 0-1.04.2-1.43.59L10.3 9.45l-7.72 7.72c-.78.78-.78 2.05 0 2.83L4 21.41c.39.39.9.59 1.41.59.51 0 1.02-.2 1.41-.59l7.78-7.78 2.81-2.81c.8-.78.8-2.07 0-2.86zM5.41 20L4 18.59l7.72-7.72 1.47 1.35L5.41 20z\"/>\n",
              "  </svg>\n",
              "      </button>\n",
              "      \n",
              "  <style>\n",
              "    .colab-df-container {\n",
              "      display:flex;\n",
              "      flex-wrap:wrap;\n",
              "      gap: 12px;\n",
              "    }\n",
              "\n",
              "    .colab-df-convert {\n",
              "      background-color: #E8F0FE;\n",
              "      border: none;\n",
              "      border-radius: 50%;\n",
              "      cursor: pointer;\n",
              "      display: none;\n",
              "      fill: #1967D2;\n",
              "      height: 32px;\n",
              "      padding: 0 0 0 0;\n",
              "      width: 32px;\n",
              "    }\n",
              "\n",
              "    .colab-df-convert:hover {\n",
              "      background-color: #E2EBFA;\n",
              "      box-shadow: 0px 1px 2px rgba(60, 64, 67, 0.3), 0px 1px 3px 1px rgba(60, 64, 67, 0.15);\n",
              "      fill: #174EA6;\n",
              "    }\n",
              "\n",
              "    [theme=dark] .colab-df-convert {\n",
              "      background-color: #3B4455;\n",
              "      fill: #D2E3FC;\n",
              "    }\n",
              "\n",
              "    [theme=dark] .colab-df-convert:hover {\n",
              "      background-color: #434B5C;\n",
              "      box-shadow: 0px 1px 3px 1px rgba(0, 0, 0, 0.15);\n",
              "      filter: drop-shadow(0px 1px 2px rgba(0, 0, 0, 0.3));\n",
              "      fill: #FFFFFF;\n",
              "    }\n",
              "  </style>\n",
              "\n",
              "      <script>\n",
              "        const buttonEl =\n",
              "          document.querySelector('#df-18f37f00-2e89-4548-ad38-c6f5158d3b08 button.colab-df-convert');\n",
              "        buttonEl.style.display =\n",
              "          google.colab.kernel.accessAllowed ? 'block' : 'none';\n",
              "\n",
              "        async function convertToInteractive(key) {\n",
              "          const element = document.querySelector('#df-18f37f00-2e89-4548-ad38-c6f5158d3b08');\n",
              "          const dataTable =\n",
              "            await google.colab.kernel.invokeFunction('convertToInteractive',\n",
              "                                                     [key], {});\n",
              "          if (!dataTable) return;\n",
              "\n",
              "          const docLinkHtml = 'Like what you see? Visit the ' +\n",
              "            '<a target=\"_blank\" href=https://colab.research.google.com/notebooks/data_table.ipynb>data table notebook</a>'\n",
              "            + ' to learn more about interactive tables.';\n",
              "          element.innerHTML = '';\n",
              "          dataTable['output_type'] = 'display_data';\n",
              "          await google.colab.output.renderOutput(dataTable, element);\n",
              "          const docLink = document.createElement('div');\n",
              "          docLink.innerHTML = docLinkHtml;\n",
              "          element.appendChild(docLink);\n",
              "        }\n",
              "      </script>\n",
              "    </div>\n",
              "  </div>\n",
              "  "
            ]
          },
          "metadata": {},
          "execution_count": 17
        }
      ]
    },
    {
      "cell_type": "markdown",
      "source": [
        "# Divisas"
      ],
      "metadata": {
        "id": "4uPm1DNW3nzW"
      }
    },
    {
      "cell_type": "markdown",
      "source": [
        "1500 dólares (peso dolar), 700 euros, y -600 libras esterlinas"
      ],
      "metadata": {
        "id": "2DA9kcjc5LQG"
      }
    },
    {
      "cell_type": "markdown",
      "source": [
        "Primero obtenemos el valor de cada Divisa en la fecha de Valoración"
      ],
      "metadata": {
        "id": "3Atj6m4egSL3"
      }
    },
    {
      "cell_type": "code",
      "source": [
        "fecha_valoracion = '2023-03-10'\n",
        "acciones = ['USDMXN=X', 'EURMXN=X', 'GBPMXN=X']\n",
        "posiciones = [1500, 700, -600]\n",
        "alpha = 0.98\n",
        "\n",
        "stock_data = yf.download(acciones, end = fecha_valoracion)\n",
        "X=stock_data.Close\n",
        "X = X.dropna()\n",
        "X = X[::-1]\n",
        "X0 = X.head(1)\n",
        "X0\n",
        "DeltaX = (X.shift(1)/X)-1\n",
        "DeltaX.iloc[0,:] = 0\n",
        "X_s = X0.values*(1+DeltaX)\n",
        "posiciones = pd.Series(posiciones,index = acciones)\n",
        "PL = (X_s-X0.values[0])*posiciones\n",
        "PL['Total']=PL.sum(axis=1)\n",
        "vector_VaR = [PL.iloc[:,i].quantile(1-alpha) for i in range(len(acciones))]\n",
        "vector_VaR\n",
        "VaR = pd.Series(vector_VaR,index = acciones)\n",
        "VaR = PL.quantile(alpha,numeric_only = True)\n",
        "VaR"
      ],
      "metadata": {
        "colab": {
          "base_uri": "https://localhost:8080/"
        },
        "id": "R7zYQ8kxbWqp",
        "outputId": "2d424645-3dd7-4261-f6bb-0a070ec3d550"
      },
      "execution_count": 18,
      "outputs": [
        {
          "output_type": "stream",
          "name": "stdout",
          "text": [
            "[*********************100%***********************]  3 of 3 completed\n"
          ]
        },
        {
          "output_type": "execute_result",
          "data": {
            "text/plain": [
              "EURMXN=X    287.005379\n",
              "GBPMXN=X    209.447395\n",
              "USDMXN=X    470.193913\n",
              "Total       508.435615\n",
              "Name: 0.98, dtype: float64"
            ]
          },
          "metadata": {},
          "execution_count": 18
        }
      ]
    },
    {
      "cell_type": "code",
      "source": [
        "#Multiplicamos por el número de posiciones para obtener el valor total\n",
        "X0*posiciones"
      ],
      "metadata": {
        "colab": {
          "base_uri": "https://localhost:8080/",
          "height": 112
        },
        "id": "by97Ux_-281F",
        "outputId": "4c825e58-df2e-4c17-fe66-b4b863dfd4e9"
      },
      "execution_count": 19,
      "outputs": [
        {
          "output_type": "execute_result",
          "data": {
            "text/plain": [
              "                EURMXN=X      GBPMXN=X      USDMXN=X\n",
              "Date                                                \n",
              "2023-03-09  13269.620132 -12776.580048  26956.126213"
            ],
            "text/html": [
              "\n",
              "  <div id=\"df-2c898b1d-175e-420e-a438-fd538c4986f8\">\n",
              "    <div class=\"colab-df-container\">\n",
              "      <div>\n",
              "<style scoped>\n",
              "    .dataframe tbody tr th:only-of-type {\n",
              "        vertical-align: middle;\n",
              "    }\n",
              "\n",
              "    .dataframe tbody tr th {\n",
              "        vertical-align: top;\n",
              "    }\n",
              "\n",
              "    .dataframe thead th {\n",
              "        text-align: right;\n",
              "    }\n",
              "</style>\n",
              "<table border=\"1\" class=\"dataframe\">\n",
              "  <thead>\n",
              "    <tr style=\"text-align: right;\">\n",
              "      <th></th>\n",
              "      <th>EURMXN=X</th>\n",
              "      <th>GBPMXN=X</th>\n",
              "      <th>USDMXN=X</th>\n",
              "    </tr>\n",
              "    <tr>\n",
              "      <th>Date</th>\n",
              "      <th></th>\n",
              "      <th></th>\n",
              "      <th></th>\n",
              "    </tr>\n",
              "  </thead>\n",
              "  <tbody>\n",
              "    <tr>\n",
              "      <th>2023-03-09</th>\n",
              "      <td>13269.620132</td>\n",
              "      <td>-12776.580048</td>\n",
              "      <td>26956.126213</td>\n",
              "    </tr>\n",
              "  </tbody>\n",
              "</table>\n",
              "</div>\n",
              "      <button class=\"colab-df-convert\" onclick=\"convertToInteractive('df-2c898b1d-175e-420e-a438-fd538c4986f8')\"\n",
              "              title=\"Convert this dataframe to an interactive table.\"\n",
              "              style=\"display:none;\">\n",
              "        \n",
              "  <svg xmlns=\"http://www.w3.org/2000/svg\" height=\"24px\"viewBox=\"0 0 24 24\"\n",
              "       width=\"24px\">\n",
              "    <path d=\"M0 0h24v24H0V0z\" fill=\"none\"/>\n",
              "    <path d=\"M18.56 5.44l.94 2.06.94-2.06 2.06-.94-2.06-.94-.94-2.06-.94 2.06-2.06.94zm-11 1L8.5 8.5l.94-2.06 2.06-.94-2.06-.94L8.5 2.5l-.94 2.06-2.06.94zm10 10l.94 2.06.94-2.06 2.06-.94-2.06-.94-.94-2.06-.94 2.06-2.06.94z\"/><path d=\"M17.41 7.96l-1.37-1.37c-.4-.4-.92-.59-1.43-.59-.52 0-1.04.2-1.43.59L10.3 9.45l-7.72 7.72c-.78.78-.78 2.05 0 2.83L4 21.41c.39.39.9.59 1.41.59.51 0 1.02-.2 1.41-.59l7.78-7.78 2.81-2.81c.8-.78.8-2.07 0-2.86zM5.41 20L4 18.59l7.72-7.72 1.47 1.35L5.41 20z\"/>\n",
              "  </svg>\n",
              "      </button>\n",
              "      \n",
              "  <style>\n",
              "    .colab-df-container {\n",
              "      display:flex;\n",
              "      flex-wrap:wrap;\n",
              "      gap: 12px;\n",
              "    }\n",
              "\n",
              "    .colab-df-convert {\n",
              "      background-color: #E8F0FE;\n",
              "      border: none;\n",
              "      border-radius: 50%;\n",
              "      cursor: pointer;\n",
              "      display: none;\n",
              "      fill: #1967D2;\n",
              "      height: 32px;\n",
              "      padding: 0 0 0 0;\n",
              "      width: 32px;\n",
              "    }\n",
              "\n",
              "    .colab-df-convert:hover {\n",
              "      background-color: #E2EBFA;\n",
              "      box-shadow: 0px 1px 2px rgba(60, 64, 67, 0.3), 0px 1px 3px 1px rgba(60, 64, 67, 0.15);\n",
              "      fill: #174EA6;\n",
              "    }\n",
              "\n",
              "    [theme=dark] .colab-df-convert {\n",
              "      background-color: #3B4455;\n",
              "      fill: #D2E3FC;\n",
              "    }\n",
              "\n",
              "    [theme=dark] .colab-df-convert:hover {\n",
              "      background-color: #434B5C;\n",
              "      box-shadow: 0px 1px 3px 1px rgba(0, 0, 0, 0.15);\n",
              "      filter: drop-shadow(0px 1px 2px rgba(0, 0, 0, 0.3));\n",
              "      fill: #FFFFFF;\n",
              "    }\n",
              "  </style>\n",
              "\n",
              "      <script>\n",
              "        const buttonEl =\n",
              "          document.querySelector('#df-2c898b1d-175e-420e-a438-fd538c4986f8 button.colab-df-convert');\n",
              "        buttonEl.style.display =\n",
              "          google.colab.kernel.accessAllowed ? 'block' : 'none';\n",
              "\n",
              "        async function convertToInteractive(key) {\n",
              "          const element = document.querySelector('#df-2c898b1d-175e-420e-a438-fd538c4986f8');\n",
              "          const dataTable =\n",
              "            await google.colab.kernel.invokeFunction('convertToInteractive',\n",
              "                                                     [key], {});\n",
              "          if (!dataTable) return;\n",
              "\n",
              "          const docLinkHtml = 'Like what you see? Visit the ' +\n",
              "            '<a target=\"_blank\" href=https://colab.research.google.com/notebooks/data_table.ipynb>data table notebook</a>'\n",
              "            + ' to learn more about interactive tables.';\n",
              "          element.innerHTML = '';\n",
              "          dataTable['output_type'] = 'display_data';\n",
              "          await google.colab.output.renderOutput(dataTable, element);\n",
              "          const docLink = document.createElement('div');\n",
              "          docLink.innerHTML = docLinkHtml;\n",
              "          element.appendChild(docLink);\n",
              "        }\n",
              "      </script>\n",
              "    </div>\n",
              "  </div>\n",
              "  "
            ]
          },
          "metadata": {},
          "execution_count": 19
        }
      ]
    },
    {
      "cell_type": "code",
      "source": [
        "# Utilizamos la clase\n",
        "Divisas=Riesgo_Equity_FX()"
      ],
      "metadata": {
        "id": "emeUURe53VH-"
      },
      "execution_count": 20,
      "outputs": []
    },
    {
      "cell_type": "markdown",
      "source": [
        "## Sin alisado"
      ],
      "metadata": {
        "id": "V5U4_eL855qE"
      }
    },
    {
      "cell_type": "code",
      "source": [
        " Divisas.compute(['USDMXN=X', 'EURMXN=X', 'GBPMXN=X'], [1500, 700, -600], '2023-03-10', alisado=False) "
      ],
      "metadata": {
        "colab": {
          "base_uri": "https://localhost:8080/"
        },
        "id": "jErPik4s55GI",
        "outputId": "0a86e9cf-d037-4b5d-b866-1b1af82c27c7"
      },
      "execution_count": 21,
      "outputs": [
        {
          "output_type": "stream",
          "name": "stdout",
          "text": [
            "[*********************100%***********************]  3 of 3 completed\n"
          ]
        }
      ]
    },
    {
      "cell_type": "code",
      "source": [
        "Divisas.summary"
      ],
      "metadata": {
        "colab": {
          "base_uri": "https://localhost:8080/",
          "height": 174
        },
        "id": "IIlgv7Cv8Fds",
        "outputId": "a70e82d3-41c3-4431-8785-072d8bbc51b8"
      },
      "execution_count": 22,
      "outputs": [
        {
          "output_type": "execute_result",
          "data": {
            "text/plain": [
              "                 VaR        CVaR\n",
              "EURMXN=X  287.005379  417.217270\n",
              "GBPMXN=X  209.447395  278.102401\n",
              "USDMXN=X  470.193913  722.202763\n",
              "Total     508.435615  765.503432"
            ],
            "text/html": [
              "\n",
              "  <div id=\"df-08690a2a-262f-4446-9f2c-618e768ca4ef\">\n",
              "    <div class=\"colab-df-container\">\n",
              "      <div>\n",
              "<style scoped>\n",
              "    .dataframe tbody tr th:only-of-type {\n",
              "        vertical-align: middle;\n",
              "    }\n",
              "\n",
              "    .dataframe tbody tr th {\n",
              "        vertical-align: top;\n",
              "    }\n",
              "\n",
              "    .dataframe thead th {\n",
              "        text-align: right;\n",
              "    }\n",
              "</style>\n",
              "<table border=\"1\" class=\"dataframe\">\n",
              "  <thead>\n",
              "    <tr style=\"text-align: right;\">\n",
              "      <th></th>\n",
              "      <th>VaR</th>\n",
              "      <th>CVaR</th>\n",
              "    </tr>\n",
              "  </thead>\n",
              "  <tbody>\n",
              "    <tr>\n",
              "      <th>EURMXN=X</th>\n",
              "      <td>287.005379</td>\n",
              "      <td>417.217270</td>\n",
              "    </tr>\n",
              "    <tr>\n",
              "      <th>GBPMXN=X</th>\n",
              "      <td>209.447395</td>\n",
              "      <td>278.102401</td>\n",
              "    </tr>\n",
              "    <tr>\n",
              "      <th>USDMXN=X</th>\n",
              "      <td>470.193913</td>\n",
              "      <td>722.202763</td>\n",
              "    </tr>\n",
              "    <tr>\n",
              "      <th>Total</th>\n",
              "      <td>508.435615</td>\n",
              "      <td>765.503432</td>\n",
              "    </tr>\n",
              "  </tbody>\n",
              "</table>\n",
              "</div>\n",
              "      <button class=\"colab-df-convert\" onclick=\"convertToInteractive('df-08690a2a-262f-4446-9f2c-618e768ca4ef')\"\n",
              "              title=\"Convert this dataframe to an interactive table.\"\n",
              "              style=\"display:none;\">\n",
              "        \n",
              "  <svg xmlns=\"http://www.w3.org/2000/svg\" height=\"24px\"viewBox=\"0 0 24 24\"\n",
              "       width=\"24px\">\n",
              "    <path d=\"M0 0h24v24H0V0z\" fill=\"none\"/>\n",
              "    <path d=\"M18.56 5.44l.94 2.06.94-2.06 2.06-.94-2.06-.94-.94-2.06-.94 2.06-2.06.94zm-11 1L8.5 8.5l.94-2.06 2.06-.94-2.06-.94L8.5 2.5l-.94 2.06-2.06.94zm10 10l.94 2.06.94-2.06 2.06-.94-2.06-.94-.94-2.06-.94 2.06-2.06.94z\"/><path d=\"M17.41 7.96l-1.37-1.37c-.4-.4-.92-.59-1.43-.59-.52 0-1.04.2-1.43.59L10.3 9.45l-7.72 7.72c-.78.78-.78 2.05 0 2.83L4 21.41c.39.39.9.59 1.41.59.51 0 1.02-.2 1.41-.59l7.78-7.78 2.81-2.81c.8-.78.8-2.07 0-2.86zM5.41 20L4 18.59l7.72-7.72 1.47 1.35L5.41 20z\"/>\n",
              "  </svg>\n",
              "      </button>\n",
              "      \n",
              "  <style>\n",
              "    .colab-df-container {\n",
              "      display:flex;\n",
              "      flex-wrap:wrap;\n",
              "      gap: 12px;\n",
              "    }\n",
              "\n",
              "    .colab-df-convert {\n",
              "      background-color: #E8F0FE;\n",
              "      border: none;\n",
              "      border-radius: 50%;\n",
              "      cursor: pointer;\n",
              "      display: none;\n",
              "      fill: #1967D2;\n",
              "      height: 32px;\n",
              "      padding: 0 0 0 0;\n",
              "      width: 32px;\n",
              "    }\n",
              "\n",
              "    .colab-df-convert:hover {\n",
              "      background-color: #E2EBFA;\n",
              "      box-shadow: 0px 1px 2px rgba(60, 64, 67, 0.3), 0px 1px 3px 1px rgba(60, 64, 67, 0.15);\n",
              "      fill: #174EA6;\n",
              "    }\n",
              "\n",
              "    [theme=dark] .colab-df-convert {\n",
              "      background-color: #3B4455;\n",
              "      fill: #D2E3FC;\n",
              "    }\n",
              "\n",
              "    [theme=dark] .colab-df-convert:hover {\n",
              "      background-color: #434B5C;\n",
              "      box-shadow: 0px 1px 3px 1px rgba(0, 0, 0, 0.15);\n",
              "      filter: drop-shadow(0px 1px 2px rgba(0, 0, 0, 0.3));\n",
              "      fill: #FFFFFF;\n",
              "    }\n",
              "  </style>\n",
              "\n",
              "      <script>\n",
              "        const buttonEl =\n",
              "          document.querySelector('#df-08690a2a-262f-4446-9f2c-618e768ca4ef button.colab-df-convert');\n",
              "        buttonEl.style.display =\n",
              "          google.colab.kernel.accessAllowed ? 'block' : 'none';\n",
              "\n",
              "        async function convertToInteractive(key) {\n",
              "          const element = document.querySelector('#df-08690a2a-262f-4446-9f2c-618e768ca4ef');\n",
              "          const dataTable =\n",
              "            await google.colab.kernel.invokeFunction('convertToInteractive',\n",
              "                                                     [key], {});\n",
              "          if (!dataTable) return;\n",
              "\n",
              "          const docLinkHtml = 'Like what you see? Visit the ' +\n",
              "            '<a target=\"_blank\" href=https://colab.research.google.com/notebooks/data_table.ipynb>data table notebook</a>'\n",
              "            + ' to learn more about interactive tables.';\n",
              "          element.innerHTML = '';\n",
              "          dataTable['output_type'] = 'display_data';\n",
              "          await google.colab.output.renderOutput(dataTable, element);\n",
              "          const docLink = document.createElement('div');\n",
              "          docLink.innerHTML = docLinkHtml;\n",
              "          element.appendChild(docLink);\n",
              "        }\n",
              "      </script>\n",
              "    </div>\n",
              "  </div>\n",
              "  "
            ]
          },
          "metadata": {},
          "execution_count": 22
        }
      ]
    },
    {
      "cell_type": "markdown",
      "source": [
        "## Con Alisado "
      ],
      "metadata": {
        "id": "3VhDZRuYAKaX"
      }
    },
    {
      "cell_type": "code",
      "source": [
        "Divisas.compute(['USDMXN=X', 'EURMXN=X', 'GBPMXN=X'], [1500, 700, -600], '2023-03-10', alisado=True) \n"
      ],
      "metadata": {
        "colab": {
          "base_uri": "https://localhost:8080/"
        },
        "id": "CNPNA9NFAGtO",
        "outputId": "08a25290-84ec-44cd-eaec-9dcaf96cb06b"
      },
      "execution_count": 23,
      "outputs": [
        {
          "output_type": "stream",
          "name": "stdout",
          "text": [
            "[*********************100%***********************]  3 of 3 completed\n"
          ]
        }
      ]
    },
    {
      "cell_type": "code",
      "source": [
        "Divisas.summary"
      ],
      "metadata": {
        "colab": {
          "base_uri": "https://localhost:8080/",
          "height": 174
        },
        "id": "N-dTL_VqAze2",
        "outputId": "9c4397c8-c1ff-4780-926f-b74e14976729"
      },
      "execution_count": 24,
      "outputs": [
        {
          "output_type": "execute_result",
          "data": {
            "text/plain": [
              "                 VaR        CVaR\n",
              "EURMXN=X  129.969972  231.919690\n",
              "GBPMXN=X  162.190199  230.232397\n",
              "USDMXN=X  336.287053  523.525814\n",
              "Total     345.916134  536.414324"
            ],
            "text/html": [
              "\n",
              "  <div id=\"df-783ecebb-7f98-48a7-a94c-6a20cdebaedd\">\n",
              "    <div class=\"colab-df-container\">\n",
              "      <div>\n",
              "<style scoped>\n",
              "    .dataframe tbody tr th:only-of-type {\n",
              "        vertical-align: middle;\n",
              "    }\n",
              "\n",
              "    .dataframe tbody tr th {\n",
              "        vertical-align: top;\n",
              "    }\n",
              "\n",
              "    .dataframe thead th {\n",
              "        text-align: right;\n",
              "    }\n",
              "</style>\n",
              "<table border=\"1\" class=\"dataframe\">\n",
              "  <thead>\n",
              "    <tr style=\"text-align: right;\">\n",
              "      <th></th>\n",
              "      <th>VaR</th>\n",
              "      <th>CVaR</th>\n",
              "    </tr>\n",
              "  </thead>\n",
              "  <tbody>\n",
              "    <tr>\n",
              "      <th>EURMXN=X</th>\n",
              "      <td>129.969972</td>\n",
              "      <td>231.919690</td>\n",
              "    </tr>\n",
              "    <tr>\n",
              "      <th>GBPMXN=X</th>\n",
              "      <td>162.190199</td>\n",
              "      <td>230.232397</td>\n",
              "    </tr>\n",
              "    <tr>\n",
              "      <th>USDMXN=X</th>\n",
              "      <td>336.287053</td>\n",
              "      <td>523.525814</td>\n",
              "    </tr>\n",
              "    <tr>\n",
              "      <th>Total</th>\n",
              "      <td>345.916134</td>\n",
              "      <td>536.414324</td>\n",
              "    </tr>\n",
              "  </tbody>\n",
              "</table>\n",
              "</div>\n",
              "      <button class=\"colab-df-convert\" onclick=\"convertToInteractive('df-783ecebb-7f98-48a7-a94c-6a20cdebaedd')\"\n",
              "              title=\"Convert this dataframe to an interactive table.\"\n",
              "              style=\"display:none;\">\n",
              "        \n",
              "  <svg xmlns=\"http://www.w3.org/2000/svg\" height=\"24px\"viewBox=\"0 0 24 24\"\n",
              "       width=\"24px\">\n",
              "    <path d=\"M0 0h24v24H0V0z\" fill=\"none\"/>\n",
              "    <path d=\"M18.56 5.44l.94 2.06.94-2.06 2.06-.94-2.06-.94-.94-2.06-.94 2.06-2.06.94zm-11 1L8.5 8.5l.94-2.06 2.06-.94-2.06-.94L8.5 2.5l-.94 2.06-2.06.94zm10 10l.94 2.06.94-2.06 2.06-.94-2.06-.94-.94-2.06-.94 2.06-2.06.94z\"/><path d=\"M17.41 7.96l-1.37-1.37c-.4-.4-.92-.59-1.43-.59-.52 0-1.04.2-1.43.59L10.3 9.45l-7.72 7.72c-.78.78-.78 2.05 0 2.83L4 21.41c.39.39.9.59 1.41.59.51 0 1.02-.2 1.41-.59l7.78-7.78 2.81-2.81c.8-.78.8-2.07 0-2.86zM5.41 20L4 18.59l7.72-7.72 1.47 1.35L5.41 20z\"/>\n",
              "  </svg>\n",
              "      </button>\n",
              "      \n",
              "  <style>\n",
              "    .colab-df-container {\n",
              "      display:flex;\n",
              "      flex-wrap:wrap;\n",
              "      gap: 12px;\n",
              "    }\n",
              "\n",
              "    .colab-df-convert {\n",
              "      background-color: #E8F0FE;\n",
              "      border: none;\n",
              "      border-radius: 50%;\n",
              "      cursor: pointer;\n",
              "      display: none;\n",
              "      fill: #1967D2;\n",
              "      height: 32px;\n",
              "      padding: 0 0 0 0;\n",
              "      width: 32px;\n",
              "    }\n",
              "\n",
              "    .colab-df-convert:hover {\n",
              "      background-color: #E2EBFA;\n",
              "      box-shadow: 0px 1px 2px rgba(60, 64, 67, 0.3), 0px 1px 3px 1px rgba(60, 64, 67, 0.15);\n",
              "      fill: #174EA6;\n",
              "    }\n",
              "\n",
              "    [theme=dark] .colab-df-convert {\n",
              "      background-color: #3B4455;\n",
              "      fill: #D2E3FC;\n",
              "    }\n",
              "\n",
              "    [theme=dark] .colab-df-convert:hover {\n",
              "      background-color: #434B5C;\n",
              "      box-shadow: 0px 1px 3px 1px rgba(0, 0, 0, 0.15);\n",
              "      filter: drop-shadow(0px 1px 2px rgba(0, 0, 0, 0.3));\n",
              "      fill: #FFFFFF;\n",
              "    }\n",
              "  </style>\n",
              "\n",
              "      <script>\n",
              "        const buttonEl =\n",
              "          document.querySelector('#df-783ecebb-7f98-48a7-a94c-6a20cdebaedd button.colab-df-convert');\n",
              "        buttonEl.style.display =\n",
              "          google.colab.kernel.accessAllowed ? 'block' : 'none';\n",
              "\n",
              "        async function convertToInteractive(key) {\n",
              "          const element = document.querySelector('#df-783ecebb-7f98-48a7-a94c-6a20cdebaedd');\n",
              "          const dataTable =\n",
              "            await google.colab.kernel.invokeFunction('convertToInteractive',\n",
              "                                                     [key], {});\n",
              "          if (!dataTable) return;\n",
              "\n",
              "          const docLinkHtml = 'Like what you see? Visit the ' +\n",
              "            '<a target=\"_blank\" href=https://colab.research.google.com/notebooks/data_table.ipynb>data table notebook</a>'\n",
              "            + ' to learn more about interactive tables.';\n",
              "          element.innerHTML = '';\n",
              "          dataTable['output_type'] = 'display_data';\n",
              "          await google.colab.output.renderOutput(dataTable, element);\n",
              "          const docLink = document.createElement('div');\n",
              "          docLink.innerHTML = docLinkHtml;\n",
              "          element.appendChild(docLink);\n",
              "        }\n",
              "      </script>\n",
              "    </div>\n",
              "  </div>\n",
              "  "
            ]
          },
          "metadata": {},
          "execution_count": 24
        }
      ]
    },
    {
      "cell_type": "markdown",
      "source": [
        "# Bonos"
      ],
      "metadata": {
        "id": "gCv7cQHJZ_hj"
      }
    },
    {
      "cell_type": "markdown",
      "source": [
        "2 bonos largos, uno cupón cero de cetes (con la curva guber) con nocional de 1500 vencimiento de 180 días, un bono M con tasa fija de 6.5% con un cupon de 6.05% anual vencimiento de 3600 días y nocional de 1000, y un bono corto 1000 bondes con plazo 707 con cupón que paga 28 días (calcular cupón basado en curva de fondeo y descontar con la curva correspondiente)."
      ],
      "metadata": {
        "id": "059dOs9VaGhE"
      }
    },
    {
      "cell_type": "markdown",
      "source": [
        "## CETES"
      ],
      "metadata": {
        "id": "yJEL_ePri0wz"
      }
    },
    {
      "cell_type": "code",
      "source": [
        "def Cete(tasa, t): # días del bono t = (fecha_entrega - fecha_valoración).days\n",
        "  return 10/(1 + tasa*(t/360))"
      ],
      "metadata": {
        "id": "DDjH6VO8alpr"
      },
      "execution_count": 25,
      "outputs": []
    },
    {
      "cell_type": "code",
      "source": [
        "data_guber = \"Tarea1-AdRF/tasa_guber_st.txt\"\n",
        "df= pd.read_table(data_guber)\n",
        "df.head()\n",
        "tasa_cete=df.iloc[0][5]\n",
        "tasa_cete\n",
        "\n"
      ],
      "metadata": {
        "colab": {
          "base_uri": "https://localhost:8080/"
        },
        "id": "JlFAcmqZanOh",
        "outputId": "627f84c9-5b81-490a-a088-c078c2810e72"
      },
      "execution_count": 26,
      "outputs": [
        {
          "output_type": "execute_result",
          "data": {
            "text/plain": [
              "0.02546244"
            ]
          },
          "metadata": {},
          "execution_count": 26
        }
      ]
    },
    {
      "cell_type": "code",
      "source": [
        "# Muestra del valor histórico de las tasas del CETE\n",
        "df.head()"
      ],
      "metadata": {
        "colab": {
          "base_uri": "https://localhost:8080/",
          "height": 299
        },
        "id": "JkhmGUPSwNXK",
        "outputId": "bbdb18f1-20b1-433b-fc03-e64cf5b72e55"
      },
      "execution_count": 27,
      "outputs": [
        {
          "output_type": "execute_result",
          "data": {
            "text/plain": [
              "       DATE         1         7        30        90       180       270  \\\n",
              "0  20230228  0.024102  0.024112  0.024151  0.024752  0.025462  0.026221   \n",
              "1  20230227  0.023542  0.024112  0.024151  0.024695  0.025521  0.026221   \n",
              "2  20230224  0.023542  0.024112  0.024262  0.024752  0.025346  0.026161   \n",
              "3  20230223  0.023820  0.024112  0.024262  0.024752  0.025346  0.026161   \n",
              "4  20230222  0.023542  0.024112  0.024262  0.024922  0.025637  0.026573   \n",
              "\n",
              "        360       720      1080  ...      1800      2160      2520      2880  \\\n",
              "0  0.026904  0.029372  0.031364  ...  0.033511  0.034364  0.035266  0.036094   \n",
              "1  0.026965  0.029299  0.031218  ...  0.033510  0.033908  0.034854  0.035929   \n",
              "2  0.026965  0.029298  0.031449  ...  0.033871  0.034074  0.034800  0.036177   \n",
              "3  0.026965  0.029036  0.030921  ...  0.032900  0.033412  0.034000  0.035356   \n",
              "4  0.027273  0.029469  0.031715  ...  0.034136  0.034559  0.035129  0.036454   \n",
              "\n",
              "       3240      3600      5400      7200      9000     10800  \n",
              "0  0.036941  0.037818  0.042174  0.045842  0.050106  0.054879  \n",
              "1  0.037087  0.038289  0.041826  0.046116  0.048545  0.055219  \n",
              "2  0.037613  0.038624  0.041508  0.045154  0.046868  0.052302  \n",
              "3  0.036746  0.037398  0.040464  0.042949  0.046149  0.049407  \n",
              "4  0.037809  0.038484  0.041525  0.043672  0.044949  0.050585  \n",
              "\n",
              "[5 rows x 21 columns]"
            ],
            "text/html": [
              "\n",
              "  <div id=\"df-70528cb7-ac4d-42fd-bf6e-cd629e163113\">\n",
              "    <div class=\"colab-df-container\">\n",
              "      <div>\n",
              "<style scoped>\n",
              "    .dataframe tbody tr th:only-of-type {\n",
              "        vertical-align: middle;\n",
              "    }\n",
              "\n",
              "    .dataframe tbody tr th {\n",
              "        vertical-align: top;\n",
              "    }\n",
              "\n",
              "    .dataframe thead th {\n",
              "        text-align: right;\n",
              "    }\n",
              "</style>\n",
              "<table border=\"1\" class=\"dataframe\">\n",
              "  <thead>\n",
              "    <tr style=\"text-align: right;\">\n",
              "      <th></th>\n",
              "      <th>DATE</th>\n",
              "      <th>1</th>\n",
              "      <th>7</th>\n",
              "      <th>30</th>\n",
              "      <th>90</th>\n",
              "      <th>180</th>\n",
              "      <th>270</th>\n",
              "      <th>360</th>\n",
              "      <th>720</th>\n",
              "      <th>1080</th>\n",
              "      <th>...</th>\n",
              "      <th>1800</th>\n",
              "      <th>2160</th>\n",
              "      <th>2520</th>\n",
              "      <th>2880</th>\n",
              "      <th>3240</th>\n",
              "      <th>3600</th>\n",
              "      <th>5400</th>\n",
              "      <th>7200</th>\n",
              "      <th>9000</th>\n",
              "      <th>10800</th>\n",
              "    </tr>\n",
              "  </thead>\n",
              "  <tbody>\n",
              "    <tr>\n",
              "      <th>0</th>\n",
              "      <td>20230228</td>\n",
              "      <td>0.024102</td>\n",
              "      <td>0.024112</td>\n",
              "      <td>0.024151</td>\n",
              "      <td>0.024752</td>\n",
              "      <td>0.025462</td>\n",
              "      <td>0.026221</td>\n",
              "      <td>0.026904</td>\n",
              "      <td>0.029372</td>\n",
              "      <td>0.031364</td>\n",
              "      <td>...</td>\n",
              "      <td>0.033511</td>\n",
              "      <td>0.034364</td>\n",
              "      <td>0.035266</td>\n",
              "      <td>0.036094</td>\n",
              "      <td>0.036941</td>\n",
              "      <td>0.037818</td>\n",
              "      <td>0.042174</td>\n",
              "      <td>0.045842</td>\n",
              "      <td>0.050106</td>\n",
              "      <td>0.054879</td>\n",
              "    </tr>\n",
              "    <tr>\n",
              "      <th>1</th>\n",
              "      <td>20230227</td>\n",
              "      <td>0.023542</td>\n",
              "      <td>0.024112</td>\n",
              "      <td>0.024151</td>\n",
              "      <td>0.024695</td>\n",
              "      <td>0.025521</td>\n",
              "      <td>0.026221</td>\n",
              "      <td>0.026965</td>\n",
              "      <td>0.029299</td>\n",
              "      <td>0.031218</td>\n",
              "      <td>...</td>\n",
              "      <td>0.033510</td>\n",
              "      <td>0.033908</td>\n",
              "      <td>0.034854</td>\n",
              "      <td>0.035929</td>\n",
              "      <td>0.037087</td>\n",
              "      <td>0.038289</td>\n",
              "      <td>0.041826</td>\n",
              "      <td>0.046116</td>\n",
              "      <td>0.048545</td>\n",
              "      <td>0.055219</td>\n",
              "    </tr>\n",
              "    <tr>\n",
              "      <th>2</th>\n",
              "      <td>20230224</td>\n",
              "      <td>0.023542</td>\n",
              "      <td>0.024112</td>\n",
              "      <td>0.024262</td>\n",
              "      <td>0.024752</td>\n",
              "      <td>0.025346</td>\n",
              "      <td>0.026161</td>\n",
              "      <td>0.026965</td>\n",
              "      <td>0.029298</td>\n",
              "      <td>0.031449</td>\n",
              "      <td>...</td>\n",
              "      <td>0.033871</td>\n",
              "      <td>0.034074</td>\n",
              "      <td>0.034800</td>\n",
              "      <td>0.036177</td>\n",
              "      <td>0.037613</td>\n",
              "      <td>0.038624</td>\n",
              "      <td>0.041508</td>\n",
              "      <td>0.045154</td>\n",
              "      <td>0.046868</td>\n",
              "      <td>0.052302</td>\n",
              "    </tr>\n",
              "    <tr>\n",
              "      <th>3</th>\n",
              "      <td>20230223</td>\n",
              "      <td>0.023820</td>\n",
              "      <td>0.024112</td>\n",
              "      <td>0.024262</td>\n",
              "      <td>0.024752</td>\n",
              "      <td>0.025346</td>\n",
              "      <td>0.026161</td>\n",
              "      <td>0.026965</td>\n",
              "      <td>0.029036</td>\n",
              "      <td>0.030921</td>\n",
              "      <td>...</td>\n",
              "      <td>0.032900</td>\n",
              "      <td>0.033412</td>\n",
              "      <td>0.034000</td>\n",
              "      <td>0.035356</td>\n",
              "      <td>0.036746</td>\n",
              "      <td>0.037398</td>\n",
              "      <td>0.040464</td>\n",
              "      <td>0.042949</td>\n",
              "      <td>0.046149</td>\n",
              "      <td>0.049407</td>\n",
              "    </tr>\n",
              "    <tr>\n",
              "      <th>4</th>\n",
              "      <td>20230222</td>\n",
              "      <td>0.023542</td>\n",
              "      <td>0.024112</td>\n",
              "      <td>0.024262</td>\n",
              "      <td>0.024922</td>\n",
              "      <td>0.025637</td>\n",
              "      <td>0.026573</td>\n",
              "      <td>0.027273</td>\n",
              "      <td>0.029469</td>\n",
              "      <td>0.031715</td>\n",
              "      <td>...</td>\n",
              "      <td>0.034136</td>\n",
              "      <td>0.034559</td>\n",
              "      <td>0.035129</td>\n",
              "      <td>0.036454</td>\n",
              "      <td>0.037809</td>\n",
              "      <td>0.038484</td>\n",
              "      <td>0.041525</td>\n",
              "      <td>0.043672</td>\n",
              "      <td>0.044949</td>\n",
              "      <td>0.050585</td>\n",
              "    </tr>\n",
              "  </tbody>\n",
              "</table>\n",
              "<p>5 rows × 21 columns</p>\n",
              "</div>\n",
              "      <button class=\"colab-df-convert\" onclick=\"convertToInteractive('df-70528cb7-ac4d-42fd-bf6e-cd629e163113')\"\n",
              "              title=\"Convert this dataframe to an interactive table.\"\n",
              "              style=\"display:none;\">\n",
              "        \n",
              "  <svg xmlns=\"http://www.w3.org/2000/svg\" height=\"24px\"viewBox=\"0 0 24 24\"\n",
              "       width=\"24px\">\n",
              "    <path d=\"M0 0h24v24H0V0z\" fill=\"none\"/>\n",
              "    <path d=\"M18.56 5.44l.94 2.06.94-2.06 2.06-.94-2.06-.94-.94-2.06-.94 2.06-2.06.94zm-11 1L8.5 8.5l.94-2.06 2.06-.94-2.06-.94L8.5 2.5l-.94 2.06-2.06.94zm10 10l.94 2.06.94-2.06 2.06-.94-2.06-.94-.94-2.06-.94 2.06-2.06.94z\"/><path d=\"M17.41 7.96l-1.37-1.37c-.4-.4-.92-.59-1.43-.59-.52 0-1.04.2-1.43.59L10.3 9.45l-7.72 7.72c-.78.78-.78 2.05 0 2.83L4 21.41c.39.39.9.59 1.41.59.51 0 1.02-.2 1.41-.59l7.78-7.78 2.81-2.81c.8-.78.8-2.07 0-2.86zM5.41 20L4 18.59l7.72-7.72 1.47 1.35L5.41 20z\"/>\n",
              "  </svg>\n",
              "      </button>\n",
              "      \n",
              "  <style>\n",
              "    .colab-df-container {\n",
              "      display:flex;\n",
              "      flex-wrap:wrap;\n",
              "      gap: 12px;\n",
              "    }\n",
              "\n",
              "    .colab-df-convert {\n",
              "      background-color: #E8F0FE;\n",
              "      border: none;\n",
              "      border-radius: 50%;\n",
              "      cursor: pointer;\n",
              "      display: none;\n",
              "      fill: #1967D2;\n",
              "      height: 32px;\n",
              "      padding: 0 0 0 0;\n",
              "      width: 32px;\n",
              "    }\n",
              "\n",
              "    .colab-df-convert:hover {\n",
              "      background-color: #E2EBFA;\n",
              "      box-shadow: 0px 1px 2px rgba(60, 64, 67, 0.3), 0px 1px 3px 1px rgba(60, 64, 67, 0.15);\n",
              "      fill: #174EA6;\n",
              "    }\n",
              "\n",
              "    [theme=dark] .colab-df-convert {\n",
              "      background-color: #3B4455;\n",
              "      fill: #D2E3FC;\n",
              "    }\n",
              "\n",
              "    [theme=dark] .colab-df-convert:hover {\n",
              "      background-color: #434B5C;\n",
              "      box-shadow: 0px 1px 3px 1px rgba(0, 0, 0, 0.15);\n",
              "      filter: drop-shadow(0px 1px 2px rgba(0, 0, 0, 0.3));\n",
              "      fill: #FFFFFF;\n",
              "    }\n",
              "  </style>\n",
              "\n",
              "      <script>\n",
              "        const buttonEl =\n",
              "          document.querySelector('#df-70528cb7-ac4d-42fd-bf6e-cd629e163113 button.colab-df-convert');\n",
              "        buttonEl.style.display =\n",
              "          google.colab.kernel.accessAllowed ? 'block' : 'none';\n",
              "\n",
              "        async function convertToInteractive(key) {\n",
              "          const element = document.querySelector('#df-70528cb7-ac4d-42fd-bf6e-cd629e163113');\n",
              "          const dataTable =\n",
              "            await google.colab.kernel.invokeFunction('convertToInteractive',\n",
              "                                                     [key], {});\n",
              "          if (!dataTable) return;\n",
              "\n",
              "          const docLinkHtml = 'Like what you see? Visit the ' +\n",
              "            '<a target=\"_blank\" href=https://colab.research.google.com/notebooks/data_table.ipynb>data table notebook</a>'\n",
              "            + ' to learn more about interactive tables.';\n",
              "          element.innerHTML = '';\n",
              "          dataTable['output_type'] = 'display_data';\n",
              "          await google.colab.output.renderOutput(dataTable, element);\n",
              "          const docLink = document.createElement('div');\n",
              "          docLink.innerHTML = docLinkHtml;\n",
              "          element.appendChild(docLink);\n",
              "        }\n",
              "      </script>\n",
              "    </div>\n",
              "  </div>\n",
              "  "
            ]
          },
          "metadata": {},
          "execution_count": 27
        }
      ]
    },
    {
      "cell_type": "code",
      "source": [
        "df1=pd.read_table(data_guber)\n",
        "df1.head()"
      ],
      "metadata": {
        "colab": {
          "base_uri": "https://localhost:8080/",
          "height": 299
        },
        "id": "1DK7eMo4OF3n",
        "outputId": "e781385b-90de-4df6-d8af-4e438462d07a"
      },
      "execution_count": 28,
      "outputs": [
        {
          "output_type": "execute_result",
          "data": {
            "text/plain": [
              "       DATE         1         7        30        90       180       270  \\\n",
              "0  20230228  0.024102  0.024112  0.024151  0.024752  0.025462  0.026221   \n",
              "1  20230227  0.023542  0.024112  0.024151  0.024695  0.025521  0.026221   \n",
              "2  20230224  0.023542  0.024112  0.024262  0.024752  0.025346  0.026161   \n",
              "3  20230223  0.023820  0.024112  0.024262  0.024752  0.025346  0.026161   \n",
              "4  20230222  0.023542  0.024112  0.024262  0.024922  0.025637  0.026573   \n",
              "\n",
              "        360       720      1080  ...      1800      2160      2520      2880  \\\n",
              "0  0.026904  0.029372  0.031364  ...  0.033511  0.034364  0.035266  0.036094   \n",
              "1  0.026965  0.029299  0.031218  ...  0.033510  0.033908  0.034854  0.035929   \n",
              "2  0.026965  0.029298  0.031449  ...  0.033871  0.034074  0.034800  0.036177   \n",
              "3  0.026965  0.029036  0.030921  ...  0.032900  0.033412  0.034000  0.035356   \n",
              "4  0.027273  0.029469  0.031715  ...  0.034136  0.034559  0.035129  0.036454   \n",
              "\n",
              "       3240      3600      5400      7200      9000     10800  \n",
              "0  0.036941  0.037818  0.042174  0.045842  0.050106  0.054879  \n",
              "1  0.037087  0.038289  0.041826  0.046116  0.048545  0.055219  \n",
              "2  0.037613  0.038624  0.041508  0.045154  0.046868  0.052302  \n",
              "3  0.036746  0.037398  0.040464  0.042949  0.046149  0.049407  \n",
              "4  0.037809  0.038484  0.041525  0.043672  0.044949  0.050585  \n",
              "\n",
              "[5 rows x 21 columns]"
            ],
            "text/html": [
              "\n",
              "  <div id=\"df-e072fc69-ae72-4f69-967f-99643c66d793\">\n",
              "    <div class=\"colab-df-container\">\n",
              "      <div>\n",
              "<style scoped>\n",
              "    .dataframe tbody tr th:only-of-type {\n",
              "        vertical-align: middle;\n",
              "    }\n",
              "\n",
              "    .dataframe tbody tr th {\n",
              "        vertical-align: top;\n",
              "    }\n",
              "\n",
              "    .dataframe thead th {\n",
              "        text-align: right;\n",
              "    }\n",
              "</style>\n",
              "<table border=\"1\" class=\"dataframe\">\n",
              "  <thead>\n",
              "    <tr style=\"text-align: right;\">\n",
              "      <th></th>\n",
              "      <th>DATE</th>\n",
              "      <th>1</th>\n",
              "      <th>7</th>\n",
              "      <th>30</th>\n",
              "      <th>90</th>\n",
              "      <th>180</th>\n",
              "      <th>270</th>\n",
              "      <th>360</th>\n",
              "      <th>720</th>\n",
              "      <th>1080</th>\n",
              "      <th>...</th>\n",
              "      <th>1800</th>\n",
              "      <th>2160</th>\n",
              "      <th>2520</th>\n",
              "      <th>2880</th>\n",
              "      <th>3240</th>\n",
              "      <th>3600</th>\n",
              "      <th>5400</th>\n",
              "      <th>7200</th>\n",
              "      <th>9000</th>\n",
              "      <th>10800</th>\n",
              "    </tr>\n",
              "  </thead>\n",
              "  <tbody>\n",
              "    <tr>\n",
              "      <th>0</th>\n",
              "      <td>20230228</td>\n",
              "      <td>0.024102</td>\n",
              "      <td>0.024112</td>\n",
              "      <td>0.024151</td>\n",
              "      <td>0.024752</td>\n",
              "      <td>0.025462</td>\n",
              "      <td>0.026221</td>\n",
              "      <td>0.026904</td>\n",
              "      <td>0.029372</td>\n",
              "      <td>0.031364</td>\n",
              "      <td>...</td>\n",
              "      <td>0.033511</td>\n",
              "      <td>0.034364</td>\n",
              "      <td>0.035266</td>\n",
              "      <td>0.036094</td>\n",
              "      <td>0.036941</td>\n",
              "      <td>0.037818</td>\n",
              "      <td>0.042174</td>\n",
              "      <td>0.045842</td>\n",
              "      <td>0.050106</td>\n",
              "      <td>0.054879</td>\n",
              "    </tr>\n",
              "    <tr>\n",
              "      <th>1</th>\n",
              "      <td>20230227</td>\n",
              "      <td>0.023542</td>\n",
              "      <td>0.024112</td>\n",
              "      <td>0.024151</td>\n",
              "      <td>0.024695</td>\n",
              "      <td>0.025521</td>\n",
              "      <td>0.026221</td>\n",
              "      <td>0.026965</td>\n",
              "      <td>0.029299</td>\n",
              "      <td>0.031218</td>\n",
              "      <td>...</td>\n",
              "      <td>0.033510</td>\n",
              "      <td>0.033908</td>\n",
              "      <td>0.034854</td>\n",
              "      <td>0.035929</td>\n",
              "      <td>0.037087</td>\n",
              "      <td>0.038289</td>\n",
              "      <td>0.041826</td>\n",
              "      <td>0.046116</td>\n",
              "      <td>0.048545</td>\n",
              "      <td>0.055219</td>\n",
              "    </tr>\n",
              "    <tr>\n",
              "      <th>2</th>\n",
              "      <td>20230224</td>\n",
              "      <td>0.023542</td>\n",
              "      <td>0.024112</td>\n",
              "      <td>0.024262</td>\n",
              "      <td>0.024752</td>\n",
              "      <td>0.025346</td>\n",
              "      <td>0.026161</td>\n",
              "      <td>0.026965</td>\n",
              "      <td>0.029298</td>\n",
              "      <td>0.031449</td>\n",
              "      <td>...</td>\n",
              "      <td>0.033871</td>\n",
              "      <td>0.034074</td>\n",
              "      <td>0.034800</td>\n",
              "      <td>0.036177</td>\n",
              "      <td>0.037613</td>\n",
              "      <td>0.038624</td>\n",
              "      <td>0.041508</td>\n",
              "      <td>0.045154</td>\n",
              "      <td>0.046868</td>\n",
              "      <td>0.052302</td>\n",
              "    </tr>\n",
              "    <tr>\n",
              "      <th>3</th>\n",
              "      <td>20230223</td>\n",
              "      <td>0.023820</td>\n",
              "      <td>0.024112</td>\n",
              "      <td>0.024262</td>\n",
              "      <td>0.024752</td>\n",
              "      <td>0.025346</td>\n",
              "      <td>0.026161</td>\n",
              "      <td>0.026965</td>\n",
              "      <td>0.029036</td>\n",
              "      <td>0.030921</td>\n",
              "      <td>...</td>\n",
              "      <td>0.032900</td>\n",
              "      <td>0.033412</td>\n",
              "      <td>0.034000</td>\n",
              "      <td>0.035356</td>\n",
              "      <td>0.036746</td>\n",
              "      <td>0.037398</td>\n",
              "      <td>0.040464</td>\n",
              "      <td>0.042949</td>\n",
              "      <td>0.046149</td>\n",
              "      <td>0.049407</td>\n",
              "    </tr>\n",
              "    <tr>\n",
              "      <th>4</th>\n",
              "      <td>20230222</td>\n",
              "      <td>0.023542</td>\n",
              "      <td>0.024112</td>\n",
              "      <td>0.024262</td>\n",
              "      <td>0.024922</td>\n",
              "      <td>0.025637</td>\n",
              "      <td>0.026573</td>\n",
              "      <td>0.027273</td>\n",
              "      <td>0.029469</td>\n",
              "      <td>0.031715</td>\n",
              "      <td>...</td>\n",
              "      <td>0.034136</td>\n",
              "      <td>0.034559</td>\n",
              "      <td>0.035129</td>\n",
              "      <td>0.036454</td>\n",
              "      <td>0.037809</td>\n",
              "      <td>0.038484</td>\n",
              "      <td>0.041525</td>\n",
              "      <td>0.043672</td>\n",
              "      <td>0.044949</td>\n",
              "      <td>0.050585</td>\n",
              "    </tr>\n",
              "  </tbody>\n",
              "</table>\n",
              "<p>5 rows × 21 columns</p>\n",
              "</div>\n",
              "      <button class=\"colab-df-convert\" onclick=\"convertToInteractive('df-e072fc69-ae72-4f69-967f-99643c66d793')\"\n",
              "              title=\"Convert this dataframe to an interactive table.\"\n",
              "              style=\"display:none;\">\n",
              "        \n",
              "  <svg xmlns=\"http://www.w3.org/2000/svg\" height=\"24px\"viewBox=\"0 0 24 24\"\n",
              "       width=\"24px\">\n",
              "    <path d=\"M0 0h24v24H0V0z\" fill=\"none\"/>\n",
              "    <path d=\"M18.56 5.44l.94 2.06.94-2.06 2.06-.94-2.06-.94-.94-2.06-.94 2.06-2.06.94zm-11 1L8.5 8.5l.94-2.06 2.06-.94-2.06-.94L8.5 2.5l-.94 2.06-2.06.94zm10 10l.94 2.06.94-2.06 2.06-.94-2.06-.94-.94-2.06-.94 2.06-2.06.94z\"/><path d=\"M17.41 7.96l-1.37-1.37c-.4-.4-.92-.59-1.43-.59-.52 0-1.04.2-1.43.59L10.3 9.45l-7.72 7.72c-.78.78-.78 2.05 0 2.83L4 21.41c.39.39.9.59 1.41.59.51 0 1.02-.2 1.41-.59l7.78-7.78 2.81-2.81c.8-.78.8-2.07 0-2.86zM5.41 20L4 18.59l7.72-7.72 1.47 1.35L5.41 20z\"/>\n",
              "  </svg>\n",
              "      </button>\n",
              "      \n",
              "  <style>\n",
              "    .colab-df-container {\n",
              "      display:flex;\n",
              "      flex-wrap:wrap;\n",
              "      gap: 12px;\n",
              "    }\n",
              "\n",
              "    .colab-df-convert {\n",
              "      background-color: #E8F0FE;\n",
              "      border: none;\n",
              "      border-radius: 50%;\n",
              "      cursor: pointer;\n",
              "      display: none;\n",
              "      fill: #1967D2;\n",
              "      height: 32px;\n",
              "      padding: 0 0 0 0;\n",
              "      width: 32px;\n",
              "    }\n",
              "\n",
              "    .colab-df-convert:hover {\n",
              "      background-color: #E2EBFA;\n",
              "      box-shadow: 0px 1px 2px rgba(60, 64, 67, 0.3), 0px 1px 3px 1px rgba(60, 64, 67, 0.15);\n",
              "      fill: #174EA6;\n",
              "    }\n",
              "\n",
              "    [theme=dark] .colab-df-convert {\n",
              "      background-color: #3B4455;\n",
              "      fill: #D2E3FC;\n",
              "    }\n",
              "\n",
              "    [theme=dark] .colab-df-convert:hover {\n",
              "      background-color: #434B5C;\n",
              "      box-shadow: 0px 1px 3px 1px rgba(0, 0, 0, 0.15);\n",
              "      filter: drop-shadow(0px 1px 2px rgba(0, 0, 0, 0.3));\n",
              "      fill: #FFFFFF;\n",
              "    }\n",
              "  </style>\n",
              "\n",
              "      <script>\n",
              "        const buttonEl =\n",
              "          document.querySelector('#df-e072fc69-ae72-4f69-967f-99643c66d793 button.colab-df-convert');\n",
              "        buttonEl.style.display =\n",
              "          google.colab.kernel.accessAllowed ? 'block' : 'none';\n",
              "\n",
              "        async function convertToInteractive(key) {\n",
              "          const element = document.querySelector('#df-e072fc69-ae72-4f69-967f-99643c66d793');\n",
              "          const dataTable =\n",
              "            await google.colab.kernel.invokeFunction('convertToInteractive',\n",
              "                                                     [key], {});\n",
              "          if (!dataTable) return;\n",
              "\n",
              "          const docLinkHtml = 'Like what you see? Visit the ' +\n",
              "            '<a target=\"_blank\" href=https://colab.research.google.com/notebooks/data_table.ipynb>data table notebook</a>'\n",
              "            + ' to learn more about interactive tables.';\n",
              "          element.innerHTML = '';\n",
              "          dataTable['output_type'] = 'display_data';\n",
              "          await google.colab.output.renderOutput(dataTable, element);\n",
              "          const docLink = document.createElement('div');\n",
              "          docLink.innerHTML = docLinkHtml;\n",
              "          element.appendChild(docLink);\n",
              "        }\n",
              "      </script>\n",
              "    </div>\n",
              "  </div>\n",
              "  "
            ]
          },
          "metadata": {},
          "execution_count": 28
        }
      ]
    },
    {
      "cell_type": "code",
      "source": [
        "# Posición del Bono Cupón cero (cete)\n",
        "# Utilizamos la funcón Cete, donde ingresamos los valores de la tasa gubernamental\n",
        "# de 180 días, y la temporalidad t=180\n",
        "cete=Cete(tasa_cete,180)\n",
        "ValuacionCete=cete*1500\n",
        "ValuacionCete"
      ],
      "metadata": {
        "colab": {
          "base_uri": "https://localhost:8080/"
        },
        "id": "kNVBpTWGH-7-",
        "outputId": "791d380d-1623-404e-86b6-cfd4be8d401c"
      },
      "execution_count": 29,
      "outputs": [
        {
          "output_type": "execute_result",
          "data": {
            "text/plain": [
              "14811.432395655778"
            ]
          },
          "metadata": {},
          "execution_count": 29
        }
      ]
    },
    {
      "cell_type": "code",
      "source": [
        "# Creación de una clase para la valuación de cetes\n",
        "class Riesgo_Cete:\n",
        "\n",
        "  def __init__(self):\n",
        "    self.posicion = None\n",
        "    self.fecha_valoracion = None\n",
        "    self.fecha_entrega = None\n",
        "    self.plazo = None\n",
        "    self.VaR = None\n",
        "    self.CVaR = None\n",
        "    self.alpha = None\n",
        "    # self.summary = None\n",
        "    \n",
        "  \n",
        "  def compute(self,curva_tasa, dias, posicion, alpha):\n",
        "    \"\"\"\n",
        "    - curva_tasa: DataFrame\n",
        "    \"\"\"\n",
        "    # CETE\n",
        "    self.plazo = dias # REVISAR\n",
        "    ult_tasa = curva_tasa[str(self.plazo)][0]\n",
        "    df = pd.DataFrame({'Tasa':curva_tasa[str(self.plazo)]})\n",
        "    df['Ret_Tasa'] = (df['Tasa'].shift(1)/df['Tasa']) - 1\n",
        "    df['Ret_Tasa'][0] = 0\n",
        "    print(ult_tasa)\n",
        "    print(df)\n",
        "    df['Tasa_Act'] = ult_tasa*(1+df['Ret_Tasa'])\n",
        "    df['CETE'] = posicion*df['Tasa_Act'].apply(Cete, args = dias)\n",
        "    ult_cete = df['CETE'][0]\n",
        "    df['CETE_PL'] = ult_cete - df['CETE']\n",
        "    self.VaR = df['CETE_PL'].quantile(alpha, numeric_only=False)\n",
        "    self.CVaR = CVaR(df['CETE_PL'],self.VaR)\n",
        "    self.alpha = alpha\n",
        "    self.posicion = posicion\n",
        "    self.fecha_valoracion = fval\n",
        "    self.fecha_entrega = fent"
      ],
      "metadata": {
        "id": "HFVyNaGNGQ_i"
      },
      "execution_count": 30,
      "outputs": []
    },
    {
      "cell_type": "code",
      "source": [
        "miCETE=Riesgo_Cete()"
      ],
      "metadata": {
        "id": "_7JBQrlQGXqC"
      },
      "execution_count": 31,
      "outputs": []
    },
    {
      "cell_type": "code",
      "source": [
        "# Ahora valuamos el Bono M, con la tasa Yield\n",
        "tasayield=\"Tarea1-AdRF/tasa_yield.txt\"\n",
        "dfy= pd.read_table(tasayield)\n",
        "dfy"
      ],
      "metadata": {
        "colab": {
          "base_uri": "https://localhost:8080/",
          "height": 487
        },
        "id": "qKRu76y_JNhT",
        "outputId": "4c2fb4b3-ca40-478e-b601-21d4ad63a681"
      },
      "execution_count": 32,
      "outputs": [
        {
          "output_type": "execute_result",
          "data": {
            "text/plain": [
              "         DATE         1         7        30        90       180       270  \\\n",
              "0    20230228  0.080652  0.079589  0.078358  0.079767  0.079900  0.079655   \n",
              "1    20230227  0.078777  0.079589  0.078358  0.079584  0.080083  0.079655   \n",
              "2    20230224  0.078777  0.079589  0.078719  0.079767  0.079535  0.079472   \n",
              "3    20230223  0.079707  0.079589  0.078719  0.079767  0.079535  0.079472   \n",
              "4    20230222  0.078777  0.079589  0.078719  0.080316  0.080447  0.080726   \n",
              "..        ...       ...       ...       ...       ...       ...       ...   \n",
              "250  20220303  0.080652  0.077256  0.074575  0.080133  0.083001  0.083886   \n",
              "251  20220302  0.080407  0.078534  0.074575  0.079584  0.083008  0.083867   \n",
              "252  20220301  0.080652  0.078849  0.074575  0.080499  0.083012  0.083861   \n",
              "253  20220228  0.080652  0.077724  0.072594  0.077755  0.082819  0.084047   \n",
              "254  20220225  0.080652  0.078186  0.072594  0.076840  0.082454  0.084162   \n",
              "\n",
              "          360       720      1080  ...      1800      2160      2520  \\\n",
              "0    0.079100  0.076726  0.077014  ...  0.076732  0.076239  0.075860   \n",
              "1    0.079281  0.076535  0.076657  ...  0.076731  0.075227  0.074973   \n",
              "2    0.079281  0.076531  0.077223  ...  0.077556  0.075596  0.074858   \n",
              "3    0.079281  0.075847  0.075927  ...  0.075333  0.074126  0.073137   \n",
              "4    0.080185  0.076978  0.077877  ...  0.078163  0.076671  0.075565   \n",
              "..        ...       ...       ...  ...       ...       ...       ...   \n",
              "250  0.083600  0.082954  0.086108  ...  0.085702  0.082348  0.078857   \n",
              "251  0.083568  0.083311  0.086220  ...  0.086204  0.083230  0.079610   \n",
              "252  0.083601  0.082981  0.085951  ...  0.086108  0.082738  0.079058   \n",
              "253  0.083961  0.082554  0.086184  ...  0.085863  0.082703  0.079242   \n",
              "254  0.083961  0.082556  0.085956  ...  0.085759  0.082341  0.079185   \n",
              "\n",
              "         2880      3240      3600      5400      7200      9000     10800  \n",
              "0    0.075838  0.075919  0.075959  0.076348  0.076733  0.076970  0.077093  \n",
              "1    0.075492  0.076218  0.076905  0.075717  0.077193  0.074572  0.077571  \n",
              "2    0.076014  0.077300  0.077578  0.075143  0.075582  0.071996  0.073473  \n",
              "3    0.074288  0.075517  0.075117  0.073251  0.071891  0.070891  0.069406  \n",
              "4    0.076595  0.077702  0.077297  0.075173  0.073100  0.069049  0.071061  \n",
              "..        ...       ...       ...       ...       ...       ...       ...  \n",
              "250  0.076232  0.073988  0.072604  0.066394  0.057684  0.048696  0.060352  \n",
              "251  0.076566  0.074233  0.072844  0.066663  0.057765  0.048785  0.060507  \n",
              "252  0.076223  0.073927  0.072581  0.066268  0.057161  0.048488  0.061388  \n",
              "253  0.076097  0.073712  0.072370  0.065666  0.056420  0.048582  0.060277  \n",
              "254  0.076283  0.073837  0.072392  0.066245  0.056858  0.048210  0.061036  \n",
              "\n",
              "[255 rows x 21 columns]"
            ],
            "text/html": [
              "\n",
              "  <div id=\"df-3d13862e-567c-4993-a08d-3f86ecce05ef\">\n",
              "    <div class=\"colab-df-container\">\n",
              "      <div>\n",
              "<style scoped>\n",
              "    .dataframe tbody tr th:only-of-type {\n",
              "        vertical-align: middle;\n",
              "    }\n",
              "\n",
              "    .dataframe tbody tr th {\n",
              "        vertical-align: top;\n",
              "    }\n",
              "\n",
              "    .dataframe thead th {\n",
              "        text-align: right;\n",
              "    }\n",
              "</style>\n",
              "<table border=\"1\" class=\"dataframe\">\n",
              "  <thead>\n",
              "    <tr style=\"text-align: right;\">\n",
              "      <th></th>\n",
              "      <th>DATE</th>\n",
              "      <th>1</th>\n",
              "      <th>7</th>\n",
              "      <th>30</th>\n",
              "      <th>90</th>\n",
              "      <th>180</th>\n",
              "      <th>270</th>\n",
              "      <th>360</th>\n",
              "      <th>720</th>\n",
              "      <th>1080</th>\n",
              "      <th>...</th>\n",
              "      <th>1800</th>\n",
              "      <th>2160</th>\n",
              "      <th>2520</th>\n",
              "      <th>2880</th>\n",
              "      <th>3240</th>\n",
              "      <th>3600</th>\n",
              "      <th>5400</th>\n",
              "      <th>7200</th>\n",
              "      <th>9000</th>\n",
              "      <th>10800</th>\n",
              "    </tr>\n",
              "  </thead>\n",
              "  <tbody>\n",
              "    <tr>\n",
              "      <th>0</th>\n",
              "      <td>20230228</td>\n",
              "      <td>0.080652</td>\n",
              "      <td>0.079589</td>\n",
              "      <td>0.078358</td>\n",
              "      <td>0.079767</td>\n",
              "      <td>0.079900</td>\n",
              "      <td>0.079655</td>\n",
              "      <td>0.079100</td>\n",
              "      <td>0.076726</td>\n",
              "      <td>0.077014</td>\n",
              "      <td>...</td>\n",
              "      <td>0.076732</td>\n",
              "      <td>0.076239</td>\n",
              "      <td>0.075860</td>\n",
              "      <td>0.075838</td>\n",
              "      <td>0.075919</td>\n",
              "      <td>0.075959</td>\n",
              "      <td>0.076348</td>\n",
              "      <td>0.076733</td>\n",
              "      <td>0.076970</td>\n",
              "      <td>0.077093</td>\n",
              "    </tr>\n",
              "    <tr>\n",
              "      <th>1</th>\n",
              "      <td>20230227</td>\n",
              "      <td>0.078777</td>\n",
              "      <td>0.079589</td>\n",
              "      <td>0.078358</td>\n",
              "      <td>0.079584</td>\n",
              "      <td>0.080083</td>\n",
              "      <td>0.079655</td>\n",
              "      <td>0.079281</td>\n",
              "      <td>0.076535</td>\n",
              "      <td>0.076657</td>\n",
              "      <td>...</td>\n",
              "      <td>0.076731</td>\n",
              "      <td>0.075227</td>\n",
              "      <td>0.074973</td>\n",
              "      <td>0.075492</td>\n",
              "      <td>0.076218</td>\n",
              "      <td>0.076905</td>\n",
              "      <td>0.075717</td>\n",
              "      <td>0.077193</td>\n",
              "      <td>0.074572</td>\n",
              "      <td>0.077571</td>\n",
              "    </tr>\n",
              "    <tr>\n",
              "      <th>2</th>\n",
              "      <td>20230224</td>\n",
              "      <td>0.078777</td>\n",
              "      <td>0.079589</td>\n",
              "      <td>0.078719</td>\n",
              "      <td>0.079767</td>\n",
              "      <td>0.079535</td>\n",
              "      <td>0.079472</td>\n",
              "      <td>0.079281</td>\n",
              "      <td>0.076531</td>\n",
              "      <td>0.077223</td>\n",
              "      <td>...</td>\n",
              "      <td>0.077556</td>\n",
              "      <td>0.075596</td>\n",
              "      <td>0.074858</td>\n",
              "      <td>0.076014</td>\n",
              "      <td>0.077300</td>\n",
              "      <td>0.077578</td>\n",
              "      <td>0.075143</td>\n",
              "      <td>0.075582</td>\n",
              "      <td>0.071996</td>\n",
              "      <td>0.073473</td>\n",
              "    </tr>\n",
              "    <tr>\n",
              "      <th>3</th>\n",
              "      <td>20230223</td>\n",
              "      <td>0.079707</td>\n",
              "      <td>0.079589</td>\n",
              "      <td>0.078719</td>\n",
              "      <td>0.079767</td>\n",
              "      <td>0.079535</td>\n",
              "      <td>0.079472</td>\n",
              "      <td>0.079281</td>\n",
              "      <td>0.075847</td>\n",
              "      <td>0.075927</td>\n",
              "      <td>...</td>\n",
              "      <td>0.075333</td>\n",
              "      <td>0.074126</td>\n",
              "      <td>0.073137</td>\n",
              "      <td>0.074288</td>\n",
              "      <td>0.075517</td>\n",
              "      <td>0.075117</td>\n",
              "      <td>0.073251</td>\n",
              "      <td>0.071891</td>\n",
              "      <td>0.070891</td>\n",
              "      <td>0.069406</td>\n",
              "    </tr>\n",
              "    <tr>\n",
              "      <th>4</th>\n",
              "      <td>20230222</td>\n",
              "      <td>0.078777</td>\n",
              "      <td>0.079589</td>\n",
              "      <td>0.078719</td>\n",
              "      <td>0.080316</td>\n",
              "      <td>0.080447</td>\n",
              "      <td>0.080726</td>\n",
              "      <td>0.080185</td>\n",
              "      <td>0.076978</td>\n",
              "      <td>0.077877</td>\n",
              "      <td>...</td>\n",
              "      <td>0.078163</td>\n",
              "      <td>0.076671</td>\n",
              "      <td>0.075565</td>\n",
              "      <td>0.076595</td>\n",
              "      <td>0.077702</td>\n",
              "      <td>0.077297</td>\n",
              "      <td>0.075173</td>\n",
              "      <td>0.073100</td>\n",
              "      <td>0.069049</td>\n",
              "      <td>0.071061</td>\n",
              "    </tr>\n",
              "    <tr>\n",
              "      <th>...</th>\n",
              "      <td>...</td>\n",
              "      <td>...</td>\n",
              "      <td>...</td>\n",
              "      <td>...</td>\n",
              "      <td>...</td>\n",
              "      <td>...</td>\n",
              "      <td>...</td>\n",
              "      <td>...</td>\n",
              "      <td>...</td>\n",
              "      <td>...</td>\n",
              "      <td>...</td>\n",
              "      <td>...</td>\n",
              "      <td>...</td>\n",
              "      <td>...</td>\n",
              "      <td>...</td>\n",
              "      <td>...</td>\n",
              "      <td>...</td>\n",
              "      <td>...</td>\n",
              "      <td>...</td>\n",
              "      <td>...</td>\n",
              "      <td>...</td>\n",
              "    </tr>\n",
              "    <tr>\n",
              "      <th>250</th>\n",
              "      <td>20220303</td>\n",
              "      <td>0.080652</td>\n",
              "      <td>0.077256</td>\n",
              "      <td>0.074575</td>\n",
              "      <td>0.080133</td>\n",
              "      <td>0.083001</td>\n",
              "      <td>0.083886</td>\n",
              "      <td>0.083600</td>\n",
              "      <td>0.082954</td>\n",
              "      <td>0.086108</td>\n",
              "      <td>...</td>\n",
              "      <td>0.085702</td>\n",
              "      <td>0.082348</td>\n",
              "      <td>0.078857</td>\n",
              "      <td>0.076232</td>\n",
              "      <td>0.073988</td>\n",
              "      <td>0.072604</td>\n",
              "      <td>0.066394</td>\n",
              "      <td>0.057684</td>\n",
              "      <td>0.048696</td>\n",
              "      <td>0.060352</td>\n",
              "    </tr>\n",
              "    <tr>\n",
              "      <th>251</th>\n",
              "      <td>20220302</td>\n",
              "      <td>0.080407</td>\n",
              "      <td>0.078534</td>\n",
              "      <td>0.074575</td>\n",
              "      <td>0.079584</td>\n",
              "      <td>0.083008</td>\n",
              "      <td>0.083867</td>\n",
              "      <td>0.083568</td>\n",
              "      <td>0.083311</td>\n",
              "      <td>0.086220</td>\n",
              "      <td>...</td>\n",
              "      <td>0.086204</td>\n",
              "      <td>0.083230</td>\n",
              "      <td>0.079610</td>\n",
              "      <td>0.076566</td>\n",
              "      <td>0.074233</td>\n",
              "      <td>0.072844</td>\n",
              "      <td>0.066663</td>\n",
              "      <td>0.057765</td>\n",
              "      <td>0.048785</td>\n",
              "      <td>0.060507</td>\n",
              "    </tr>\n",
              "    <tr>\n",
              "      <th>252</th>\n",
              "      <td>20220301</td>\n",
              "      <td>0.080652</td>\n",
              "      <td>0.078849</td>\n",
              "      <td>0.074575</td>\n",
              "      <td>0.080499</td>\n",
              "      <td>0.083012</td>\n",
              "      <td>0.083861</td>\n",
              "      <td>0.083601</td>\n",
              "      <td>0.082981</td>\n",
              "      <td>0.085951</td>\n",
              "      <td>...</td>\n",
              "      <td>0.086108</td>\n",
              "      <td>0.082738</td>\n",
              "      <td>0.079058</td>\n",
              "      <td>0.076223</td>\n",
              "      <td>0.073927</td>\n",
              "      <td>0.072581</td>\n",
              "      <td>0.066268</td>\n",
              "      <td>0.057161</td>\n",
              "      <td>0.048488</td>\n",
              "      <td>0.061388</td>\n",
              "    </tr>\n",
              "    <tr>\n",
              "      <th>253</th>\n",
              "      <td>20220228</td>\n",
              "      <td>0.080652</td>\n",
              "      <td>0.077724</td>\n",
              "      <td>0.072594</td>\n",
              "      <td>0.077755</td>\n",
              "      <td>0.082819</td>\n",
              "      <td>0.084047</td>\n",
              "      <td>0.083961</td>\n",
              "      <td>0.082554</td>\n",
              "      <td>0.086184</td>\n",
              "      <td>...</td>\n",
              "      <td>0.085863</td>\n",
              "      <td>0.082703</td>\n",
              "      <td>0.079242</td>\n",
              "      <td>0.076097</td>\n",
              "      <td>0.073712</td>\n",
              "      <td>0.072370</td>\n",
              "      <td>0.065666</td>\n",
              "      <td>0.056420</td>\n",
              "      <td>0.048582</td>\n",
              "      <td>0.060277</td>\n",
              "    </tr>\n",
              "    <tr>\n",
              "      <th>254</th>\n",
              "      <td>20220225</td>\n",
              "      <td>0.080652</td>\n",
              "      <td>0.078186</td>\n",
              "      <td>0.072594</td>\n",
              "      <td>0.076840</td>\n",
              "      <td>0.082454</td>\n",
              "      <td>0.084162</td>\n",
              "      <td>0.083961</td>\n",
              "      <td>0.082556</td>\n",
              "      <td>0.085956</td>\n",
              "      <td>...</td>\n",
              "      <td>0.085759</td>\n",
              "      <td>0.082341</td>\n",
              "      <td>0.079185</td>\n",
              "      <td>0.076283</td>\n",
              "      <td>0.073837</td>\n",
              "      <td>0.072392</td>\n",
              "      <td>0.066245</td>\n",
              "      <td>0.056858</td>\n",
              "      <td>0.048210</td>\n",
              "      <td>0.061036</td>\n",
              "    </tr>\n",
              "  </tbody>\n",
              "</table>\n",
              "<p>255 rows × 21 columns</p>\n",
              "</div>\n",
              "      <button class=\"colab-df-convert\" onclick=\"convertToInteractive('df-3d13862e-567c-4993-a08d-3f86ecce05ef')\"\n",
              "              title=\"Convert this dataframe to an interactive table.\"\n",
              "              style=\"display:none;\">\n",
              "        \n",
              "  <svg xmlns=\"http://www.w3.org/2000/svg\" height=\"24px\"viewBox=\"0 0 24 24\"\n",
              "       width=\"24px\">\n",
              "    <path d=\"M0 0h24v24H0V0z\" fill=\"none\"/>\n",
              "    <path d=\"M18.56 5.44l.94 2.06.94-2.06 2.06-.94-2.06-.94-.94-2.06-.94 2.06-2.06.94zm-11 1L8.5 8.5l.94-2.06 2.06-.94-2.06-.94L8.5 2.5l-.94 2.06-2.06.94zm10 10l.94 2.06.94-2.06 2.06-.94-2.06-.94-.94-2.06-.94 2.06-2.06.94z\"/><path d=\"M17.41 7.96l-1.37-1.37c-.4-.4-.92-.59-1.43-.59-.52 0-1.04.2-1.43.59L10.3 9.45l-7.72 7.72c-.78.78-.78 2.05 0 2.83L4 21.41c.39.39.9.59 1.41.59.51 0 1.02-.2 1.41-.59l7.78-7.78 2.81-2.81c.8-.78.8-2.07 0-2.86zM5.41 20L4 18.59l7.72-7.72 1.47 1.35L5.41 20z\"/>\n",
              "  </svg>\n",
              "      </button>\n",
              "      \n",
              "  <style>\n",
              "    .colab-df-container {\n",
              "      display:flex;\n",
              "      flex-wrap:wrap;\n",
              "      gap: 12px;\n",
              "    }\n",
              "\n",
              "    .colab-df-convert {\n",
              "      background-color: #E8F0FE;\n",
              "      border: none;\n",
              "      border-radius: 50%;\n",
              "      cursor: pointer;\n",
              "      display: none;\n",
              "      fill: #1967D2;\n",
              "      height: 32px;\n",
              "      padding: 0 0 0 0;\n",
              "      width: 32px;\n",
              "    }\n",
              "\n",
              "    .colab-df-convert:hover {\n",
              "      background-color: #E2EBFA;\n",
              "      box-shadow: 0px 1px 2px rgba(60, 64, 67, 0.3), 0px 1px 3px 1px rgba(60, 64, 67, 0.15);\n",
              "      fill: #174EA6;\n",
              "    }\n",
              "\n",
              "    [theme=dark] .colab-df-convert {\n",
              "      background-color: #3B4455;\n",
              "      fill: #D2E3FC;\n",
              "    }\n",
              "\n",
              "    [theme=dark] .colab-df-convert:hover {\n",
              "      background-color: #434B5C;\n",
              "      box-shadow: 0px 1px 3px 1px rgba(0, 0, 0, 0.15);\n",
              "      filter: drop-shadow(0px 1px 2px rgba(0, 0, 0, 0.3));\n",
              "      fill: #FFFFFF;\n",
              "    }\n",
              "  </style>\n",
              "\n",
              "      <script>\n",
              "        const buttonEl =\n",
              "          document.querySelector('#df-3d13862e-567c-4993-a08d-3f86ecce05ef button.colab-df-convert');\n",
              "        buttonEl.style.display =\n",
              "          google.colab.kernel.accessAllowed ? 'block' : 'none';\n",
              "\n",
              "        async function convertToInteractive(key) {\n",
              "          const element = document.querySelector('#df-3d13862e-567c-4993-a08d-3f86ecce05ef');\n",
              "          const dataTable =\n",
              "            await google.colab.kernel.invokeFunction('convertToInteractive',\n",
              "                                                     [key], {});\n",
              "          if (!dataTable) return;\n",
              "\n",
              "          const docLinkHtml = 'Like what you see? Visit the ' +\n",
              "            '<a target=\"_blank\" href=https://colab.research.google.com/notebooks/data_table.ipynb>data table notebook</a>'\n",
              "            + ' to learn more about interactive tables.';\n",
              "          element.innerHTML = '';\n",
              "          dataTable['output_type'] = 'display_data';\n",
              "          await google.colab.output.renderOutput(dataTable, element);\n",
              "          const docLink = document.createElement('div');\n",
              "          docLink.innerHTML = docLinkHtml;\n",
              "          element.appendChild(docLink);\n",
              "        }\n",
              "      </script>\n",
              "    </div>\n",
              "  </div>\n",
              "  "
            ]
          },
          "metadata": {},
          "execution_count": 32
        }
      ]
    },
    {
      "cell_type": "code",
      "source": [
        "# Escenario a 180 días\n",
        "dias = 180\n",
        "curva_tasa=dfy\n",
        "posicion = 1500\n",
        "\n",
        "\n",
        "plazo = dias \n",
        "ult_tasa = curva_tasa[str(plazo)][0]\n",
        "df = pd.DataFrame({'Tasa':curva_tasa[str(plazo)]})\n",
        "df['Ret_Tasa'] = (df['Tasa'].shift(1)/df['Tasa']) - 1\n",
        "df['Ret_Tasa'][0] = 0\n",
        "print(ult_tasa)\n",
        "print(df)\n",
        "df['Tasa_Act'] = ult_tasa*(1+df['Ret_Tasa'])"
      ],
      "metadata": {
        "colab": {
          "base_uri": "https://localhost:8080/"
        },
        "id": "3bb2bbahhdZ7",
        "outputId": "7cf4deaf-64f6-4624-e3ee-19dfdc998a9b"
      },
      "execution_count": 33,
      "outputs": [
        {
          "output_type": "stream",
          "name": "stdout",
          "text": [
            "0.07990014\n",
            "         Tasa  Ret_Tasa\n",
            "0    0.079900  0.000000\n",
            "1    0.080083 -0.002278\n",
            "2    0.079535  0.006881\n",
            "3    0.079535  0.000000\n",
            "4    0.080447 -0.011338\n",
            "..        ...       ...\n",
            "250  0.083001 -0.019780\n",
            "251  0.083008 -0.000078\n",
            "252  0.083012 -0.000053\n",
            "253  0.082819  0.002334\n",
            "254  0.082454  0.004425\n",
            "\n",
            "[255 rows x 2 columns]\n"
          ]
        }
      ]
    },
    {
      "cell_type": "markdown",
      "source": [
        "## Bono M"
      ],
      "metadata": {
        "id": "01a_JjhFi9Td"
      }
    },
    {
      "cell_type": "code",
      "source": [
        "# Definición de una función para la valuación del Bono M\n",
        "def bonoMyield(x, plazos, plazocupon, tfcupon, nominal, contratos): #valoración bono tasa fija\n",
        "  \n",
        " N=int(plazos/plazocupon)+1   \n",
        " a=(1-(1+x*plazocupon/360)**(-N))/(plazocupon*x/360)\n",
        " p1=plazos-plazocupon*(N-1)   \n",
        " Vty=((contratos*nominal*tfcupon*plazocupon/360)*a+(contratos*nominal)/((1+x*plazocupon/360)**N))*(1+x*plazocupon/360)**(1-p1/plazocupon) \n",
        "\n",
        " return Vty "
      ],
      "metadata": {
        "id": "QOH7ma6LLS2z"
      },
      "execution_count": 34,
      "outputs": []
    },
    {
      "cell_type": "code",
      "source": [
        "# Bono M con tasa fija de 6.5% con un cupón anual de 6.05% anual vencimiento de 3600 días\n",
        "# y nocional de 1000\n",
        "x = bonoMyield(.0605,3600,182,0.065,100,1000)\n",
        "x"
      ],
      "metadata": {
        "colab": {
          "base_uri": "https://localhost:8080/"
        },
        "id": "LiwY5xwjLchr",
        "outputId": "70345e60-5218-4afd-867a-113e6c1982c0"
      },
      "execution_count": 35,
      "outputs": [
        {
          "output_type": "execute_result",
          "data": {
            "text/plain": [
              "104053.06525595774"
            ]
          },
          "metadata": {},
          "execution_count": 35
        }
      ]
    },
    {
      "cell_type": "markdown",
      "source": [
        "Hasta aquí va bien"
      ],
      "metadata": {
        "id": "ytr0bpA8jSr9"
      }
    },
    {
      "cell_type": "code",
      "source": [
        "def BonoM(x, plazos, plazocupon, tfcupon, nominal, contratos):\n",
        "  x=x0  \n",
        "  N=int(plazos/plazocupon)+1   \n",
        "  a=(1-(1+x*plazocupon/360)**(-N))/(plazocupon*x/360)\n",
        "  p1=plazos-plazocupon*(N-1)   \n",
        "  precio=((contratos*nominal*tfcupon*plazocupon/360)*a+(contratos*nominal)/((1+x*plazocupon/360)**N))*(1+x*plazocupon/360)**(1-p1/plazocupon) \n",
        "\n",
        "  return precio"
      ],
      "metadata": {
        "id": "_cdYdxaKhMJ4"
      },
      "execution_count": null,
      "outputs": []
    },
    {
      "cell_type": "code",
      "source": [
        "# Clase Auxiliar\n",
        "\n",
        "class Riesgo_Fixed_Income:\n",
        "\n",
        "  def __init__(self):\n",
        "    self.posiciones = None\n",
        "    self.VaR = None\n",
        "    self.CVaR = None\n",
        "    self.alpha = None\n",
        "    self.summary = None\n",
        "    self.ordenado = None\n",
        "    self.alisado = None\n",
        "    \n",
        "  def compute(self, cete, bonom, bonde, alpha):\n",
        "    \"\"\"\n",
        "    Donde cete, bonom, bonde son diccionarios con las siguientes características:\n",
        "    cete = {'Posicion':posicion_c, 'Plazo':plazo, 'Tasa':curva_tasa}\n",
        "    bonom = {'Posicion:'posicion_bm, 'Tasa_fija':fija,'Tasa_flotante':flotante, 'Plazo_fijo':plazo_fijo,\\\n",
        "    'Plazo_acum':plazo_acum}\n",
        "    bonde = {'Posicion':posicion_bd, 'Tasas':tasas_df}\n",
        "    \"\"\"\n",
        "    posiciones = [cete['Posicion'],bonom['Posicion'],bonde['Posicion']]\n",
        "    # Pegar las tasas con las fechas adecuadas\n",
        "    X = cete['Tasa'][['Fecha',str(cete['Plazo'])]].merge(bonom['Tasa'],how = 'inner',on= 'Fecha') # Combinar tasas\n",
        "    X = X.merge(bonde['Tasas'],how = 'inner',on = 'Fecha')\n",
        "\n",
        "    X0 = X.head(1)\n",
        "    DeltaX = np.log(X.shift(-1, fill_value=1)/X)\n",
        "    X_s=np.exp(DeltaX.squeeze())*X0.squeeze()\n",
        "    # Y_s = ['Cete', 'BonoM','BondesD']\n",
        "    # Y_s = aplicar valoracion de cete a lo de cete, bonom a lo de bonom y bonde a lo de bonde\n",
        "    Y0 = Y_s.head(1)\n",
        "    PL = Y0 - Y_s\n",
        "    cols=PL.shape[1]\n",
        "    PL['Total']=PL.sum(axis=1)\n",
        "    VaR=PL.quantile(alpha, numeric_only=False)\n",
        "    VaR_C=[]\n",
        "\n",
        "    for i in range(0,PL.shape[1]):\n",
        "      VC=CVaR(PL.iloc[:,i],VaR[i])\n",
        "      VaR_C.append(VC)\n",
        "\n",
        "    self.summary = pd.DataFrame({\"VaR\":VaR})\n",
        "    self.summary['CVaR'] = VaR_C\n",
        "\n",
        "    self.posiciones = {'Cete':cete['Posicion'],'BonoM':bonom['Posicion'],'BondeD':bonde['Posicion']}\n",
        "    self.VaR = self.summary[['VaR']]\n",
        "    self.CVaR = self.summary[['CVaR']]\n",
        "    self.alpha = alpha\n",
        "    return\n",
        "\n",
        "\n",
        "\n",
        "################################################################\n",
        "  def compute(self, curva_tasa, fval, fent, posicion, alpha):\n",
        "    \"\"\"\n",
        "    - curva_tasa: DataFrame\n",
        "    \"\"\"\n",
        "    # CETE\n",
        "    self.plazo = (fent - fval).days \n",
        "    ult_tasa = curva_tasa[str(self.plazo)][0]\n",
        "    df = pd.DataFrame({'Tasa':curva_tasa[str(self.plazo)]})\n",
        "    df['Ret_Tasa'] = (df['Tasa'].shift(-1, fill_value=0)/df['Tasa']) - 1\n",
        "    df['Tasa_Act'] = ult_tasa*(1+df['Ret_Tasa'])\n",
        "    df['CETE'] = posicion*df['Tasa_Act'].apply(Cete, args = (self.plazo))\n",
        "    ult_cete = df['CETE'][0]\n",
        "    df['CETE_PL'] = ult_cete - df['CETE']\n",
        "    self.VaR = df['CETE_PL'].quantile(alpha, numeric_only=False)\n",
        "    self.CVaR = CVaR(df['CETE_PL'],self.VaR)\n",
        "    self.alpha = alpha\n",
        "    self.posicion = posicion\n",
        "    self.fecha_valoracion = fval\n",
        "    self.fecha_entrega = fent\n",
        "   \n",
        "\n",
        "    return"
      ],
      "metadata": {
        "id": "LgqpXIsX1ItA"
      },
      "execution_count": null,
      "outputs": []
    },
    {
      "cell_type": "code",
      "source": [
        "class Riesgo_Cete:\n",
        "\n",
        "  def __init__(self):\n",
        "    self.posicion = None\n",
        "    self.fecha_valoracion = None\n",
        "    self.fecha_entrega = None\n",
        "    self.plazo = None\n",
        "    self.VaR = None\n",
        "    self.CVaR = None\n",
        "    self.alpha = None\n",
        "    # self.summary = None\n",
        "    \n",
        "  \n",
        "  def compute(self, curva_tasa, dias, posicion, alpha):\n",
        "    \"\"\"\n",
        "    - curva_tasa: DataFrame\n",
        "    \"\"\"\n",
        "    # CETE\n",
        "    self.plazo = dias # REVISAR\n",
        "    ult_tasa = curva_tasa[str(self.plazo)][0]\n",
        "    df = pd.DataFrame({'Tasa':curva_tasa[str(self.plazo)]})\n",
        "    df['Ret_Tasa'] = (df['Tasa'].shift(1)/df['Tasa']) - 1\n",
        "    df['Ret_Tasa'][0] = 0\n",
        "    print(ult_tasa)\n",
        "    print(df)\n",
        "    df['Tasa_Act'] = ult_tasa*(1+df['Ret_Tasa'])\n",
        "    df['CETE'] = posicion*df['Tasa_Act'].apply(Cete, args = dias)\n",
        "    ult_cete = df['CETE'][0]\n",
        "    df['CETE_PL'] = ult_cete - df['CETE']\n",
        "    self.VaR = df['CETE_PL'].quantile(alpha, numeric_only=False)\n",
        "    self.CVaR = CVaR(df['CETE_PL'],self.VaR)\n",
        "    self.alpha = alpha\n",
        "    self.posicion = posicion\n",
        "    self.fecha_valoracion = fval\n",
        "    self.fecha_entrega = fent\n",
        " \n",
        "\n",
        "    return"
      ],
      "metadata": {
        "id": "pRjZeHtu58zI"
      },
      "execution_count": null,
      "outputs": []
    },
    {
      "cell_type": "code",
      "source": [
        "dias = 180\n",
        "curva_tasa=df\n",
        "posicion = 1500\n",
        "\n",
        "\n",
        "plazo = dias \n",
        "ult_tasa = curva_tasa[str(plazo)][0]\n",
        "df = pd.DataFrame({'Tasa':curva_tasa[str(plazo)]})\n",
        "df['Ret_Tasa'] = (df['Tasa'].shift(1)/df['Tasa']) - 1\n",
        "df['Ret_Tasa'][0] = 0\n",
        "print(ult_tasa)\n",
        "print(df)\n",
        "df['Tasa_Act'] = ult_tasa*(1+df['Ret_Tasa'])"
      ],
      "metadata": {
        "id": "su_gYjxV6LgE",
        "colab": {
          "base_uri": "https://localhost:8080/"
        },
        "outputId": "c71febf2-792a-41a6-9602-6b8df88cc8ba"
      },
      "execution_count": null,
      "outputs": [
        {
          "output_type": "stream",
          "name": "stdout",
          "text": [
            "0.015620437\n",
            "         Tasa  Ret_Tasa\n",
            "0    0.015620  0.000000\n",
            "1    0.015656 -0.002278\n",
            "2    0.015549  0.006881\n",
            "3    0.015549  0.000000\n",
            "4    0.015727 -0.011338\n",
            "..        ...       ...\n",
            "250  0.016227 -0.019780\n",
            "251  0.016228 -0.000078\n",
            "252  0.016229 -0.000053\n",
            "253  0.016191  0.002334\n",
            "254  0.016120  0.004425\n",
            "\n",
            "[255 rows x 2 columns]\n"
          ]
        }
      ]
    },
    {
      "cell_type": "code",
      "source": [
        "cet = [Cete(i,) for i in df['Tasa_Act']]\n",
        "df['CETE'] = posicion*df['Tasa_Act'].apply(Cete, args = dias)"
      ],
      "metadata": {
        "colab": {
          "base_uri": "https://localhost:8080/",
          "height": 253
        },
        "id": "zq_oQj5M6QEQ",
        "outputId": "2dbe2cbe-bcb1-413a-fb16-5667ed2266b0"
      },
      "execution_count": null,
      "outputs": [
        {
          "output_type": "error",
          "ename": "TypeError",
          "evalue": "ignored",
          "traceback": [
            "\u001b[0;31m---------------------------------------------------------------------------\u001b[0m",
            "\u001b[0;31mTypeError\u001b[0m                                 Traceback (most recent call last)",
            "\u001b[0;32m<ipython-input-71-a5325bd1d986>\u001b[0m in \u001b[0;36m<cell line: 1>\u001b[0;34m()\u001b[0m\n\u001b[0;32m----> 1\u001b[0;31m \u001b[0mcet\u001b[0m \u001b[0;34m=\u001b[0m \u001b[0;34m[\u001b[0m\u001b[0mCete\u001b[0m\u001b[0;34m(\u001b[0m\u001b[0mi\u001b[0m\u001b[0;34m,\u001b[0m\u001b[0;34m)\u001b[0m \u001b[0;32mfor\u001b[0m \u001b[0mi\u001b[0m \u001b[0;32min\u001b[0m \u001b[0mdf\u001b[0m\u001b[0;34m[\u001b[0m\u001b[0;34m'Tasa_Act'\u001b[0m\u001b[0;34m]\u001b[0m\u001b[0;34m]\u001b[0m\u001b[0;34m\u001b[0m\u001b[0;34m\u001b[0m\u001b[0m\n\u001b[0m\u001b[1;32m      2\u001b[0m \u001b[0mdf\u001b[0m\u001b[0;34m[\u001b[0m\u001b[0;34m'CETE'\u001b[0m\u001b[0;34m]\u001b[0m \u001b[0;34m=\u001b[0m \u001b[0mposicion\u001b[0m\u001b[0;34m*\u001b[0m\u001b[0mdf\u001b[0m\u001b[0;34m[\u001b[0m\u001b[0;34m'Tasa_Act'\u001b[0m\u001b[0;34m]\u001b[0m\u001b[0;34m.\u001b[0m\u001b[0mapply\u001b[0m\u001b[0;34m(\u001b[0m\u001b[0mCete\u001b[0m\u001b[0;34m,\u001b[0m \u001b[0margs\u001b[0m \u001b[0;34m=\u001b[0m \u001b[0mdias\u001b[0m\u001b[0;34m)\u001b[0m\u001b[0;34m\u001b[0m\u001b[0;34m\u001b[0m\u001b[0m\n",
            "\u001b[0;32m<ipython-input-71-a5325bd1d986>\u001b[0m in \u001b[0;36m<listcomp>\u001b[0;34m(.0)\u001b[0m\n\u001b[0;32m----> 1\u001b[0;31m \u001b[0mcet\u001b[0m \u001b[0;34m=\u001b[0m \u001b[0;34m[\u001b[0m\u001b[0mCete\u001b[0m\u001b[0;34m(\u001b[0m\u001b[0mi\u001b[0m\u001b[0;34m,\u001b[0m\u001b[0;34m)\u001b[0m \u001b[0;32mfor\u001b[0m \u001b[0mi\u001b[0m \u001b[0;32min\u001b[0m \u001b[0mdf\u001b[0m\u001b[0;34m[\u001b[0m\u001b[0;34m'Tasa_Act'\u001b[0m\u001b[0;34m]\u001b[0m\u001b[0;34m]\u001b[0m\u001b[0;34m\u001b[0m\u001b[0;34m\u001b[0m\u001b[0m\n\u001b[0m\u001b[1;32m      2\u001b[0m \u001b[0mdf\u001b[0m\u001b[0;34m[\u001b[0m\u001b[0;34m'CETE'\u001b[0m\u001b[0;34m]\u001b[0m \u001b[0;34m=\u001b[0m \u001b[0mposicion\u001b[0m\u001b[0;34m*\u001b[0m\u001b[0mdf\u001b[0m\u001b[0;34m[\u001b[0m\u001b[0;34m'Tasa_Act'\u001b[0m\u001b[0;34m]\u001b[0m\u001b[0;34m.\u001b[0m\u001b[0mapply\u001b[0m\u001b[0;34m(\u001b[0m\u001b[0mCete\u001b[0m\u001b[0;34m,\u001b[0m \u001b[0margs\u001b[0m \u001b[0;34m=\u001b[0m \u001b[0mdias\u001b[0m\u001b[0;34m)\u001b[0m\u001b[0;34m\u001b[0m\u001b[0;34m\u001b[0m\u001b[0m\n",
            "\u001b[0;31mTypeError\u001b[0m: Cete() missing 1 required positional argument: 't'"
          ]
        }
      ]
    },
    {
      "cell_type": "code",
      "source": [
        "miCETE = Riesgo_Cete()"
      ],
      "metadata": {
        "id": "OaVg_lYA6WCj"
      },
      "execution_count": null,
      "outputs": []
    },
    {
      "cell_type": "code",
      "source": [
        "# Función para valuar el Bono M\n",
        "def BonoM(x, plazos, plazocupon, tfcupon, nominal, contratos):\n",
        "  x=x0  \n",
        "  N=int(plazos/plazocupon)+1   \n",
        "  a=(1-(1+x*plazocupon/360)**(-N))/(plazocupon*x/360)\n",
        "  p1=plazos-plazocupon*(N-1)   \n",
        "  precio=((contratos*nominal*tfcupon*plazocupon/360)*a+(contratos*nominal)/((1+x*plazocupon/360)**N))*(1+x*plazocupon/360)**(1-p1/plazocupon) \n",
        "\n",
        "  return precio"
      ],
      "metadata": {
        "id": "6KQPPb20VeKZ"
      },
      "execution_count": null,
      "outputs": []
    },
    {
      "cell_type": "markdown",
      "source": [
        "En R"
      ],
      "metadata": {
        "id": "FpcpJeaGkAav"
      }
    },
    {
      "cell_type": "code",
      "source": [
        "# Primero vamos a definir una función para la interpolación\n",
        "%%R\n",
        "#FUNCIÓN DE INTERPOLACIÓN ALAMBRADA\n",
        "\n",
        "talamb=function(nodos,curva,plazos){\n",
        "  n=max(ncol(plazos),1)\n",
        "  m=max(ncol(nodos),1)\n",
        "  TC=matrix(0,1,n)\n",
        "  TL=matrix(0,1,n)\n",
        "  TF=matrix(0,1,n)\n",
        "  for (j in 1:n){\n",
        "    i=1\n",
        "    repeat\n",
        "    {\n",
        "      if(nodos[i]<= plazos[j] && plazos[j] <=nodos[i+1])\n",
        "      {\n",
        "        TC[j]=curva[i]\n",
        "        TL[j]=curva[i+1]\n",
        "        TF[j]=((((1+TL[j]*nodos[i+1]/360)/(1+TC[j]*nodos[i]/360))^((plazos[j]-nodos[i])/(nodos[i+1]-nodos[i]))*(1+TC[j]*nodos[i]/360))-1)*360/plazos[j]\n",
        "        break\n",
        "      }\n",
        "      else if (plazos[j]<nodos[1])\n",
        "      {\n",
        "        TC[j]=curva[1]\n",
        "        TL[j]=curva[1]\n",
        "        TF[j]=curva[1]\n",
        "        break\n",
        "      }\n",
        "      else if (plazos[j]>nodos[m])\n",
        "      {\n",
        "        TC[j]=curva[m]\n",
        "        TL[j]=curva[m]\n",
        "        TF[j]=curva[m]\n",
        "        break\n",
        "      }\n",
        "      else\n",
        "      {i=i+1}\n",
        "    }\n",
        "  }\n",
        "  as.matrix(t(as.numeric(rbind(TF))))\n",
        "}\n",
        "\n",
        "# Función para diagonalizar un vector\n",
        "diagv=function(x)\t{\n",
        "  n01=nrow(as.matrix(x))\n",
        "  m01=ncol(as.matrix(x))\n",
        "  dimmax=max(n01,m01)\n",
        "  res=matrix(0,dimmax,dimmax)\n",
        "  for (i in 1:dimmax){\n",
        "    res[i,i]=x[i]\n",
        "  }\n",
        "  res\n",
        "}\n",
        "\n",
        "#Función de cuantil más cercano\n",
        "equantile <- function(v,p=.5,ns=nrow(as.matrix(v))) \n",
        "{ \n",
        "  if ( !is.numeric(p) || any( p<0 | p>1) ) \n",
        "    stop(\"Percentil tiene que ser 0<=p<=1\") \n",
        "  ranking <- order(v) \n",
        "  vw=matrix(0,ns,1)\n",
        "  vw[1:ns]=seq(1/ns,ns)  \n",
        "  sumw <- cumsum(vw[ranking]) \n",
        "  plist <- sumw / sumw[ length(sumw) ] \n",
        "  v [ ranking [ which.max( plist >= p ) ] ]  \n",
        "} "
      ],
      "metadata": {
        "id": "MND5x-s6Y86H"
      },
      "execution_count": 36,
      "outputs": []
    },
    {
      "cell_type": "code",
      "source": [
        "%%R\n",
        "#VaR con alisado\n",
        "\n",
        "wquantile <- function(v,w=rep(1,length(v)),p=.5) \n",
        "{ \n",
        "  if ( !is.numeric(w) || length(v) != length(w) ) \n",
        "    stop(\"Los valores y los pesos tienen que tener misma longitud\") \n",
        "  if ( !is.numeric(p) || any( p<0 | p>1) ) \n",
        "    stop(\"Percentil tiene que ser 0<=p<=1\") \n",
        "  if ( min(w) < 0 ) stop(\"Los pesos tiene que ser mayores que 0\") \n",
        "  ranking <- order(v) \n",
        "  sumw <- cumsum(w[ranking]) \n",
        "  plist <- sumw / sumw[ length(sumw) ] \n",
        "  v [ ranking [ which.max( plist >= p ) ] ]  \n",
        "} \n",
        "\n",
        "#CVaR con alisado\n",
        "wcvar <- function(v,w=rep(1,length(v)),p=.5) \n",
        "{ \n",
        "  if ( !is.numeric(w) || length(v) != length(w) ) \n",
        "    stop(\"Los valores y los pesos tienen que tener misma longitud\") \n",
        "  if ( !is.numeric(p) || any( p<0 | p>1) ) \n",
        "    stop(\"Percentil tiene que ser 0<=p<=1\") \n",
        "  if ( min(w) < 0 ) stop(\"Los pesos tiene que ser mayores que 0\") \n",
        "  ranking <- order(v) \n",
        "  sumw <- cumsum(w[ranking]) \n",
        "  plist <- sumw / sumw[ length(sumw) ] \n",
        "  loss= v [ ranking [ which( plist <= p ) ] ]  \n",
        "  esc=w [ ranking [ which( plist <= p ) ] ]  \n",
        "  sum(loss*esc)/(sum(esc))\n",
        "}"
      ],
      "metadata": {
        "id": "g0Jt5B4apV-C"
      },
      "execution_count": 37,
      "outputs": []
    },
    {
      "cell_type": "code",
      "source": [
        "%%R\n",
        "#Definición de parámetros para valorar\n",
        "fval=as.Date(\"20230310\",format=\"%Y%m%d\")\n",
        "alpha = 0.98 #@param {type:\"slider\", min:0, max:1, step:0.01}\n",
        "#poner 0 si se quiere interpolación lineal o 1 si se quiere tasa alambrada\n",
        "itpl = 0 #@param [\"0\", \"1\"] {type:\"raw\"} "
      ],
      "metadata": {
        "id": "6hwRVG8v9K2E"
      },
      "execution_count": 38,
      "outputs": []
    },
    {
      "cell_type": "markdown",
      "source": [
        "Valuación del Bono M en R"
      ],
      "metadata": {
        "id": "yUTOQEDPkQwy"
      }
    },
    {
      "cell_type": "code",
      "source": [
        "# Bono M\n",
        "%%R\n",
        "tasayield=\"Tarea1-AdRF/tasa_yield.txt\"\n",
        "\n",
        "\n",
        "itpl=0 #poner 0 si se quiere interpolación lineal o 1 si se quiere tasa alambrada\n",
        "\n",
        "tf = cbind(0.065,0)\n",
        "tfcupon = cbind(0.0605, 0)\n",
        "plazos= cbind(3600, 0)\n",
        "plazocupon = cbind(182, 0)\n",
        "contratos= cbind(1, 0)\n",
        "nominal = 1000"
      ],
      "metadata": {
        "id": "L2aWKtNvp8iP"
      },
      "execution_count": 39,
      "outputs": []
    },
    {
      "cell_type": "code",
      "source": [
        "%%R\n",
        "\n",
        "#carga de datos\n",
        "#carga de tasas de descuento\n",
        "data1<-read.table(tasayield)\n",
        "n<-nrow(data1)\n",
        "m_orig=ncol(data1)\n",
        "X_orig=data.frame(data1[2:n,2:m_orig])\n",
        "nodos=data.frame(data1[1,2:m_orig])\n",
        "n=n-1\n",
        "#Posición inicial\n",
        "#interpolación de tasas y volatilidades\n",
        "m=ncol(plazos)\n",
        "X=matrix(0,n-1,m)\n",
        "for (i in 1:(n-1))\n",
        "{\n",
        "X[i,]=if(itpl==0){approx(nodos,X_orig[i,],plazos)$y}else{talamb(nodos,X_orig[i,],plazos)}\n",
        "}"
      ],
      "metadata": {
        "id": "FLvxuuiOqk03"
      },
      "execution_count": 40,
      "outputs": []
    },
    {
      "cell_type": "code",
      "source": [
        "%%R\n",
        "\n",
        "#Función de valoración por tasa yield\n",
        "bonoMyield=function(x, plazos, plazocupon, tfcupon, nominal, contratos) #valoración bono tasa fija\n",
        "{\n",
        "x=x0  \n",
        "N=as.integer(plazos/plazocupon)+1   \n",
        "a=(1-(1+x*plazocupon/360)^(-N))/(plazocupon*x/360)\n",
        "p1=plazos-plazocupon*(N-1)   \n",
        "((contratos*nominal*tfcupon*plazocupon/360)*a+(contratos*nominal)/((1+x*plazocupon/360)^N))*(1+x*plazocupon/360)^(1-p1/plazocupon)   \n",
        "}\n",
        "\n",
        "x0=0.065 #tasas de descuento valor actual\n",
        "V0_bonom = bonoMyield(x0,plazos, plazocupon, tfcupon, nominal, contratos)\n",
        "V0_bonom[1,2] = 0\n",
        "VT0_bonom=sum(V0_bonom)\n",
        "print(\"Valor del Bono M\")\n",
        "VT0_bonom"
      ],
      "metadata": {
        "id": "jHYGQCZ6q1XA",
        "colab": {
          "base_uri": "https://localhost:8080/"
        },
        "outputId": "c79da2c8-753c-4c3c-e64c-9f7293820069"
      },
      "execution_count": 41,
      "outputs": [
        {
          "output_type": "stream",
          "name": "stdout",
          "text": [
            "[1] \"Valor del Bono M\"\n",
            "[1] 973.9283\n"
          ]
        }
      ]
    },
    {
      "cell_type": "markdown",
      "source": [
        "Valuación de CETE en R"
      ],
      "metadata": {
        "id": "J_6gHCGnrlFP"
      }
    },
    {
      "cell_type": "code",
      "source": [
        "%%R\n",
        "library(dplyr)\n",
        "base=(\"Tarea1-AdRF/tasa_guber.txt\")\n",
        "data_cetes<-read.table(base)\n",
        "colnames(data_cetes)=data_cetes[1,]\n",
        "data_cetes= data_cetes[-1,]\n",
        "colnames(data_cetes)\n",
        "data_cetes=data_cetes[,c('DATE', '180')]\n",
        "data_cetes['Rendimientos']= (data_cetes[ \"180\"]/lag(data_cetes[ \"180\"], 1) )-1\n",
        "data_cetes[is.na(data_cetes)]=0\n",
        "data_cetes['Estimación escenario']= data_cetes[1,'180']*(1+data_cetes['Rendimientos'])\n",
        "posicion=1500\n",
        "plazo=180\n",
        "data_cetes['Valor de la posicion']= (posicion*10)/(1+data_cetes['Estimación escenario']*plazo/360)\n",
        "data_cetes[is.na(data_cetes)]=0\n",
        "data_cetes['PL']=data_cetes['Valor de la posicion']-data_cetes[1,'Valor de la posicion']\n",
        "print('Valor de la posición')\n",
        "print(data_cetes[1,'Valor de la posicion'])"
      ],
      "metadata": {
        "id": "HX3-G-NorMgC",
        "colab": {
          "base_uri": "https://localhost:8080/"
        },
        "outputId": "9c29a652-c864-4ea6-9238-b2a1f5a24c3f"
      },
      "execution_count": 42,
      "outputs": [
        {
          "output_type": "stream",
          "name": "stderr",
          "text": [
            "WARNING:rpy2.rinterface_lib.callbacks:R[write to console]: \n",
            "Attaching package: ‘dplyr’\n",
            "\n",
            "\n",
            "WARNING:rpy2.rinterface_lib.callbacks:R[write to console]: The following objects are masked from ‘package:stats’:\n",
            "\n",
            "    filter, lag\n",
            "\n",
            "\n",
            "WARNING:rpy2.rinterface_lib.callbacks:R[write to console]: The following objects are masked from ‘package:base’:\n",
            "\n",
            "    intersect, setdiff, setequal, union\n",
            "\n",
            "\n"
          ]
        },
        {
          "output_type": "stream",
          "name": "stdout",
          "text": [
            "[1] \"Valor de la posición\"\n",
            "[1] 14423.89\n"
          ]
        }
      ]
    },
    {
      "cell_type": "markdown",
      "source": [
        "Valuación de BONDES en R"
      ],
      "metadata": {
        "id": "WPi0qMe0tPMr"
      }
    },
    {
      "cell_type": "markdown",
      "source": [],
      "metadata": {
        "id": "JjLuNU0A7Ow3"
      }
    },
    {
      "cell_type": "code",
      "source": [
        "%%R\n",
        "#install.packages(\"dplyr\")\n",
        "require(dplyr)\n",
        "require(data.table)\n"
      ],
      "metadata": {
        "id": "McD9KYOLtlGZ",
        "colab": {
          "base_uri": "https://localhost:8080/"
        },
        "outputId": "174c94ae-1722-4d2b-c7fa-c238b0d7e0da"
      },
      "execution_count": 43,
      "outputs": [
        {
          "output_type": "stream",
          "name": "stderr",
          "text": [
            "WARNING:rpy2.rinterface_lib.callbacks:R[write to console]: Loading required package: data.table\n",
            "\n",
            "WARNING:rpy2.rinterface_lib.callbacks:R[write to console]: data.table 1.14.8 using 1 threads (see ?getDTthreads).  Latest news: r-datatable.com\n",
            "\n",
            "WARNING:rpy2.rinterface_lib.callbacks:R[write to console]: \n",
            "Attaching package: ‘data.table’\n",
            "\n",
            "\n",
            "WARNING:rpy2.rinterface_lib.callbacks:R[write to console]: The following objects are masked from ‘package:dplyr’:\n",
            "\n",
            "    between, first, last\n",
            "\n",
            "\n"
          ]
        }
      ]
    },
    {
      "cell_type": "code",
      "source": [
        "%%R\n",
        "# Cargamos las tasas correspondientes\n",
        "btasadescst=\"Tarea1-AdRF/tasa_guber_st.txt\"\n",
        "btasafondeo=\"Tarea1-AdRF/tfondeo.txt\"\n",
        "plazos= cbind(707, 707) #Vencimiento del bono\n",
        "plazocupon= cbind(28, 28) #plazos_bdm fijos de cada cupón\n",
        "contratos = cbind(-1000, 0) # 1000 Bondes\n",
        "nominal=100"
      ],
      "metadata": {
        "id": "kBMdzHjflSk3"
      },
      "execution_count": 45,
      "outputs": []
    },
    {
      "cell_type": "code",
      "source": [
        "\n",
        "%%R\n",
        "#carga de datos\n",
        "#carga de tasas de descuento\n",
        "\n",
        "data1<-read.table(btasadescst)\n",
        "n<-nrow(data1)\n",
        "m_orig=ncol(data1)\n",
        "X_orig=data.frame(data1[2:n,2:m_orig])\n",
        "X1_orig=mutate(data.frame(data1[2:n,1:m_orig]), V1 = as.Date(V1,format=\"%Y%m%d\"))\n",
        "nodos=data.frame(data1[1,2:m_orig])\n",
        "n=n-1\n",
        "\n",
        "data3<-read.table(btasadescst)\n",
        "n3<-nrow(data3)\n",
        "m3_orig=ncol(data3)\n",
        "X3_orig=data.frame(data3[2:n3,2:m3_orig])\n",
        "X3a_orig=mutate(data.frame(data1[2:n,1:m_orig]),V1=as.Date(V1,format=\"%Y%m%d\"))\n",
        "nodos3=data.frame(data3[1,2:m3_orig])\n",
        "n3=n3-1\n",
        "\n",
        "data2<-read.table(btasafondeo)\n",
        "n2<-nrow(data2)\n",
        "X2_orig=data.frame(data2[2:n2,1:2])\n",
        "X2a_orig=mutate(X2_orig, V1=as.Date(V1,format=\"%Y%m%d\"), V2=as.numeric(as.character(V2)))\n",
        "tfh=seq(as.Date(\"20230310\",format=\"%Y%m%d\"), as.Date(\"20230310\",format=\"%Y%m%d\"), \"days\") #sucesión de dias para tasa fondeo\n",
        "#tfhd=data.frame(ID=1:count(tfh),fecha=tfh)\n",
        "tfhd=CJ(fecha=tfh)"
      ],
      "metadata": {
        "id": "QYiDB3CBu96D"
      },
      "execution_count": 46,
      "outputs": []
    },
    {
      "cell_type": "code",
      "source": [
        "%%R\n",
        "#Cruzar la sucesión de todos los días versus el de tasa de fondeo\n",
        "tfhd=setDT(tfhd)[, join_date := tfh][order(-join_date)]\n",
        "X2a_orig=setDT(X2a_orig)[, join_date := V1][order(-join_date)]\n",
        "X2a_orig=X2a_orig[tfhd, on = .(join_date), roll = Inf]"
      ],
      "metadata": {
        "id": "qHbFXysGw9AP"
      },
      "execution_count": 47,
      "outputs": []
    },
    {
      "cell_type": "code",
      "source": [
        "%%R\n",
        "#Cruzar la sucesión de todos los días versus el de tasa de fondeo\n",
        "#buscar fecha de valuación en tfondeo\n",
        "tf_act=X2a_orig[fecha==fval,]$V2/100\n",
        "tf_int=X2a_orig[fecha<=fval & fecha>=(fval-plazocupon[1])]$V2/100\n",
        "\n",
        "X1_orig=setDT(X1_orig)[, join_date := V1][order(-join_date)] #Para alinear con valor presente y tasa de fondeo.\n",
        "X2_pr=X2a_orig[X1_orig, on = .(join_date)] #Se alinea la tasa de fondeo por fecha con la tasa de valor presente.\n",
        "X2_pr"
      ],
      "metadata": {
        "id": "7DCew9BzxBh2",
        "colab": {
          "base_uri": "https://localhost:8080/"
        },
        "outputId": "20048f78-bc4f-4900-f7e5-2b86a7107ca3"
      },
      "execution_count": 48,
      "outputs": [
        {
          "output_type": "stream",
          "name": "stdout",
          "text": [
            "       V1 V2  join_date fecha       i.V1       i.V2         V3         V4\n",
            "  1: <NA> NA 2023-02-28  <NA> 2023-02-28 0.02410237 0.02411239 0.02415083\n",
            "  2: <NA> NA 2023-02-27  <NA> 2023-02-27 0.02354185 0.02411239 0.02415083\n",
            "  3: <NA> NA 2023-02-24  <NA> 2023-02-24 0.02354185 0.02411239 0.02426187\n",
            "  4: <NA> NA 2023-02-23  <NA> 2023-02-23 0.02381987 0.02411239 0.02426187\n",
            "  5: <NA> NA 2023-02-22  <NA> 2023-02-22 0.02354185 0.02411239 0.02426187\n",
            " ---                                                                     \n",
            "251: <NA> NA 2022-03-03  <NA> 2022-03-03 0.02410237 0.02340548 0.02298493\n",
            "252: <NA> NA 2022-03-02  <NA> 2022-03-02 0.02402909 0.02379274 0.02298493\n",
            "253: <NA> NA 2022-03-01  <NA> 2022-03-01 0.02410237 0.02388809 0.02298493\n",
            "254: <NA> NA 2022-02-28  <NA> 2022-02-28 0.02410237 0.02354739 0.02237422\n",
            "255: <NA> NA 2022-02-25  <NA> 2022-02-25 0.02410237 0.02368733 0.02237422\n",
            "             V5         V6         V7         V8         V9        V10\n",
            "  1: 0.02475177 0.02546244 0.02622075 0.02690413 0.02937214 0.03136351\n",
            "  2: 0.02469500 0.02552057 0.02622075 0.02696541 0.02929912 0.03121828\n",
            "  3: 0.02475177 0.02534617 0.02616061 0.02696541 0.02929771 0.03144879\n",
            "  4: 0.02475177 0.02534617 0.02616061 0.02696541 0.02903590 0.03092082\n",
            "  5: 0.02492208 0.02563684 0.02657324 0.02727318 0.02946886 0.03171516\n",
            " ---                                                                  \n",
            "251: 0.02486531 0.02645071 0.02761361 0.02843466 0.03175632 0.03506704\n",
            "252: 0.02469500 0.02645278 0.02760737 0.02842351 0.03189304 0.03511250\n",
            "253: 0.02497885 0.02645417 0.02760525 0.02843485 0.03176697 0.03500299\n",
            "254: 0.02412730 0.02639258 0.02766641 0.02855738 0.03160339 0.03509790\n",
            "255: 0.02384345 0.02627631 0.02770458 0.02855743 0.03160425 0.03500502\n",
            "            V11        V12        V13        V14        V15        V16\n",
            "  1: 0.03289272 0.03351071 0.03436437 0.03526602 0.03609391 0.03694115\n",
            "  2: 0.03321710 0.03351027 0.03390791 0.03485377 0.03592883 0.03708698\n",
            "  3: 0.03363103 0.03387069 0.03407442 0.03480029 0.03617743 0.03761345\n",
            "  4: 0.03266764 0.03289977 0.03341162 0.03400009 0.03535597 0.03674586\n",
            "  5: 0.03374869 0.03413581 0.03455880 0.03512905 0.03645382 0.03780873\n",
            " ---                                                                  \n",
            "251: 0.03751337 0.03742808 0.03711775 0.03665929 0.03628139 0.03600189\n",
            "252: 0.03752081 0.03764741 0.03751559 0.03700956 0.03644020 0.03612089\n",
            "253: 0.03730519 0.03760525 0.03729342 0.03675273 0.03627671 0.03597185\n",
            "254: 0.03740164 0.03749860 0.03727765 0.03683837 0.03621680 0.03586772\n",
            "255: 0.03738199 0.03745312 0.03711488 0.03681174 0.03630552 0.03592849\n",
            "            V17        V18        V19        V20        V21\n",
            "  1: 0.03781778 0.04217406 0.04584163 0.05010564 0.05487885\n",
            "  2: 0.03828887 0.04182567 0.04611632 0.04854497 0.05521948\n",
            "  3: 0.03862363 0.04150827 0.04515417 0.04686812 0.05230233\n",
            "  4: 0.03739847 0.04046352 0.04294930 0.04614855 0.04940701\n",
            "  5: 0.03848393 0.04152484 0.04367164 0.04494939 0.05058507\n",
            " ---                                                       \n",
            "251: 0.03614734 0.03667572 0.03446124 0.03170004 0.04296148\n",
            "252: 0.03626689 0.03682432 0.03450981 0.03175803 0.04307204\n",
            "253: 0.03613621 0.03660589 0.03414882 0.03156491 0.04369903\n",
            "254: 0.03603107 0.03627340 0.03370633 0.03162603 0.04290818\n",
            "255: 0.03604172 0.03659296 0.03396798 0.03138380 0.04344849\n"
          ]
        }
      ]
    },
    {
      "cell_type": "code",
      "source": [
        "%%R\n",
        "#Verificamos el plazo del cupón\n",
        "plazocupon"
      ],
      "metadata": {
        "colab": {
          "base_uri": "https://localhost:8080/"
        },
        "id": "UaZy75apA7or",
        "outputId": "9e58c46a-16ae-4c95-c372-3cc0913a91d7"
      },
      "execution_count": 49,
      "outputs": [
        {
          "output_type": "stream",
          "name": "stdout",
          "text": [
            "     [,1] [,2]\n",
            "[1,]   28   28\n"
          ]
        }
      ]
    },
    {
      "cell_type": "code",
      "source": [
        "%%R\n",
        "# Matriz de ceros\n",
        "matrix(0,1,sum(26) )"
      ],
      "metadata": {
        "colab": {
          "base_uri": "https://localhost:8080/"
        },
        "id": "mqKwKCqeBDMW",
        "outputId": "b24d4c60-28b5-47f1-e761-d42cd18048ed"
      },
      "execution_count": 50,
      "outputs": [
        {
          "output_type": "stream",
          "name": "stdout",
          "text": [
            "     [,1] [,2] [,3] [,4] [,5] [,6] [,7] [,8] [,9] [,10] [,11] [,12] [,13] [,14]\n",
            "[1,]    0    0    0    0    0    0    0    0    0     0     0     0     0     0\n",
            "     [,15] [,16] [,17] [,18] [,19] [,20] [,21] [,22] [,23] [,24] [,25] [,26]\n",
            "[1,]     0     0     0     0     0     0     0     0     0     0     0     0\n"
          ]
        }
      ]
    },
    {
      "cell_type": "code",
      "source": [
        "%%R      \n",
        "\n",
        "m=ncol(plazos)\n",
        "\n",
        "\n",
        "N=as.integer(plazos/plazocupon)+1 #número de cupones a pagar\n",
        "VTplazos=matrix(0,1,sum(N)) #vector de todos los plazos de todos los contratos\n",
        "contratosT=matrix(0,1,sum(N)) #vector de todos los contratos de todos los flujos de todos los contratos\n",
        "nominalT=matrix(0,1,sum(N)) #vector de todos los nominales de todos los flujos de todos los contratos\n",
        "plazocuponT=matrix(0,1,sum(N)) #vector de todos los plazoscupon de todos los flujos de todos los contratos\n",
        "tasafijaT=matrix(0,1,sum(N)) #vector de tasas fijas de todos los flujos de todos los contratos\n",
        "ulNomT=matrix(0,1,sum(N)) #vector de contratos a final de flujo\n",
        "\n",
        "\n",
        "plazini=plazos-plazocupon*(N-1) #vector de plazos iniciales\n",
        "ddv=plazocupon-plazini #dias trasncurridos del cupón vigente\n",
        "tfcupon=matrix(0,1,m)  #El primero cupón de cada bono\n",
        "tfcupondev=matrix(0,1,m) #cupón de los días devengados\n",
        "tfcupgen=((1+tf_act/360)^(plazocupon[1])-1)*360/plazocupon[1] #el segundo al último cupón de todos los bonos\n",
        "#calcula cupones de bonos\n",
        "for (j in (1:m))\n",
        "{\n",
        "  tfcupondev[j]=(prod(1+tf_int[(1:ddv[j])]/360)-1)*360/ddv[j]\n",
        "  tfcupon[j]=((1+tfcupondev[j]*ddv[j]/360)*(1+tf_act/360)^(plazocupon[1]-ddv[j])-1)*360/plazocupon[1]\n",
        "}\n",
        "\n",
        "\n",
        "for (j in (1:m))\n",
        "{\n",
        "  if (j==1)\n",
        "  {\n",
        "    VTplazos[,1:sum(N[1:j])]=seq(plazini[j],plazos[j], by=plazocupon[j])\n",
        "    contratosT[,1:sum(N[1:j])]=seq(contratos[j],contratos[j])\n",
        "    plazocuponT[,1:sum(N[1:j])]=seq(plazocupon[j],plazocupon[j])\n",
        "    ulNomT[,sum(N[1:j])]=contratos[j]\n",
        "    tasafijaT[,1]=tfcupon[j]\n",
        "    tasafijaT[,2:sum(N[1:j])]=seq(tfcupgen,tfcupgen)\n",
        "  }\n",
        "  else\n",
        "  {\n",
        "    VTplazos[,(sum(N[1:j-1])+1):sum(N[1:j])]=seq(plazini[j],plazos[j], by=plazocupon[j])\n",
        "    contratosT[,(sum(N[1:j-1])+1):sum(N[1:j])]=seq(contratos[j],contratos[j])\t\t\t\t\t\n",
        "    plazocuponT[,(sum(N[1:j-1])+1):sum(N[1:j])]=seq(plazocupon[j],plazocupon[j])\n",
        "    tasafijaT[,(sum(N[1:j-1])+1)]=tfcupon[j]\n",
        "    tasafijaT[,(sum(N[1:j-1])+2):sum(N[1:j])]=seq(tfcupgen,tfcupgen)\n",
        "    ulNomT[,sum(N[1:j])]=contratos[j]\n",
        "  }\n",
        "}\n",
        "\n",
        "Xvp=matrix(0,n,ncol(VTplazos))\n",
        "Xst=matrix(0,n,ncol(VTplazos))\n",
        "\n",
        "for (i in (1:n))\n",
        "{\n",
        "  Xvp[i,]=if(itpl==0){approx(nodos,X_orig[i,],VTplazos)$y}else{talamb(nodos,X_orig[i,],VTplazos)}\n",
        "  Xst[i,]=if(itpl==0){approx(nodos3,X3_orig[i,],VTplazos)$y}else{talamb(nodos3,X3_orig[i,],VTplazos)}\n",
        "  \n",
        "}\n",
        "\n",
        "head(Xvp)\n",
        "head(Xst)\n"
      ],
      "metadata": {
        "id": "XGHATJ2L2Asc"
      },
      "execution_count": null,
      "outputs": []
    },
    {
      "cell_type": "code",
      "source": [
        "%%R\n",
        "tf_act"
      ],
      "metadata": {
        "colab": {
          "base_uri": "https://localhost:8080/"
        },
        "id": "7bUXiSjYE70k",
        "outputId": "e4834d2e-241a-4125-ded2-19616763b2ad"
      },
      "execution_count": 58,
      "outputs": [
        {
          "output_type": "stream",
          "name": "stdout",
          "text": [
            "[1] 0.1105\n"
          ]
        }
      ]
    },
    {
      "cell_type": "code",
      "source": [
        "%%R   \n",
        "\n",
        "X_bd_tc=matrix(1,n,ncol(contratosT))*X2_pr$V2/100\n",
        "X_bd_ext=cbind(X_bd_tc,as.matrix(Xvp),as.matrix(Xst))\n",
        "\n",
        "\n",
        "bondeD=function(contratosT, nominal, tasafijaT, plazocuponT, VTplazos, Xvp, Xst, N)\n",
        "{ \n",
        "  V0=matrix(0,1,nrow(as.matrix(N)))\n",
        "  V0f=((((contratosT*(tasafijaT)*(plazocuponT/360))+ulNomT)/(1+(Xvp+Xst)*VTplazos/360)))*nominal\n",
        "  for (j in (1:nrow(as.matrix(N))))\n",
        "  {\n",
        "    if(j==1)\n",
        "    {\n",
        "      V0[j]=sum(V0f[j:N[j]])\n",
        "    }\n",
        "    else\n",
        "    {\n",
        "      V0[j]=sum(V0f[(sum(N[1:j-1])+1):(sum(N[1:j]))])\n",
        "    }\n",
        "  }\n",
        "  V0\n",
        "} \n",
        "\n",
        "V0_bd=bondeD(contratosT, nominal, tasafijaT, plazocuponT, VTplazos, Xvp[1,], Xst[1,], N)\n",
        "print(\"Valor del Bonde D\")\n",
        "print(V0_bd[1,1])"
      ],
      "metadata": {
        "id": "G2vZd5uC2oXm",
        "colab": {
          "base_uri": "https://localhost:8080/"
        },
        "outputId": "baf6f6bb-2d56-467e-f8e1-0d890f04ee08"
      },
      "execution_count": 52,
      "outputs": [
        {
          "output_type": "stream",
          "name": "stdout",
          "text": [
            "[1] \"Valor del Bonde D\"\n",
            "[1] NA\n"
          ]
        }
      ]
    },
    {
      "cell_type": "markdown",
      "source": [
        "## VaR y CVaR Sin Alisado\n"
      ],
      "metadata": {
        "id": "rMf7vuUS8QDO"
      }
    },
    {
      "cell_type": "code",
      "source": [
        "%%R\n",
        "#DIMENSION DE TODOS LOS INSTRUMENTOS\n",
        "#Son 3 instrumentos financieros \n",
        "n_if=matrix(0,2,1)\n",
        "n_if[1]=ncol(X_bd_ext) #bonde\n",
        "n_if[1]=1 #Cetes\n",
        "n_if[2]=0 #Bonos M\n",
        "#valor del portafolios\n",
        "\n",
        "V0_port=cbind( VT0_bonom)\n",
        "\n",
        "V0T_port=sum(V0_port)"
      ],
      "metadata": {
        "id": "lOGhaw7d8Uep"
      },
      "execution_count": 59,
      "outputs": []
    },
    {
      "cell_type": "code",
      "source": [
        "%%R\n",
        "#INTEGRACIÓN DE TODOS LOS FACTORES DE RIESGO EN UNA MATRIZ\n",
        "X_port=cbind(x[,1], X[,1]) #Factores de riesgo del portafolios de 8(9) instrumentos financieros\n",
        "\n",
        "#Cálculo de variaciones Delta_X DEL PORTAFOLIOS\n",
        "DeltaX_port=as.matrix(log(X_port[1:(n-1)]/X_port[2:(n)]))\n",
        "DeltaX_port[is.nan(DeltaX_port)] <- 0 #quitamos NaN\n",
        "DeltaX_port[is.na(DeltaX_port)] <- 0 #quitamos Na\n",
        "DeltaX_port[is.infinite(DeltaX_port)] <- 0 #quitamos Na\n",
        "\n",
        "\n",
        "Ns=nrow(DeltaX_port) #Definimos número de escenarios históricos\n",
        "\n",
        "DeltaX_s=DeltaX_port"
      ],
      "metadata": {
        "id": "6A37syAADkyb",
        "colab": {
          "base_uri": "https://localhost:8080/",
          "height": 678
        },
        "outputId": "c444f625-4099-4742-d142-d831606624e1"
      },
      "execution_count": 60,
      "outputs": [
        {
          "output_type": "stream",
          "name": "stderr",
          "text": [
            "WARNING:rpy2.rinterface_lib.callbacks:R[write to console]: Error in cbind(x[, 1], X[, 1]) : object 'x' not found\n",
            "\n"
          ]
        },
        {
          "output_type": "stream",
          "name": "stdout",
          "text": [
            "\n",
            "Error in cbind(x[, 1], X[, 1]) : object 'x' not found\n"
          ]
        },
        {
          "output_type": "error",
          "ename": "RInterpreterError",
          "evalue": "ignored",
          "traceback": [
            "\u001b[0;31m---------------------------------------------------------------------------\u001b[0m",
            "\u001b[0;31mRRuntimeError\u001b[0m                             Traceback (most recent call last)",
            "\u001b[0;32m/usr/local/lib/python3.9/dist-packages/rpy2/ipython/rmagic.py\u001b[0m in \u001b[0;36meval\u001b[0;34m(self, code)\u001b[0m\n\u001b[1;32m    279\u001b[0m                 \u001b[0;31m# Need the newline in case the last line in code is a comment.\u001b[0m\u001b[0;34m\u001b[0m\u001b[0;34m\u001b[0m\u001b[0m\n\u001b[0;32m--> 280\u001b[0;31m                 \u001b[0mvalue\u001b[0m\u001b[0;34m,\u001b[0m \u001b[0mvisible\u001b[0m \u001b[0;34m=\u001b[0m \u001b[0mro\u001b[0m\u001b[0;34m.\u001b[0m\u001b[0mr\u001b[0m\u001b[0;34m(\u001b[0m\u001b[0;34m\"withVisible({%s\\n})\"\u001b[0m \u001b[0;34m%\u001b[0m \u001b[0mcode\u001b[0m\u001b[0;34m)\u001b[0m\u001b[0;34m\u001b[0m\u001b[0;34m\u001b[0m\u001b[0m\n\u001b[0m\u001b[1;32m    281\u001b[0m             \u001b[0;32mexcept\u001b[0m \u001b[0;34m(\u001b[0m\u001b[0mri\u001b[0m\u001b[0;34m.\u001b[0m\u001b[0membedded\u001b[0m\u001b[0;34m.\u001b[0m\u001b[0mRRuntimeError\u001b[0m\u001b[0;34m,\u001b[0m \u001b[0mValueError\u001b[0m\u001b[0;34m)\u001b[0m \u001b[0;32mas\u001b[0m \u001b[0mexception\u001b[0m\u001b[0;34m:\u001b[0m\u001b[0;34m\u001b[0m\u001b[0;34m\u001b[0m\u001b[0m\n",
            "\u001b[0;32m/usr/local/lib/python3.9/dist-packages/rpy2/robjects/__init__.py\u001b[0m in \u001b[0;36m__call__\u001b[0;34m(self, string)\u001b[0m\n\u001b[1;32m    450\u001b[0m         \u001b[0mp\u001b[0m \u001b[0;34m=\u001b[0m \u001b[0mrinterface\u001b[0m\u001b[0;34m.\u001b[0m\u001b[0mparse\u001b[0m\u001b[0;34m(\u001b[0m\u001b[0mstring\u001b[0m\u001b[0;34m)\u001b[0m\u001b[0;34m\u001b[0m\u001b[0;34m\u001b[0m\u001b[0m\n\u001b[0;32m--> 451\u001b[0;31m         \u001b[0mres\u001b[0m \u001b[0;34m=\u001b[0m \u001b[0mself\u001b[0m\u001b[0;34m.\u001b[0m\u001b[0meval\u001b[0m\u001b[0;34m(\u001b[0m\u001b[0mp\u001b[0m\u001b[0;34m)\u001b[0m\u001b[0;34m\u001b[0m\u001b[0;34m\u001b[0m\u001b[0m\n\u001b[0m\u001b[1;32m    452\u001b[0m         \u001b[0;32mreturn\u001b[0m \u001b[0mconversion\u001b[0m\u001b[0;34m.\u001b[0m\u001b[0mrpy2py\u001b[0m\u001b[0;34m(\u001b[0m\u001b[0mres\u001b[0m\u001b[0;34m)\u001b[0m\u001b[0;34m\u001b[0m\u001b[0;34m\u001b[0m\u001b[0m\n",
            "\u001b[0;32m/usr/local/lib/python3.9/dist-packages/rpy2/robjects/functions.py\u001b[0m in \u001b[0;36m__call__\u001b[0;34m(self, *args, **kwargs)\u001b[0m\n\u001b[1;32m    200\u001b[0m                 \u001b[0mkwargs\u001b[0m\u001b[0;34m[\u001b[0m\u001b[0mr_k\u001b[0m\u001b[0;34m]\u001b[0m \u001b[0;34m=\u001b[0m \u001b[0mv\u001b[0m\u001b[0;34m\u001b[0m\u001b[0;34m\u001b[0m\u001b[0m\n\u001b[0;32m--> 201\u001b[0;31m         return (super(SignatureTranslatedFunction, self)\n\u001b[0m\u001b[1;32m    202\u001b[0m                 .__call__(*args, **kwargs))\n",
            "\u001b[0;32m/usr/local/lib/python3.9/dist-packages/rpy2/robjects/functions.py\u001b[0m in \u001b[0;36m__call__\u001b[0;34m(self, *args, **kwargs)\u001b[0m\n\u001b[1;32m    123\u001b[0m                 \u001b[0mnew_kwargs\u001b[0m\u001b[0;34m[\u001b[0m\u001b[0mk\u001b[0m\u001b[0;34m]\u001b[0m \u001b[0;34m=\u001b[0m \u001b[0mconversion\u001b[0m\u001b[0;34m.\u001b[0m\u001b[0mpy2rpy\u001b[0m\u001b[0;34m(\u001b[0m\u001b[0mv\u001b[0m\u001b[0;34m)\u001b[0m\u001b[0;34m\u001b[0m\u001b[0;34m\u001b[0m\u001b[0m\n\u001b[0;32m--> 124\u001b[0;31m         \u001b[0mres\u001b[0m \u001b[0;34m=\u001b[0m \u001b[0msuper\u001b[0m\u001b[0;34m(\u001b[0m\u001b[0mFunction\u001b[0m\u001b[0;34m,\u001b[0m \u001b[0mself\u001b[0m\u001b[0;34m)\u001b[0m\u001b[0;34m.\u001b[0m\u001b[0m__call__\u001b[0m\u001b[0;34m(\u001b[0m\u001b[0;34m*\u001b[0m\u001b[0mnew_args\u001b[0m\u001b[0;34m,\u001b[0m \u001b[0;34m**\u001b[0m\u001b[0mnew_kwargs\u001b[0m\u001b[0;34m)\u001b[0m\u001b[0;34m\u001b[0m\u001b[0;34m\u001b[0m\u001b[0m\n\u001b[0m\u001b[1;32m    125\u001b[0m         \u001b[0mres\u001b[0m \u001b[0;34m=\u001b[0m \u001b[0mconversion\u001b[0m\u001b[0;34m.\u001b[0m\u001b[0mrpy2py\u001b[0m\u001b[0;34m(\u001b[0m\u001b[0mres\u001b[0m\u001b[0;34m)\u001b[0m\u001b[0;34m\u001b[0m\u001b[0;34m\u001b[0m\u001b[0m\n",
            "\u001b[0;32m/usr/local/lib/python3.9/dist-packages/rpy2/rinterface_lib/conversion.py\u001b[0m in \u001b[0;36m_\u001b[0;34m(*args, **kwargs)\u001b[0m\n\u001b[1;32m     44\u001b[0m     \u001b[0;32mdef\u001b[0m \u001b[0m_\u001b[0m\u001b[0;34m(\u001b[0m\u001b[0;34m*\u001b[0m\u001b[0margs\u001b[0m\u001b[0;34m,\u001b[0m \u001b[0;34m**\u001b[0m\u001b[0mkwargs\u001b[0m\u001b[0;34m)\u001b[0m\u001b[0;34m:\u001b[0m\u001b[0;34m\u001b[0m\u001b[0;34m\u001b[0m\u001b[0m\n\u001b[0;32m---> 45\u001b[0;31m         \u001b[0mcdata\u001b[0m \u001b[0;34m=\u001b[0m \u001b[0mfunction\u001b[0m\u001b[0;34m(\u001b[0m\u001b[0;34m*\u001b[0m\u001b[0margs\u001b[0m\u001b[0;34m,\u001b[0m \u001b[0;34m**\u001b[0m\u001b[0mkwargs\u001b[0m\u001b[0;34m)\u001b[0m\u001b[0;34m\u001b[0m\u001b[0;34m\u001b[0m\u001b[0m\n\u001b[0m\u001b[1;32m     46\u001b[0m         \u001b[0;31m# TODO: test cdata is of the expected CType\u001b[0m\u001b[0;34m\u001b[0m\u001b[0;34m\u001b[0m\u001b[0m\n",
            "\u001b[0;32m/usr/local/lib/python3.9/dist-packages/rpy2/rinterface.py\u001b[0m in \u001b[0;36m__call__\u001b[0;34m(self, *args, **kwargs)\u001b[0m\n\u001b[1;32m    809\u001b[0m             \u001b[0;32mif\u001b[0m \u001b[0merror_occured\u001b[0m\u001b[0;34m[\u001b[0m\u001b[0;36m0\u001b[0m\u001b[0;34m]\u001b[0m\u001b[0;34m:\u001b[0m\u001b[0;34m\u001b[0m\u001b[0;34m\u001b[0m\u001b[0m\n\u001b[0;32m--> 810\u001b[0;31m                 \u001b[0;32mraise\u001b[0m \u001b[0membedded\u001b[0m\u001b[0;34m.\u001b[0m\u001b[0mRRuntimeError\u001b[0m\u001b[0;34m(\u001b[0m\u001b[0m_rinterface\u001b[0m\u001b[0;34m.\u001b[0m\u001b[0m_geterrmessage\u001b[0m\u001b[0;34m(\u001b[0m\u001b[0;34m)\u001b[0m\u001b[0;34m)\u001b[0m\u001b[0;34m\u001b[0m\u001b[0;34m\u001b[0m\u001b[0m\n\u001b[0m\u001b[1;32m    811\u001b[0m         \u001b[0;32mreturn\u001b[0m \u001b[0mres\u001b[0m\u001b[0;34m\u001b[0m\u001b[0;34m\u001b[0m\u001b[0m\n",
            "\u001b[0;31mRRuntimeError\u001b[0m: Error in cbind(x[, 1], X[, 1]) : object 'x' not found\n",
            "\nDuring handling of the above exception, another exception occurred:\n",
            "\u001b[0;31mRInterpreterError\u001b[0m                         Traceback (most recent call last)",
            "\u001b[0;32m<ipython-input-60-8a83a35b3e75>\u001b[0m in \u001b[0;36m<cell line: 1>\u001b[0;34m()\u001b[0m\n\u001b[0;32m----> 1\u001b[0;31m \u001b[0mget_ipython\u001b[0m\u001b[0;34m(\u001b[0m\u001b[0;34m)\u001b[0m\u001b[0;34m.\u001b[0m\u001b[0mrun_cell_magic\u001b[0m\u001b[0;34m(\u001b[0m\u001b[0;34m'R'\u001b[0m\u001b[0;34m,\u001b[0m \u001b[0;34m''\u001b[0m\u001b[0;34m,\u001b[0m \u001b[0;34m'#INTEGRACIÓN DE TODOS LOS FACTORES DE RIESGO EN UNA MATRIZ\\nX_port=cbind(x[,1], X[,1]) #Factores de riesgo del portafolios de 8(9) instrumentos financieros\\n\\n#Cálculo de variaciones Delta_X DEL PORTAFOLIOS\\nDeltaX_port=as.matrix(log(X_port[1:(n-1)]/X_port[2:(n)]))\\nDeltaX_port[is.nan(DeltaX_port)] <- 0 #quitamos NaN\\nDeltaX_port[is.na(DeltaX_port)] <- 0 #quitamos Na\\nDeltaX_port[is.infinite(DeltaX_port)] <- 0 #quitamos Na\\n\\n\\nNs=nrow(DeltaX_port) #Definimos número de escenarios históricos\\n\\nDeltaX_s=DeltaX_port\\n'\u001b[0m\u001b[0;34m)\u001b[0m\u001b[0;34m\u001b[0m\u001b[0;34m\u001b[0m\u001b[0m\n\u001b[0m",
            "\u001b[0;32m/usr/local/lib/python3.9/dist-packages/google/colab/_shell.py\u001b[0m in \u001b[0;36mrun_cell_magic\u001b[0;34m(self, magic_name, line, cell)\u001b[0m\n\u001b[1;32m    332\u001b[0m     \u001b[0;32mif\u001b[0m \u001b[0mline\u001b[0m \u001b[0;32mand\u001b[0m \u001b[0;32mnot\u001b[0m \u001b[0mcell\u001b[0m\u001b[0;34m:\u001b[0m\u001b[0;34m\u001b[0m\u001b[0;34m\u001b[0m\u001b[0m\n\u001b[1;32m    333\u001b[0m       \u001b[0mcell\u001b[0m \u001b[0;34m=\u001b[0m \u001b[0;34m' '\u001b[0m\u001b[0;34m\u001b[0m\u001b[0;34m\u001b[0m\u001b[0m\n\u001b[0;32m--> 334\u001b[0;31m     \u001b[0;32mreturn\u001b[0m \u001b[0msuper\u001b[0m\u001b[0;34m(\u001b[0m\u001b[0;34m)\u001b[0m\u001b[0;34m.\u001b[0m\u001b[0mrun_cell_magic\u001b[0m\u001b[0;34m(\u001b[0m\u001b[0mmagic_name\u001b[0m\u001b[0;34m,\u001b[0m \u001b[0mline\u001b[0m\u001b[0;34m,\u001b[0m \u001b[0mcell\u001b[0m\u001b[0;34m)\u001b[0m\u001b[0;34m\u001b[0m\u001b[0;34m\u001b[0m\u001b[0m\n\u001b[0m\u001b[1;32m    335\u001b[0m \u001b[0;34m\u001b[0m\u001b[0m\n\u001b[1;32m    336\u001b[0m \u001b[0;34m\u001b[0m\u001b[0m\n",
            "\u001b[0;32m/usr/local/lib/python3.9/dist-packages/IPython/core/interactiveshell.py\u001b[0m in \u001b[0;36mrun_cell_magic\u001b[0;34m(self, magic_name, line, cell)\u001b[0m\n\u001b[1;32m   2471\u001b[0m             \u001b[0;32mwith\u001b[0m \u001b[0mself\u001b[0m\u001b[0;34m.\u001b[0m\u001b[0mbuiltin_trap\u001b[0m\u001b[0;34m:\u001b[0m\u001b[0;34m\u001b[0m\u001b[0;34m\u001b[0m\u001b[0m\n\u001b[1;32m   2472\u001b[0m                 \u001b[0margs\u001b[0m \u001b[0;34m=\u001b[0m \u001b[0;34m(\u001b[0m\u001b[0mmagic_arg_s\u001b[0m\u001b[0;34m,\u001b[0m \u001b[0mcell\u001b[0m\u001b[0;34m)\u001b[0m\u001b[0;34m\u001b[0m\u001b[0;34m\u001b[0m\u001b[0m\n\u001b[0;32m-> 2473\u001b[0;31m                 \u001b[0mresult\u001b[0m \u001b[0;34m=\u001b[0m \u001b[0mfn\u001b[0m\u001b[0;34m(\u001b[0m\u001b[0;34m*\u001b[0m\u001b[0margs\u001b[0m\u001b[0;34m,\u001b[0m \u001b[0;34m**\u001b[0m\u001b[0mkwargs\u001b[0m\u001b[0;34m)\u001b[0m\u001b[0;34m\u001b[0m\u001b[0;34m\u001b[0m\u001b[0m\n\u001b[0m\u001b[1;32m   2474\u001b[0m             \u001b[0;32mreturn\u001b[0m \u001b[0mresult\u001b[0m\u001b[0;34m\u001b[0m\u001b[0;34m\u001b[0m\u001b[0m\n\u001b[1;32m   2475\u001b[0m \u001b[0;34m\u001b[0m\u001b[0m\n",
            "\u001b[0;32m<decorator-gen-122>\u001b[0m in \u001b[0;36mR\u001b[0;34m(self, line, cell, local_ns)\u001b[0m\n",
            "\u001b[0;32m/usr/local/lib/python3.9/dist-packages/IPython/core/magic.py\u001b[0m in \u001b[0;36m<lambda>\u001b[0;34m(f, *a, **k)\u001b[0m\n\u001b[1;32m    185\u001b[0m     \u001b[0;31m# but it's overkill for just that one bit of state.\u001b[0m\u001b[0;34m\u001b[0m\u001b[0;34m\u001b[0m\u001b[0m\n\u001b[1;32m    186\u001b[0m     \u001b[0;32mdef\u001b[0m \u001b[0mmagic_deco\u001b[0m\u001b[0;34m(\u001b[0m\u001b[0marg\u001b[0m\u001b[0;34m)\u001b[0m\u001b[0;34m:\u001b[0m\u001b[0;34m\u001b[0m\u001b[0;34m\u001b[0m\u001b[0m\n\u001b[0;32m--> 187\u001b[0;31m         \u001b[0mcall\u001b[0m \u001b[0;34m=\u001b[0m \u001b[0;32mlambda\u001b[0m \u001b[0mf\u001b[0m\u001b[0;34m,\u001b[0m \u001b[0;34m*\u001b[0m\u001b[0ma\u001b[0m\u001b[0;34m,\u001b[0m \u001b[0;34m**\u001b[0m\u001b[0mk\u001b[0m\u001b[0;34m:\u001b[0m \u001b[0mf\u001b[0m\u001b[0;34m(\u001b[0m\u001b[0;34m*\u001b[0m\u001b[0ma\u001b[0m\u001b[0;34m,\u001b[0m \u001b[0;34m**\u001b[0m\u001b[0mk\u001b[0m\u001b[0;34m)\u001b[0m\u001b[0;34m\u001b[0m\u001b[0;34m\u001b[0m\u001b[0m\n\u001b[0m\u001b[1;32m    188\u001b[0m \u001b[0;34m\u001b[0m\u001b[0m\n\u001b[1;32m    189\u001b[0m         \u001b[0;32mif\u001b[0m \u001b[0mcallable\u001b[0m\u001b[0;34m(\u001b[0m\u001b[0marg\u001b[0m\u001b[0;34m)\u001b[0m\u001b[0;34m:\u001b[0m\u001b[0;34m\u001b[0m\u001b[0;34m\u001b[0m\u001b[0m\n",
            "\u001b[0;32m/usr/local/lib/python3.9/dist-packages/rpy2/ipython/rmagic.py\u001b[0m in \u001b[0;36mR\u001b[0;34m(self, line, cell, local_ns)\u001b[0m\n\u001b[1;32m    793\u001b[0m             \u001b[0;32mif\u001b[0m \u001b[0;32mnot\u001b[0m \u001b[0me\u001b[0m\u001b[0;34m.\u001b[0m\u001b[0mstdout\u001b[0m\u001b[0;34m.\u001b[0m\u001b[0mendswith\u001b[0m\u001b[0;34m(\u001b[0m\u001b[0me\u001b[0m\u001b[0;34m.\u001b[0m\u001b[0merr\u001b[0m\u001b[0;34m)\u001b[0m\u001b[0;34m:\u001b[0m\u001b[0;34m\u001b[0m\u001b[0;34m\u001b[0m\u001b[0m\n\u001b[1;32m    794\u001b[0m                 \u001b[0mprint\u001b[0m\u001b[0;34m(\u001b[0m\u001b[0me\u001b[0m\u001b[0;34m.\u001b[0m\u001b[0merr\u001b[0m\u001b[0;34m)\u001b[0m\u001b[0;34m\u001b[0m\u001b[0;34m\u001b[0m\u001b[0m\n\u001b[0;32m--> 795\u001b[0;31m             \u001b[0;32mraise\u001b[0m \u001b[0me\u001b[0m\u001b[0;34m\u001b[0m\u001b[0;34m\u001b[0m\u001b[0m\n\u001b[0m\u001b[1;32m    796\u001b[0m         \u001b[0;32mfinally\u001b[0m\u001b[0;34m:\u001b[0m\u001b[0;34m\u001b[0m\u001b[0;34m\u001b[0m\u001b[0m\n\u001b[1;32m    797\u001b[0m             \u001b[0;32mif\u001b[0m \u001b[0mself\u001b[0m\u001b[0;34m.\u001b[0m\u001b[0mdevice\u001b[0m \u001b[0;32min\u001b[0m \u001b[0;34m[\u001b[0m\u001b[0;34m'png'\u001b[0m\u001b[0;34m,\u001b[0m \u001b[0;34m'svg'\u001b[0m\u001b[0;34m]\u001b[0m\u001b[0;34m:\u001b[0m\u001b[0;34m\u001b[0m\u001b[0;34m\u001b[0m\u001b[0m\n",
            "\u001b[0;32m/usr/local/lib/python3.9/dist-packages/rpy2/ipython/rmagic.py\u001b[0m in \u001b[0;36mR\u001b[0;34m(self, line, cell, local_ns)\u001b[0m\n\u001b[1;32m    773\u001b[0m                     \u001b[0mreturn_output\u001b[0m \u001b[0;34m=\u001b[0m \u001b[0;32mFalse\u001b[0m\u001b[0;34m\u001b[0m\u001b[0;34m\u001b[0m\u001b[0m\n\u001b[1;32m    774\u001b[0m             \u001b[0;32melse\u001b[0m\u001b[0;34m:\u001b[0m\u001b[0;34m\u001b[0m\u001b[0;34m\u001b[0m\u001b[0m\n\u001b[0;32m--> 775\u001b[0;31m                 \u001b[0mtext_result\u001b[0m\u001b[0;34m,\u001b[0m \u001b[0mresult\u001b[0m\u001b[0;34m,\u001b[0m \u001b[0mvisible\u001b[0m \u001b[0;34m=\u001b[0m \u001b[0mself\u001b[0m\u001b[0;34m.\u001b[0m\u001b[0meval\u001b[0m\u001b[0;34m(\u001b[0m\u001b[0mcode\u001b[0m\u001b[0;34m)\u001b[0m\u001b[0;34m\u001b[0m\u001b[0;34m\u001b[0m\u001b[0m\n\u001b[0m\u001b[1;32m    776\u001b[0m                 \u001b[0mtext_output\u001b[0m \u001b[0;34m+=\u001b[0m \u001b[0mtext_result\u001b[0m\u001b[0;34m\u001b[0m\u001b[0;34m\u001b[0m\u001b[0m\n\u001b[1;32m    777\u001b[0m                 \u001b[0;32mif\u001b[0m \u001b[0mvisible\u001b[0m\u001b[0;34m:\u001b[0m\u001b[0;34m\u001b[0m\u001b[0;34m\u001b[0m\u001b[0m\n",
            "\u001b[0;32m/usr/local/lib/python3.9/dist-packages/rpy2/ipython/rmagic.py\u001b[0m in \u001b[0;36meval\u001b[0;34m(self, code)\u001b[0m\n\u001b[1;32m    282\u001b[0m                 \u001b[0;31m# Otherwise next return seems to have copy of error.\u001b[0m\u001b[0;34m\u001b[0m\u001b[0;34m\u001b[0m\u001b[0m\n\u001b[1;32m    283\u001b[0m                 \u001b[0mwarning_or_other_msg\u001b[0m \u001b[0;34m=\u001b[0m \u001b[0mself\u001b[0m\u001b[0;34m.\u001b[0m\u001b[0mflush\u001b[0m\u001b[0;34m(\u001b[0m\u001b[0;34m)\u001b[0m\u001b[0;34m\u001b[0m\u001b[0;34m\u001b[0m\u001b[0m\n\u001b[0;32m--> 284\u001b[0;31m                 raise RInterpreterError(code, str(exception),\n\u001b[0m\u001b[1;32m    285\u001b[0m                                         warning_or_other_msg)\n\u001b[1;32m    286\u001b[0m             \u001b[0mtext_output\u001b[0m \u001b[0;34m=\u001b[0m \u001b[0mself\u001b[0m\u001b[0;34m.\u001b[0m\u001b[0mflush\u001b[0m\u001b[0;34m(\u001b[0m\u001b[0;34m)\u001b[0m\u001b[0;34m\u001b[0m\u001b[0;34m\u001b[0m\u001b[0m\n",
            "\u001b[0;31mRInterpreterError\u001b[0m: Failed to parse and evaluate line '#INTEGRACIÓN DE TODOS LOS FACTORES DE RIESGO EN UNA MATRIZ\\nX_port=cbind(x[,1], X[,1]) #Factores de riesgo del portafolios de 8(9) instrumentos financieros\\n\\n#Cálculo de variaciones Delta_X DEL PORTAFOLIOS\\nDeltaX_port=as.matrix(log(X_port[1:(n-1)]/X_port[2:(n)]))\\nDeltaX_port[is.nan(DeltaX_port)] <- 0 #quitamos NaN\\nDeltaX_port[is.na(DeltaX_port)] <- 0 #quitamos Na\\nDeltaX_port[is.infinite(DeltaX_port)] <- 0 #quitamos Na\\n\\n\\nNs=nrow(DeltaX_port) #Definimos número de escenarios históricos\\n\\nDeltaX_s=DeltaX_port\\n'.\nR error message: \"Error in cbind(x[, 1], X[, 1]) : object 'x' not found\""
          ]
        }
      ]
    },
    {
      "cell_type": "code",
      "source": [
        "%%R\n",
        "#Función de cuantil más cercano\n",
        "equantile <- function(v,p=.5,ns=nrow(as.matrix(v))) \n",
        "{ \n",
        "  if ( !is.numeric(p) || any( p<0 | p>1) ) \n",
        "    stop(\"Percentil tiene que ser 0<=p<=1\") \n",
        "  ranking <- order(v) \n",
        "  vw=matrix(0,ns,1)\n",
        "  vw[1:ns]=seq(1/ns,ns)  \n",
        "  sumw <- cumsum(vw[ranking]) \n",
        "  plist <- sumw / sumw[ length(sumw) ] \n",
        "  v [ ranking [ which.max( plist >= p ) ] ]  \n",
        "} "
      ],
      "metadata": {
        "id": "hUz85yAINUNo"
      },
      "execution_count": 61,
      "outputs": []
    },
    {
      "cell_type": "markdown",
      "source": [
        "### CETES"
      ],
      "metadata": {
        "id": "hHF3vFMoFYRT"
      }
    },
    {
      "cell_type": "code",
      "source": [
        "%%R\n",
        "print('Valor de la posición')\n",
        "print(data_cetes[1,'Valor de la posicion'])\n",
        "VaR= quantile(data_cetes$PL,0.98 ) \n",
        "print('VaR')\n",
        "print(VaR)\n",
        "CVaR=mean(data_cetes$PL[data_cetes['PL']>VaR])\n",
        "print('CVaR')\n",
        "print(CVaR)"
      ],
      "metadata": {
        "id": "1TQB737oNX50",
        "colab": {
          "base_uri": "https://localhost:8080/"
        },
        "outputId": "c48b5a53-0fff-4be1-b63c-529e444d3d41"
      },
      "execution_count": 62,
      "outputs": [
        {
          "output_type": "stream",
          "name": "stdout",
          "text": [
            "[1] \"Valor de la posición\"\n",
            "[1] 14423.89\n",
            "[1] \"VaR\"\n",
            "     98% \n",
            "8.229372 \n",
            "[1] \"CVaR\"\n",
            "[1] 12.13667\n"
          ]
        }
      ]
    },
    {
      "cell_type": "markdown",
      "source": [
        "### Bono M"
      ],
      "metadata": {
        "id": "EM4-zAN5Jd5i"
      }
    },
    {
      "cell_type": "markdown",
      "source": [
        "En este caso tenemos que el Bono M no presenta riesgo, puesto que desde el inicio ya sabemos como va evolucionando en el tiempo."
      ],
      "metadata": {
        "id": "iBKM_3gLJt57"
      }
    },
    {
      "cell_type": "markdown",
      "source": [
        "## VaR y CVaR con Alisado"
      ],
      "metadata": {
        "id": "ZgDyArIzQvop"
      }
    },
    {
      "cell_type": "markdown",
      "source": [
        "### CETES"
      ],
      "metadata": {
        "id": "s6fWFtX_Q0CH"
      }
    },
    {
      "cell_type": "code",
      "source": [
        "%%R\n",
        "wquantile <- function(v,w=rep(1,length(v)),p=.5){ \n",
        "  if ( !is.numeric(w) || length(v) != length(w) ) \n",
        "    stop(\"Los valores y los pesos tienen que tener misma longitud\") \n",
        "  if ( !is.numeric(p) || any( p<0 | p>1) ) \n",
        "    stop(\"Percentil tiene que ser 0<=p<=1\") \n",
        "  if ( min(w) < 0 ) stop(\"Los pesos tiene que ser mayores que 0\") \n",
        "  ranking <- order(v) \n",
        "  sumw <- cumsum(w[ranking]) \n",
        "  plist <- sumw / sumw[ length(sumw) ] \n",
        "  v [ ranking [ which.max( plist >= p ) ] ]  \n",
        "}\n",
        "#CVaR con alisado\n",
        "wcvar <- function(v,w=rep(1,length(v)),p=.5) { \n",
        "  if ( !is.numeric(w) || length(v) != length(w) ) \n",
        "    stop(\"Los valores y los pesos tienen que tener misma longitud\") \n",
        "  if ( !is.numeric(p) || any( p<0 | p>1) ) \n",
        "    stop(\"Percentil tiene que ser 0<=p<=1\") \n",
        "  if ( min(w) < 0 ) stop(\"Los pesos tiene que ser mayores que 0\") \n",
        "  ranking <- order(v) \n",
        "  sumw <- cumsum(w[ranking]) \n",
        "  plist <- sumw / sumw[ length(sumw) ] \n",
        "  loss= v [ ranking [ which( plist < p ) ] ]  \n",
        "  esc=w [ ranking [ which( plist < p ) ] ]  \n",
        "  sum(loss*esc)/(sum(esc))\n",
        "}\n",
        "\n",
        "VaR_alisado=wquantile(data_cetes$PL)\n",
        "print('VaR_alisado')\n",
        "print(VaR_alisado)\n",
        "CVaR_alisado=wcvar(data_cetes$PL)\n",
        "print('CVaR_alisado')\n",
        "print(CVaR_alisado)\n"
      ],
      "metadata": {
        "colab": {
          "base_uri": "https://localhost:8080/"
        },
        "id": "mE4L9gCjQ1bX",
        "outputId": "0d3d3c9e-fc41-456e-e16b-767039726113"
      },
      "execution_count": 63,
      "outputs": [
        {
          "output_type": "stream",
          "name": "stdout",
          "text": [
            "[1] \"VaR_alisado\"\n",
            "[1] 0\n",
            "[1] \"CVaR_alisado\"\n",
            "[1] -2.073684\n"
          ]
        }
      ]
    },
    {
      "cell_type": "markdown",
      "source": [
        "### Bono M"
      ],
      "metadata": {
        "id": "3UPhTPaQTg5z"
      }
    },
    {
      "cell_type": "markdown",
      "source": [
        "En este caso tenemos que el Bono M no presenta riesgo, puesto que desde el inicio ya sabemos como va evolucionando en el tiempo."
      ],
      "metadata": {
        "id": "EM1aIswATiO7"
      }
    },
    {
      "cell_type": "markdown",
      "source": [
        "###Bondes"
      ],
      "metadata": {
        "id": "mIQurqpLTmek"
      }
    },
    {
      "cell_type": "code",
      "source": [
        "%%R\n",
        "#install.packages(\"dplyr\")\n",
        "require(dplyr)\n",
        "require(data.table)"
      ],
      "metadata": {
        "id": "k3UtpcjGTp8E"
      },
      "execution_count": 64,
      "outputs": []
    },
    {
      "cell_type": "code",
      "source": [
        "%%R\n",
        "btasadescst=\"Tarea1-AdRF/tasa_guber_st.txt\"\n",
        "btasafondeo=\"Tarea1-AdRF/tfondeo.txt\"\n",
        "plazos= cbind(707, 707) #Vencimiento del bono\n",
        "plazocupon= cbind(28, 28) #plazos_bdm fijos de cada cupón\n",
        "contratos = cbind(-1000, 0)\n",
        "nominal=100"
      ],
      "metadata": {
        "id": "HUvljTCUUDbF"
      },
      "execution_count": 65,
      "outputs": []
    },
    {
      "cell_type": "code",
      "source": [
        "%%R\n",
        "#carga de datos\n",
        "#carga de tasas de descuento\n",
        "data1<-read.table(btasadescst)\n",
        "n<-nrow(data1)\n",
        "m_orig=ncol(data1)\n",
        "X_orig=data.frame(data1[2:n,2:m_orig])\n",
        "X1_orig=mutate(data.frame(data1[2:n,1:m_orig]), V1=as.Date(V1,format=\"%Y%m%d\"))\n",
        "nodos=data.frame(data1[1,2:m_orig])\n",
        "n=n-1\n",
        "\n",
        "data3<-read.table(btasadescst)\n",
        "n3<-nrow(data3)\n",
        "m3_orig=ncol(data3)\n",
        "X3_orig=data.frame(data3[2:n3,2:m3_orig])\n",
        "X3a_orig=mutate(data.frame(data1[2:n,1:m_orig]), V1=as.Date(V1,format=\"%Y%m%d\"))\n",
        "nodos3=data.frame(data3[1,2:m3_orig])\n",
        "n3=n3-1\n",
        "\n",
        "data2<-read.table(btasafondeo)\n",
        "n2<-nrow(data2)\n",
        "X2_orig=data.frame(data2[2:n2,1:2])\n",
        "X2a_orig=mutate(X2_orig, V1=as.Date(V1,format=\"%Y%m%d\"), V2=as.numeric(as.character(V2)))\n",
        "tfh=seq(as.Date(\"20220831\",format=\"%Y%m%d\"), as.Date(\"20220831\",format=\"%Y%m%d\"), \"days\") #sucesión de dias para tasa fondeo\n",
        "#tfhd=data.frame(ID=1:count(tfh),fecha=tfh)\n",
        "tfhd=CJ(fecha=tfh)"
      ],
      "metadata": {
        "id": "dG1SjTjAUQYV"
      },
      "execution_count": 66,
      "outputs": []
    },
    {
      "cell_type": "code",
      "source": [
        "%%R\n",
        "#Cruzar la sucesión de todos los días versus el de tasa de fondeo\n",
        "tfhd=setDT(tfhd)[, join_date := tfh][order(-join_date)]\n",
        "X2a_orig=setDT(X2a_orig)[, join_date := V1][order(-join_date)]\n",
        "X2a_orig=X2a_orig[tfhd, on = .(join_date), roll = Inf]"
      ],
      "metadata": {
        "id": "hykdEK8eUURI"
      },
      "execution_count": 67,
      "outputs": []
    },
    {
      "cell_type": "code",
      "source": [
        "%%R\n",
        "#Cruzar la sucesión de todos los días versus el de tasa de fondeo\n",
        "#buscar fecha de valuación en tfondeo\n",
        "tf_act=X2a_orig[fecha==fval,]$V2/100\n",
        "tf_int=X2a_orig[fecha<=fval & fecha>=(fval-plazocupon[1])]$V2/100\n",
        "\n",
        "X1_orig=setDT(X1_orig)[, join_date := V1][order(-join_date)] #Para alinear con valor presente y tasa de fondeo.\n",
        "X2_pr=X2a_orig[X1_orig, on = .(join_date)] #Se alinea la tasa de fondeo por fecha con la tasa de valor presente.\n",
        "X2_pr"
      ],
      "metadata": {
        "colab": {
          "base_uri": "https://localhost:8080/"
        },
        "id": "YLlFa2VbUY9_",
        "outputId": "a166bdc8-bffb-49a5-b964-55d862d0baef"
      },
      "execution_count": 69,
      "outputs": [
        {
          "output_type": "stream",
          "name": "stdout",
          "text": [
            "       V1 V2  join_date fecha       i.V1       i.V2         V3         V4\n",
            "  1: <NA> NA 2023-02-28  <NA> 2023-02-28 0.02410237 0.02411239 0.02415083\n",
            "  2: <NA> NA 2023-02-27  <NA> 2023-02-27 0.02354185 0.02411239 0.02415083\n",
            "  3: <NA> NA 2023-02-24  <NA> 2023-02-24 0.02354185 0.02411239 0.02426187\n",
            "  4: <NA> NA 2023-02-23  <NA> 2023-02-23 0.02381987 0.02411239 0.02426187\n",
            "  5: <NA> NA 2023-02-22  <NA> 2023-02-22 0.02354185 0.02411239 0.02426187\n",
            " ---                                                                     \n",
            "251: <NA> NA 2022-03-03  <NA> 2022-03-03 0.02410237 0.02340548 0.02298493\n",
            "252: <NA> NA 2022-03-02  <NA> 2022-03-02 0.02402909 0.02379274 0.02298493\n",
            "253: <NA> NA 2022-03-01  <NA> 2022-03-01 0.02410237 0.02388809 0.02298493\n",
            "254: <NA> NA 2022-02-28  <NA> 2022-02-28 0.02410237 0.02354739 0.02237422\n",
            "255: <NA> NA 2022-02-25  <NA> 2022-02-25 0.02410237 0.02368733 0.02237422\n",
            "             V5         V6         V7         V8         V9        V10\n",
            "  1: 0.02475177 0.02546244 0.02622075 0.02690413 0.02937214 0.03136351\n",
            "  2: 0.02469500 0.02552057 0.02622075 0.02696541 0.02929912 0.03121828\n",
            "  3: 0.02475177 0.02534617 0.02616061 0.02696541 0.02929771 0.03144879\n",
            "  4: 0.02475177 0.02534617 0.02616061 0.02696541 0.02903590 0.03092082\n",
            "  5: 0.02492208 0.02563684 0.02657324 0.02727318 0.02946886 0.03171516\n",
            " ---                                                                  \n",
            "251: 0.02486531 0.02645071 0.02761361 0.02843466 0.03175632 0.03506704\n",
            "252: 0.02469500 0.02645278 0.02760737 0.02842351 0.03189304 0.03511250\n",
            "253: 0.02497885 0.02645417 0.02760525 0.02843485 0.03176697 0.03500299\n",
            "254: 0.02412730 0.02639258 0.02766641 0.02855738 0.03160339 0.03509790\n",
            "255: 0.02384345 0.02627631 0.02770458 0.02855743 0.03160425 0.03500502\n",
            "            V11        V12        V13        V14        V15        V16\n",
            "  1: 0.03289272 0.03351071 0.03436437 0.03526602 0.03609391 0.03694115\n",
            "  2: 0.03321710 0.03351027 0.03390791 0.03485377 0.03592883 0.03708698\n",
            "  3: 0.03363103 0.03387069 0.03407442 0.03480029 0.03617743 0.03761345\n",
            "  4: 0.03266764 0.03289977 0.03341162 0.03400009 0.03535597 0.03674586\n",
            "  5: 0.03374869 0.03413581 0.03455880 0.03512905 0.03645382 0.03780873\n",
            " ---                                                                  \n",
            "251: 0.03751337 0.03742808 0.03711775 0.03665929 0.03628139 0.03600189\n",
            "252: 0.03752081 0.03764741 0.03751559 0.03700956 0.03644020 0.03612089\n",
            "253: 0.03730519 0.03760525 0.03729342 0.03675273 0.03627671 0.03597185\n",
            "254: 0.03740164 0.03749860 0.03727765 0.03683837 0.03621680 0.03586772\n",
            "255: 0.03738199 0.03745312 0.03711488 0.03681174 0.03630552 0.03592849\n",
            "            V17        V18        V19        V20        V21\n",
            "  1: 0.03781778 0.04217406 0.04584163 0.05010564 0.05487885\n",
            "  2: 0.03828887 0.04182567 0.04611632 0.04854497 0.05521948\n",
            "  3: 0.03862363 0.04150827 0.04515417 0.04686812 0.05230233\n",
            "  4: 0.03739847 0.04046352 0.04294930 0.04614855 0.04940701\n",
            "  5: 0.03848393 0.04152484 0.04367164 0.04494939 0.05058507\n",
            " ---                                                       \n",
            "251: 0.03614734 0.03667572 0.03446124 0.03170004 0.04296148\n",
            "252: 0.03626689 0.03682432 0.03450981 0.03175803 0.04307204\n",
            "253: 0.03613621 0.03660589 0.03414882 0.03156491 0.04369903\n",
            "254: 0.03603107 0.03627340 0.03370633 0.03162603 0.04290818\n",
            "255: 0.03604172 0.03659296 0.03396798 0.03138380 0.04344849\n"
          ]
        }
      ]
    },
    {
      "cell_type": "code",
      "source": [
        "%%R      \n",
        "\n",
        "m=ncol(plazos)\n",
        "\n",
        "\n",
        "N=as.integer(plazos/plazocupon)+1 #número de cupones a pagar\n",
        "VTplazos=matrix(0,1,sum(N)) #vector de todos los plazos de todos los contratos\n",
        "contratosT=matrix(0,1,sum(N)) #vector de todos los contratos de todos los flujos de todos los contratos\n",
        "nominalT=matrix(0,1,sum(N)) #vector de todos los nominales de todos los flujos de todos los contratos\n",
        "plazocuponT=matrix(0,1,sum(N)) #vector de todos los plazoscupon de todos los flujos de todos los contratos\n",
        "tasafijaT=matrix(0,1,sum(N)) #vector de tasas fijas de todos los flujos de todos los contratos\n",
        "ulNomT=matrix(0,1,sum(N)) #vector de contratos a final de flujo\n",
        "\n",
        "\n",
        "plazini=plazos-plazocupon*(N-1) #vector de plazos iniciales\n",
        "ddv=plazocupon-plazini #dias trasncurridos del cupón vigente\n",
        "tfcupon=matrix(0,1,m)  #El primero cupón de cada bono\n",
        "tfcupondev=matrix(0,1,m) #cupón de los días devengados\n",
        "tfcupgen=((1+tf_act/360)^(plazocupon[1])-1)*360/plazocupon[1] #el segundo al último cupón de todos los bonos\n",
        "#calcula cupones de bonos\n",
        "for (j in (1:m))\n",
        "{\n",
        "  tfcupondev[j]=(prod(1+tf_int[(1:ddv[j])]/360)-1)*360/ddv[j]\n",
        "  tfcupon[j]=((1+tfcupondev[j]*ddv[j]/360)*(1+tf_act/360)^(plazocupon[1]-ddv[j])-1)*360/plazocupon[1]\n",
        "}\n",
        "\n",
        "\n",
        "for (j in (1:m))\n",
        "{\n",
        "  if (j==1)\n",
        "  {\n",
        "    VTplazos[,1:sum(N[1:j])]=seq(plazini[j],plazos[j], by=plazocupon[j])\n",
        "    contratosT[,1:sum(N[1:j])]=seq(contratos[j],contratos[j])\n",
        "    plazocuponT[,1:sum(N[1:j])]=seq(plazocupon[j],plazocupon[j])\n",
        "    ulNomT[,sum(N[1:j])]=contratos[j]\n",
        "    tasafijaT[,1]=tfcupon[j]\n",
        "    tasafijaT[,2:sum(N[1:j])]=seq(tfcupgen,tfcupgen)\n",
        "  }\n",
        "  else\n",
        "  {\n",
        "    VTplazos[,(sum(N[1:j-1])+1):sum(N[1:j])]=seq(plazini[j],plazos[j], by=plazocupon[j])\n",
        "    contratosT[,(sum(N[1:j-1])+1):sum(N[1:j])]=seq(contratos[j],contratos[j])\t\t\t\t\t\n",
        "    plazocuponT[,(sum(N[1:j-1])+1):sum(N[1:j])]=seq(plazocupon[j],plazocupon[j])\n",
        "    tasafijaT[,(sum(N[1:j-1])+1)]=tfcupon[j]\n",
        "    tasafijaT[,(sum(N[1:j-1])+2):sum(N[1:j])]=seq(tfcupgen,tfcupgen)\n",
        "    ulNomT[,sum(N[1:j])]=contratos[j]\n",
        "  }\n",
        "}\n",
        "\n",
        "Xvp=matrix(0,n,ncol(VTplazos))\n",
        "Xst=matrix(0,n,ncol(VTplazos))\n",
        "\n",
        "for (i in (1:n))\n",
        "{\n",
        "  Xvp[i,]=if(itpl==0){approx(nodos,X_orig[i,],VTplazos)$y}else{talamb(nodos,X_orig[i,],VTplazos)}\n",
        "  Xst[i,]=if(itpl==0){approx(nodos3,X3_orig[i,],VTplazos)$y}else{talamb(nodos3,X3_orig[i,],VTplazos)}\n",
        "  \n",
        "}\n",
        "\n",
        "head(Xvp)\n",
        "head(Xst)\n"
      ],
      "metadata": {
        "colab": {
          "base_uri": "https://localhost:8080/",
          "height": 1000
        },
        "id": "SmdPlwnFUkLZ",
        "outputId": "7c6db52e-3b20-433a-9ce3-5bdd4f0801e9"
      },
      "execution_count": 70,
      "outputs": [
        {
          "output_type": "stream",
          "name": "stderr",
          "text": [
            "WARNING:rpy2.rinterface_lib.callbacks:R[write to console]: Error in tfcupon[j] <- ((1 + tfcupondev[j] * ddv[j]/360) * (1 + tf_act/360)^(plazocupon[1] -  : \n",
            "  replacement has length zero\n",
            "\n",
            "WARNING:rpy2.rinterface_lib.callbacks:R[write to console]: In addition: \n",
            "WARNING:rpy2.rinterface_lib.callbacks:R[write to console]: Warning message:\n",
            "\n",
            "WARNING:rpy2.rinterface_lib.callbacks:R[write to console]: There was 1 warning in `mutate()`.\n",
            "ℹ In argument: `V2 = as.numeric(as.character(V2))`.\n",
            "Caused by warning:\n",
            "! NAs introduced by coercion \n",
            "\n"
          ]
        },
        {
          "output_type": "stream",
          "name": "stdout",
          "text": [
            "\n",
            "Error in tfcupon[j] <- ((1 + tfcupondev[j] * ddv[j]/360) * (1 + tf_act/360)^(plazocupon[1] -  : \n",
            "  replacement has length zero\n"
          ]
        },
        {
          "output_type": "error",
          "ename": "RInterpreterError",
          "evalue": "ignored",
          "traceback": [
            "\u001b[0;31m---------------------------------------------------------------------------\u001b[0m",
            "\u001b[0;31mRRuntimeError\u001b[0m                             Traceback (most recent call last)",
            "\u001b[0;32m/usr/local/lib/python3.9/dist-packages/rpy2/ipython/rmagic.py\u001b[0m in \u001b[0;36meval\u001b[0;34m(self, code)\u001b[0m\n\u001b[1;32m    279\u001b[0m                 \u001b[0;31m# Need the newline in case the last line in code is a comment.\u001b[0m\u001b[0;34m\u001b[0m\u001b[0;34m\u001b[0m\u001b[0m\n\u001b[0;32m--> 280\u001b[0;31m                 \u001b[0mvalue\u001b[0m\u001b[0;34m,\u001b[0m \u001b[0mvisible\u001b[0m \u001b[0;34m=\u001b[0m \u001b[0mro\u001b[0m\u001b[0;34m.\u001b[0m\u001b[0mr\u001b[0m\u001b[0;34m(\u001b[0m\u001b[0;34m\"withVisible({%s\\n})\"\u001b[0m \u001b[0;34m%\u001b[0m \u001b[0mcode\u001b[0m\u001b[0;34m)\u001b[0m\u001b[0;34m\u001b[0m\u001b[0;34m\u001b[0m\u001b[0m\n\u001b[0m\u001b[1;32m    281\u001b[0m             \u001b[0;32mexcept\u001b[0m \u001b[0;34m(\u001b[0m\u001b[0mri\u001b[0m\u001b[0;34m.\u001b[0m\u001b[0membedded\u001b[0m\u001b[0;34m.\u001b[0m\u001b[0mRRuntimeError\u001b[0m\u001b[0;34m,\u001b[0m \u001b[0mValueError\u001b[0m\u001b[0;34m)\u001b[0m \u001b[0;32mas\u001b[0m \u001b[0mexception\u001b[0m\u001b[0;34m:\u001b[0m\u001b[0;34m\u001b[0m\u001b[0;34m\u001b[0m\u001b[0m\n",
            "\u001b[0;32m/usr/local/lib/python3.9/dist-packages/rpy2/robjects/__init__.py\u001b[0m in \u001b[0;36m__call__\u001b[0;34m(self, string)\u001b[0m\n\u001b[1;32m    450\u001b[0m         \u001b[0mp\u001b[0m \u001b[0;34m=\u001b[0m \u001b[0mrinterface\u001b[0m\u001b[0;34m.\u001b[0m\u001b[0mparse\u001b[0m\u001b[0;34m(\u001b[0m\u001b[0mstring\u001b[0m\u001b[0;34m)\u001b[0m\u001b[0;34m\u001b[0m\u001b[0;34m\u001b[0m\u001b[0m\n\u001b[0;32m--> 451\u001b[0;31m         \u001b[0mres\u001b[0m \u001b[0;34m=\u001b[0m \u001b[0mself\u001b[0m\u001b[0;34m.\u001b[0m\u001b[0meval\u001b[0m\u001b[0;34m(\u001b[0m\u001b[0mp\u001b[0m\u001b[0;34m)\u001b[0m\u001b[0;34m\u001b[0m\u001b[0;34m\u001b[0m\u001b[0m\n\u001b[0m\u001b[1;32m    452\u001b[0m         \u001b[0;32mreturn\u001b[0m \u001b[0mconversion\u001b[0m\u001b[0;34m.\u001b[0m\u001b[0mrpy2py\u001b[0m\u001b[0;34m(\u001b[0m\u001b[0mres\u001b[0m\u001b[0;34m)\u001b[0m\u001b[0;34m\u001b[0m\u001b[0;34m\u001b[0m\u001b[0m\n",
            "\u001b[0;32m/usr/local/lib/python3.9/dist-packages/rpy2/robjects/functions.py\u001b[0m in \u001b[0;36m__call__\u001b[0;34m(self, *args, **kwargs)\u001b[0m\n\u001b[1;32m    200\u001b[0m                 \u001b[0mkwargs\u001b[0m\u001b[0;34m[\u001b[0m\u001b[0mr_k\u001b[0m\u001b[0;34m]\u001b[0m \u001b[0;34m=\u001b[0m \u001b[0mv\u001b[0m\u001b[0;34m\u001b[0m\u001b[0;34m\u001b[0m\u001b[0m\n\u001b[0;32m--> 201\u001b[0;31m         return (super(SignatureTranslatedFunction, self)\n\u001b[0m\u001b[1;32m    202\u001b[0m                 .__call__(*args, **kwargs))\n",
            "\u001b[0;32m/usr/local/lib/python3.9/dist-packages/rpy2/robjects/functions.py\u001b[0m in \u001b[0;36m__call__\u001b[0;34m(self, *args, **kwargs)\u001b[0m\n\u001b[1;32m    123\u001b[0m                 \u001b[0mnew_kwargs\u001b[0m\u001b[0;34m[\u001b[0m\u001b[0mk\u001b[0m\u001b[0;34m]\u001b[0m \u001b[0;34m=\u001b[0m \u001b[0mconversion\u001b[0m\u001b[0;34m.\u001b[0m\u001b[0mpy2rpy\u001b[0m\u001b[0;34m(\u001b[0m\u001b[0mv\u001b[0m\u001b[0;34m)\u001b[0m\u001b[0;34m\u001b[0m\u001b[0;34m\u001b[0m\u001b[0m\n\u001b[0;32m--> 124\u001b[0;31m         \u001b[0mres\u001b[0m \u001b[0;34m=\u001b[0m \u001b[0msuper\u001b[0m\u001b[0;34m(\u001b[0m\u001b[0mFunction\u001b[0m\u001b[0;34m,\u001b[0m \u001b[0mself\u001b[0m\u001b[0;34m)\u001b[0m\u001b[0;34m.\u001b[0m\u001b[0m__call__\u001b[0m\u001b[0;34m(\u001b[0m\u001b[0;34m*\u001b[0m\u001b[0mnew_args\u001b[0m\u001b[0;34m,\u001b[0m \u001b[0;34m**\u001b[0m\u001b[0mnew_kwargs\u001b[0m\u001b[0;34m)\u001b[0m\u001b[0;34m\u001b[0m\u001b[0;34m\u001b[0m\u001b[0m\n\u001b[0m\u001b[1;32m    125\u001b[0m         \u001b[0mres\u001b[0m \u001b[0;34m=\u001b[0m \u001b[0mconversion\u001b[0m\u001b[0;34m.\u001b[0m\u001b[0mrpy2py\u001b[0m\u001b[0;34m(\u001b[0m\u001b[0mres\u001b[0m\u001b[0;34m)\u001b[0m\u001b[0;34m\u001b[0m\u001b[0;34m\u001b[0m\u001b[0m\n",
            "\u001b[0;32m/usr/local/lib/python3.9/dist-packages/rpy2/rinterface_lib/conversion.py\u001b[0m in \u001b[0;36m_\u001b[0;34m(*args, **kwargs)\u001b[0m\n\u001b[1;32m     44\u001b[0m     \u001b[0;32mdef\u001b[0m \u001b[0m_\u001b[0m\u001b[0;34m(\u001b[0m\u001b[0;34m*\u001b[0m\u001b[0margs\u001b[0m\u001b[0;34m,\u001b[0m \u001b[0;34m**\u001b[0m\u001b[0mkwargs\u001b[0m\u001b[0;34m)\u001b[0m\u001b[0;34m:\u001b[0m\u001b[0;34m\u001b[0m\u001b[0;34m\u001b[0m\u001b[0m\n\u001b[0;32m---> 45\u001b[0;31m         \u001b[0mcdata\u001b[0m \u001b[0;34m=\u001b[0m \u001b[0mfunction\u001b[0m\u001b[0;34m(\u001b[0m\u001b[0;34m*\u001b[0m\u001b[0margs\u001b[0m\u001b[0;34m,\u001b[0m \u001b[0;34m**\u001b[0m\u001b[0mkwargs\u001b[0m\u001b[0;34m)\u001b[0m\u001b[0;34m\u001b[0m\u001b[0;34m\u001b[0m\u001b[0m\n\u001b[0m\u001b[1;32m     46\u001b[0m         \u001b[0;31m# TODO: test cdata is of the expected CType\u001b[0m\u001b[0;34m\u001b[0m\u001b[0;34m\u001b[0m\u001b[0m\n",
            "\u001b[0;32m/usr/local/lib/python3.9/dist-packages/rpy2/rinterface.py\u001b[0m in \u001b[0;36m__call__\u001b[0;34m(self, *args, **kwargs)\u001b[0m\n\u001b[1;32m    809\u001b[0m             \u001b[0;32mif\u001b[0m \u001b[0merror_occured\u001b[0m\u001b[0;34m[\u001b[0m\u001b[0;36m0\u001b[0m\u001b[0;34m]\u001b[0m\u001b[0;34m:\u001b[0m\u001b[0;34m\u001b[0m\u001b[0;34m\u001b[0m\u001b[0m\n\u001b[0;32m--> 810\u001b[0;31m                 \u001b[0;32mraise\u001b[0m \u001b[0membedded\u001b[0m\u001b[0;34m.\u001b[0m\u001b[0mRRuntimeError\u001b[0m\u001b[0;34m(\u001b[0m\u001b[0m_rinterface\u001b[0m\u001b[0;34m.\u001b[0m\u001b[0m_geterrmessage\u001b[0m\u001b[0;34m(\u001b[0m\u001b[0;34m)\u001b[0m\u001b[0;34m)\u001b[0m\u001b[0;34m\u001b[0m\u001b[0;34m\u001b[0m\u001b[0m\n\u001b[0m\u001b[1;32m    811\u001b[0m         \u001b[0;32mreturn\u001b[0m \u001b[0mres\u001b[0m\u001b[0;34m\u001b[0m\u001b[0;34m\u001b[0m\u001b[0m\n",
            "\u001b[0;31mRRuntimeError\u001b[0m: Error in tfcupon[j] <- ((1 + tfcupondev[j] * ddv[j]/360) * (1 + tf_act/360)^(plazocupon[1] -  : \n  replacement has length zero\n",
            "\nDuring handling of the above exception, another exception occurred:\n",
            "\u001b[0;31mRInterpreterError\u001b[0m                         Traceback (most recent call last)",
            "\u001b[0;32m<ipython-input-70-711ad819e296>\u001b[0m in \u001b[0;36m<cell line: 1>\u001b[0;34m()\u001b[0m\n\u001b[0;32m----> 1\u001b[0;31m \u001b[0mget_ipython\u001b[0m\u001b[0;34m(\u001b[0m\u001b[0;34m)\u001b[0m\u001b[0;34m.\u001b[0m\u001b[0mrun_cell_magic\u001b[0m\u001b[0;34m(\u001b[0m\u001b[0;34m'R'\u001b[0m\u001b[0;34m,\u001b[0m \u001b[0;34m''\u001b[0m\u001b[0;34m,\u001b[0m \u001b[0;34m'\\nm=ncol(plazos)\\n\\n\\nN=as.integer(plazos/plazocupon)+1 #número de cupones a pagar\\nVTplazos=matrix(0,1,sum(N)) #vector de todos los plazos de todos los contratos\\ncontratosT=matrix(0,1,sum(N)) #vector de todos los contratos de todos los flujos de todos los contratos\\nnominalT=matrix(0,1,sum(N)) #vector de todos los nominales de todos los flujos de todos los contratos\\nplazocuponT=matrix(0,1,sum(N)) #vector de todos los plazoscupon de todos los flujos de todos los contratos\\ntasafijaT=matrix(0,1,sum(N)) #vector de tasas fijas de todos los flujos de todos los contratos\\nulNomT=matrix(0,1,sum(N)) #vector de contratos a final de flujo\\n\\n\\nplazini=plazos-plazocupon*(N-1) #vector de plazos iniciales\\nddv=plazocupon-plazini #dias trasncurridos del cupón vigente\\ntfcupon=matrix(0,1,m)  #El primero cupón de cada bono\\ntfcupondev=matrix(0,1,m) #cupón de los días devengados\\ntfcupgen=((1+tf_act/360)^(plazocupon[1])-1)*360/plazocupon[1] #el segundo al último cupón de todos los bonos\\n#calcula cupones de bonos\\nfor (j in (1:m))\\n{\\n  tfcupondev[j]=(prod(1+tf_int[(1:ddv[j])]/360)-1)*360/ddv[j]\\n  tfcupon[j]=((1+tfcupondev[j]*ddv[j]/360)*(1+tf_act/360)^(plazocupon[1]-ddv[j])-1)*360/plazocupon[1]\\n}\\n\\n\\nfor (j in (1:m))\\n{\\n  if (j==1)\\n  {\\n    VTplazos[,1:sum(N[1:j])]=seq(plazini[j],plazos[j], by=plazocupon[j])\\n  ...\n\u001b[0m",
            "\u001b[0;32m/usr/local/lib/python3.9/dist-packages/google/colab/_shell.py\u001b[0m in \u001b[0;36mrun_cell_magic\u001b[0;34m(self, magic_name, line, cell)\u001b[0m\n\u001b[1;32m    332\u001b[0m     \u001b[0;32mif\u001b[0m \u001b[0mline\u001b[0m \u001b[0;32mand\u001b[0m \u001b[0;32mnot\u001b[0m \u001b[0mcell\u001b[0m\u001b[0;34m:\u001b[0m\u001b[0;34m\u001b[0m\u001b[0;34m\u001b[0m\u001b[0m\n\u001b[1;32m    333\u001b[0m       \u001b[0mcell\u001b[0m \u001b[0;34m=\u001b[0m \u001b[0;34m' '\u001b[0m\u001b[0;34m\u001b[0m\u001b[0;34m\u001b[0m\u001b[0m\n\u001b[0;32m--> 334\u001b[0;31m     \u001b[0;32mreturn\u001b[0m \u001b[0msuper\u001b[0m\u001b[0;34m(\u001b[0m\u001b[0;34m)\u001b[0m\u001b[0;34m.\u001b[0m\u001b[0mrun_cell_magic\u001b[0m\u001b[0;34m(\u001b[0m\u001b[0mmagic_name\u001b[0m\u001b[0;34m,\u001b[0m \u001b[0mline\u001b[0m\u001b[0;34m,\u001b[0m \u001b[0mcell\u001b[0m\u001b[0;34m)\u001b[0m\u001b[0;34m\u001b[0m\u001b[0;34m\u001b[0m\u001b[0m\n\u001b[0m\u001b[1;32m    335\u001b[0m \u001b[0;34m\u001b[0m\u001b[0m\n\u001b[1;32m    336\u001b[0m \u001b[0;34m\u001b[0m\u001b[0m\n",
            "\u001b[0;32m/usr/local/lib/python3.9/dist-packages/IPython/core/interactiveshell.py\u001b[0m in \u001b[0;36mrun_cell_magic\u001b[0;34m(self, magic_name, line, cell)\u001b[0m\n\u001b[1;32m   2471\u001b[0m             \u001b[0;32mwith\u001b[0m \u001b[0mself\u001b[0m\u001b[0;34m.\u001b[0m\u001b[0mbuiltin_trap\u001b[0m\u001b[0;34m:\u001b[0m\u001b[0;34m\u001b[0m\u001b[0;34m\u001b[0m\u001b[0m\n\u001b[1;32m   2472\u001b[0m                 \u001b[0margs\u001b[0m \u001b[0;34m=\u001b[0m \u001b[0;34m(\u001b[0m\u001b[0mmagic_arg_s\u001b[0m\u001b[0;34m,\u001b[0m \u001b[0mcell\u001b[0m\u001b[0;34m)\u001b[0m\u001b[0;34m\u001b[0m\u001b[0;34m\u001b[0m\u001b[0m\n\u001b[0;32m-> 2473\u001b[0;31m                 \u001b[0mresult\u001b[0m \u001b[0;34m=\u001b[0m \u001b[0mfn\u001b[0m\u001b[0;34m(\u001b[0m\u001b[0;34m*\u001b[0m\u001b[0margs\u001b[0m\u001b[0;34m,\u001b[0m \u001b[0;34m**\u001b[0m\u001b[0mkwargs\u001b[0m\u001b[0;34m)\u001b[0m\u001b[0;34m\u001b[0m\u001b[0;34m\u001b[0m\u001b[0m\n\u001b[0m\u001b[1;32m   2474\u001b[0m             \u001b[0;32mreturn\u001b[0m \u001b[0mresult\u001b[0m\u001b[0;34m\u001b[0m\u001b[0;34m\u001b[0m\u001b[0m\n\u001b[1;32m   2475\u001b[0m \u001b[0;34m\u001b[0m\u001b[0m\n",
            "\u001b[0;32m<decorator-gen-122>\u001b[0m in \u001b[0;36mR\u001b[0;34m(self, line, cell, local_ns)\u001b[0m\n",
            "\u001b[0;32m/usr/local/lib/python3.9/dist-packages/IPython/core/magic.py\u001b[0m in \u001b[0;36m<lambda>\u001b[0;34m(f, *a, **k)\u001b[0m\n\u001b[1;32m    185\u001b[0m     \u001b[0;31m# but it's overkill for just that one bit of state.\u001b[0m\u001b[0;34m\u001b[0m\u001b[0;34m\u001b[0m\u001b[0m\n\u001b[1;32m    186\u001b[0m     \u001b[0;32mdef\u001b[0m \u001b[0mmagic_deco\u001b[0m\u001b[0;34m(\u001b[0m\u001b[0marg\u001b[0m\u001b[0;34m)\u001b[0m\u001b[0;34m:\u001b[0m\u001b[0;34m\u001b[0m\u001b[0;34m\u001b[0m\u001b[0m\n\u001b[0;32m--> 187\u001b[0;31m         \u001b[0mcall\u001b[0m \u001b[0;34m=\u001b[0m \u001b[0;32mlambda\u001b[0m \u001b[0mf\u001b[0m\u001b[0;34m,\u001b[0m \u001b[0;34m*\u001b[0m\u001b[0ma\u001b[0m\u001b[0;34m,\u001b[0m \u001b[0;34m**\u001b[0m\u001b[0mk\u001b[0m\u001b[0;34m:\u001b[0m \u001b[0mf\u001b[0m\u001b[0;34m(\u001b[0m\u001b[0;34m*\u001b[0m\u001b[0ma\u001b[0m\u001b[0;34m,\u001b[0m \u001b[0;34m**\u001b[0m\u001b[0mk\u001b[0m\u001b[0;34m)\u001b[0m\u001b[0;34m\u001b[0m\u001b[0;34m\u001b[0m\u001b[0m\n\u001b[0m\u001b[1;32m    188\u001b[0m \u001b[0;34m\u001b[0m\u001b[0m\n\u001b[1;32m    189\u001b[0m         \u001b[0;32mif\u001b[0m \u001b[0mcallable\u001b[0m\u001b[0;34m(\u001b[0m\u001b[0marg\u001b[0m\u001b[0;34m)\u001b[0m\u001b[0;34m:\u001b[0m\u001b[0;34m\u001b[0m\u001b[0;34m\u001b[0m\u001b[0m\n",
            "\u001b[0;32m/usr/local/lib/python3.9/dist-packages/rpy2/ipython/rmagic.py\u001b[0m in \u001b[0;36mR\u001b[0;34m(self, line, cell, local_ns)\u001b[0m\n\u001b[1;32m    793\u001b[0m             \u001b[0;32mif\u001b[0m \u001b[0;32mnot\u001b[0m \u001b[0me\u001b[0m\u001b[0;34m.\u001b[0m\u001b[0mstdout\u001b[0m\u001b[0;34m.\u001b[0m\u001b[0mendswith\u001b[0m\u001b[0;34m(\u001b[0m\u001b[0me\u001b[0m\u001b[0;34m.\u001b[0m\u001b[0merr\u001b[0m\u001b[0;34m)\u001b[0m\u001b[0;34m:\u001b[0m\u001b[0;34m\u001b[0m\u001b[0;34m\u001b[0m\u001b[0m\n\u001b[1;32m    794\u001b[0m                 \u001b[0mprint\u001b[0m\u001b[0;34m(\u001b[0m\u001b[0me\u001b[0m\u001b[0;34m.\u001b[0m\u001b[0merr\u001b[0m\u001b[0;34m)\u001b[0m\u001b[0;34m\u001b[0m\u001b[0;34m\u001b[0m\u001b[0m\n\u001b[0;32m--> 795\u001b[0;31m             \u001b[0;32mraise\u001b[0m \u001b[0me\u001b[0m\u001b[0;34m\u001b[0m\u001b[0;34m\u001b[0m\u001b[0m\n\u001b[0m\u001b[1;32m    796\u001b[0m         \u001b[0;32mfinally\u001b[0m\u001b[0;34m:\u001b[0m\u001b[0;34m\u001b[0m\u001b[0;34m\u001b[0m\u001b[0m\n\u001b[1;32m    797\u001b[0m             \u001b[0;32mif\u001b[0m \u001b[0mself\u001b[0m\u001b[0;34m.\u001b[0m\u001b[0mdevice\u001b[0m \u001b[0;32min\u001b[0m \u001b[0;34m[\u001b[0m\u001b[0;34m'png'\u001b[0m\u001b[0;34m,\u001b[0m \u001b[0;34m'svg'\u001b[0m\u001b[0;34m]\u001b[0m\u001b[0;34m:\u001b[0m\u001b[0;34m\u001b[0m\u001b[0;34m\u001b[0m\u001b[0m\n",
            "\u001b[0;32m/usr/local/lib/python3.9/dist-packages/rpy2/ipython/rmagic.py\u001b[0m in \u001b[0;36mR\u001b[0;34m(self, line, cell, local_ns)\u001b[0m\n\u001b[1;32m    773\u001b[0m                     \u001b[0mreturn_output\u001b[0m \u001b[0;34m=\u001b[0m \u001b[0;32mFalse\u001b[0m\u001b[0;34m\u001b[0m\u001b[0;34m\u001b[0m\u001b[0m\n\u001b[1;32m    774\u001b[0m             \u001b[0;32melse\u001b[0m\u001b[0;34m:\u001b[0m\u001b[0;34m\u001b[0m\u001b[0;34m\u001b[0m\u001b[0m\n\u001b[0;32m--> 775\u001b[0;31m                 \u001b[0mtext_result\u001b[0m\u001b[0;34m,\u001b[0m \u001b[0mresult\u001b[0m\u001b[0;34m,\u001b[0m \u001b[0mvisible\u001b[0m \u001b[0;34m=\u001b[0m \u001b[0mself\u001b[0m\u001b[0;34m.\u001b[0m\u001b[0meval\u001b[0m\u001b[0;34m(\u001b[0m\u001b[0mcode\u001b[0m\u001b[0;34m)\u001b[0m\u001b[0;34m\u001b[0m\u001b[0;34m\u001b[0m\u001b[0m\n\u001b[0m\u001b[1;32m    776\u001b[0m                 \u001b[0mtext_output\u001b[0m \u001b[0;34m+=\u001b[0m \u001b[0mtext_result\u001b[0m\u001b[0;34m\u001b[0m\u001b[0;34m\u001b[0m\u001b[0m\n\u001b[1;32m    777\u001b[0m                 \u001b[0;32mif\u001b[0m \u001b[0mvisible\u001b[0m\u001b[0;34m:\u001b[0m\u001b[0;34m\u001b[0m\u001b[0;34m\u001b[0m\u001b[0m\n",
            "\u001b[0;32m/usr/local/lib/python3.9/dist-packages/rpy2/ipython/rmagic.py\u001b[0m in \u001b[0;36meval\u001b[0;34m(self, code)\u001b[0m\n\u001b[1;32m    282\u001b[0m                 \u001b[0;31m# Otherwise next return seems to have copy of error.\u001b[0m\u001b[0;34m\u001b[0m\u001b[0;34m\u001b[0m\u001b[0m\n\u001b[1;32m    283\u001b[0m                 \u001b[0mwarning_or_other_msg\u001b[0m \u001b[0;34m=\u001b[0m \u001b[0mself\u001b[0m\u001b[0;34m.\u001b[0m\u001b[0mflush\u001b[0m\u001b[0;34m(\u001b[0m\u001b[0;34m)\u001b[0m\u001b[0;34m\u001b[0m\u001b[0;34m\u001b[0m\u001b[0m\n\u001b[0;32m--> 284\u001b[0;31m                 raise RInterpreterError(code, str(exception),\n\u001b[0m\u001b[1;32m    285\u001b[0m                                         warning_or_other_msg)\n\u001b[1;32m    286\u001b[0m             \u001b[0mtext_output\u001b[0m \u001b[0;34m=\u001b[0m \u001b[0mself\u001b[0m\u001b[0;34m.\u001b[0m\u001b[0mflush\u001b[0m\u001b[0;34m(\u001b[0m\u001b[0;34m)\u001b[0m\u001b[0;34m\u001b[0m\u001b[0;34m\u001b[0m\u001b[0m\n",
            "\u001b[0;31mRInterpreterError\u001b[0m: Failed to parse and evaluate line '\\nm=ncol(plazos)\\n\\n\\nN=as.integer(plazos/plazocupon)+1 #número de cupones a pagar\\nVTplazos=matrix(0,1,sum(N)) #vector de todos los plazos de todos los contratos\\ncontratosT=matrix(0,1,sum(N)) #vector de todos los contratos de todos los flujos de todos los contratos\\nnominalT=matrix(0,1,sum(N)) #vector de todos los nominales de todos los flujos de todos los contratos\\nplazocuponT=matrix(0,1,sum(N)) #vector de todos los plazoscupon de todos los flujos de todos los contratos\\ntasafijaT=matrix(0,1,sum(N)) #vector de tasas fijas de todos los flujos de todos los contratos\\nulNomT=matrix(0,1,sum(N)) #vector de contratos a final de flujo\\n\\n\\nplazini=plazos-plazocupon*(N-1) #vector de plazos iniciales\\nddv=plazocupon-plazini #dias trasncurridos del cupón vigente\\ntfcupon=matrix(0,1,m)  #El primero cupón de cada bono\\ntfcupondev=matrix(0,1,m) #cupón de los días devengados\\ntfcupgen=((1+tf_act/360)^(plazocupon[1])-1)*360/plazocupon[1] #el segundo al último cupón de todos los bonos\\n#calcula cupones de bonos\\nfor (j in (1:m))\\n{\\n  tfcupondev[j]=(prod(1+tf_int[(1:ddv[j])]/360)-1)*360/ddv[j]\\n  tfcupon[j]=((1+tfcupondev[j]*ddv[j]/360)*(1+tf_act/360)^(plazocupon[1]-ddv[j])-1)*360/plazocupon[1]\\n}\\n\\n\\nfor (j in (1:m))\\n{\\n  if (j==1)\\n  {\\n    VTplazos[,1:sum(N[1:j])]=seq(plazini[j],plazos[j], by=plazocupon[j])\\n    contratosT[,1:sum(N[1:j])]=seq(contratos[j],contratos[j])\\n    plazocuponT[,1:sum(N[1:j])]=seq(plazocupon...\nR error message: 'Error in tfcupon[j] <- ((1 + tfcupondev[j] * ddv[j]/360) * (1 + tf_act/360)^(plazocupon[1] -  : \\n  replacement has length zero'"
          ]
        }
      ]
    },
    {
      "cell_type": "code",
      "source": [
        "%%R   \n",
        "\n",
        "X_bd_tc=matrix(1,n,ncol(contratosT))*X2_pr$V2/100\n",
        "X_bd_ext=cbind(X_bd_tc,as.matrix(Xvp),as.matrix(Xst))\n",
        "\n",
        "\n",
        "bondeD=function(contratosT, nominal, tasafijaT, plazocuponT, VTplazos, Xvp, Xst, N)\n",
        "{ \n",
        "  V0=matrix(0,1,nrow(as.matrix(N)))\n",
        "  V0f=((((contratosT*(tasafijaT)*(plazocuponT/360))+ulNomT)/(1+(Xvp+Xst)*VTplazos/360)))*nominal\n",
        "  V0f[1]=0\n",
        "  V0f[27]=0\n",
        "  for (j in (1:nrow(as.matrix(N))))\n",
        "  {\n",
        "    if(j==1)\n",
        "    {\n",
        "      V0[j]=sum(V0f[j:N[j]])\n",
        "    }\n",
        "    else\n",
        "    {\n",
        "      V0[j]=sum(V0f[(sum(N[1:j-1])+1):(sum(N[1:j]))])\n",
        "    }\n",
        "  }\n",
        "  V0\n",
        "} \n",
        "\n",
        "V0_bd=bondeD(contratosT, nominal, tasafijaT, plazocuponT, VTplazos, Xvp[1,], Xst[1,], N)\n",
        "print(\"Valor del Bonde D\")\n",
        "print(V0_bd[1,1])"
      ],
      "metadata": {
        "colab": {
          "base_uri": "https://localhost:8080/"
        },
        "id": "imCPrrSLVELs",
        "outputId": "4eb45682-e18c-4c6c-cfb9-7db36e5dce77"
      },
      "execution_count": 71,
      "outputs": [
        {
          "output_type": "stream",
          "name": "stdout",
          "text": [
            "[1] \"Valor del Bonde D\"\n",
            "[1] 0\n"
          ]
        }
      ]
    },
    {
      "cell_type": "markdown",
      "source": [
        "# Futuros"
      ],
      "metadata": {
        "id": "CdntLCVePCYL"
      }
    },
    {
      "cell_type": "markdown",
      "source": [
        "100 contratos de compra de futuros de peso dólar con un strike de 20.83 vencimiento de 5 días, y 50 contratos de venta de futuros del IPC con strike de 49525 vencimiento de 53 días."
      ],
      "metadata": {
        "id": "z-24wjGvPMVS"
      }
    },
    {
      "cell_type": "code",
      "source": [
        "%reload_ext rpy2.ipython\n",
        "!rm -rf RiesgosFinancieros\n",
        "!git clone \"https://github.com/JuanPabloAS11/Tarea1-AdRF\""
      ],
      "metadata": {
        "colab": {
          "base_uri": "https://localhost:8080/"
        },
        "id": "O4bzlrvYRZai",
        "outputId": "b9904d7b-270c-4e02-cc0b-b4d07e2e5bf6"
      },
      "execution_count": 106,
      "outputs": [
        {
          "output_type": "stream",
          "name": "stdout",
          "text": [
            "fatal: destination path 'Tarea1-AdRF' already exists and is not an empty directory.\n"
          ]
        }
      ]
    },
    {
      "cell_type": "code",
      "source": [
        "# Definimos la función Forward\n",
        "def Forward(tipo,M,S,K,vencimiento,tx,ty):\n",
        "  if tipo == 'Cambio':\n",
        "    precio = M*((S*((1+(tx*vencimiento/360))/(1+(ty*vencimiento/360)))- K)/(1+(tx*vencimiento/360)))\n",
        "    return precio\n",
        "  elif tipo == 'Indice':\n",
        "    precio = M*(( S*(1+((tx-ty)*vencimiento/360))   - K)/(1+(tx*vencimiento/360)))\n",
        "    return precio\n",
        "  else:\n",
        "    return 'Tipo de Forward incorrecto'\n",
        "def intlin(x,X,Y):\n",
        "    n = len(X)\n",
        "    for i in range(n-1):\n",
        "        if (X[i]<= x <= X[i+1]):\n",
        "            a = Y[i+1] - Y[i]\n",
        "            b = X[i+1] - X[i]\n",
        "            return Y[i] + (x - X[i])*(a/b)\n",
        "    return \"No es posible interpolar\"\n",
        "class Riesgo_Forward:\n",
        "\n",
        "  def __init__(self):\n",
        "    self.posiciones = None\n",
        "    self.strikes = None\n",
        "    self.precios = None\n",
        "    self.VaR = None\n",
        "    self.CVaR = None\n",
        "    self.summary = None\n",
        "    self.precios = None\n",
        "    self.alisado = None\n",
        "    self.alpha = None\n",
        "\n",
        "  def compute(self,M,S,K,vencimientos, tx,ty,alpha = 0.98, alisado = False):\n",
        "    l = []\n",
        "    for i in range(2):\n",
        "      string = 'cambio' if i == 0 else 'indice'\n",
        "      aux1 = pd.DataFrame()\n",
        "      aux2 = pd.DataFrame()\n",
        "      aux1['DATE'] = tx[i]['DATE']\n",
        "      aux2['DATE'] = ty[i]['DATE']\n",
        "\n",
        "      if (str(vencimientos[i]) in tx[i].columns):\n",
        "        aux1['tx_'+string] = tx[i][str(vencimientos[i])]\n",
        "      else:\n",
        "        X = list(tx[i].columns)\n",
        "        X.remove('DATE')\n",
        "        X = [int(i) for i in X]\n",
        "        aux1['tx_'+string] = [intlin(vencimientos[i],X, tx[i].iloc[j,1:].values) for j in range(tx[i].shape[0])]\n",
        "\n",
        "      if (str(vencimientos[i]) in ty[i].columns):\n",
        "        aux2['ty_'+string] = ty[i][str(vencimientos[i])]\n",
        "      else:\n",
        "        X = list(ty[i].columns)\n",
        "        X.remove('DATE')\n",
        "        X = [int(i) for i in X]\n",
        "        aux2['ty_'+string] = [intlin(vencimientos[i],X, ty[i].iloc[j,1:].values) for j in range(ty[i].shape[0])]\n",
        "      c = aux1.merge(aux2,on = 'DATE',how = 'inner')\n",
        "      l.append(c)\n",
        "    df = l[0].merge(l[1],on = 'DATE',how = 'inner')\n",
        "    df = df.merge(S, how = 'inner',on = 'DATE')\n",
        "    df = df.set_index('DATE')\n",
        "    X = df.copy()\n",
        "    X0 = X.head(1)\n",
        "    DeltaX = (df.shift(1)/df)-1\n",
        "    DeltaX.iloc[0,:] = 0\n",
        "    X_s = X0.values*(1+DeltaX)\n",
        "\n",
        "    Y_s = pd.DataFrame()\n",
        "    Y_s['Cambio'] = [Forward('Cambio',M[0],X_s['USDMXN=X'][i],K[0],vencimientos[0],X_s['tx_cambio'][i],X_s['ty_cambio'][i])for i in range(X_s.shape[0])]\n",
        "    Y_s['Indice'] = [Forward('Indice',M[0],X_s['^MXX'][i],K[1],vencimientos[1],X_s['tx_indice'][i],X_s['ty_indice'][i])for i in range(X_s.shape[0])]\n",
        "    Y0 = Y_s.head(1)\n",
        "    Y0 = Y0.values[0]\n",
        "    PL = Y_s - Y0\n",
        "    PL['Total']=PL.sum(axis=1)\n",
        "\n",
        "    VaR_C=[]\n",
        "\n",
        "    if alisado:\n",
        "      c = 1\n",
        "      PL.dropna(inplace = True)\n",
        "      #PL = PL.iloc[::-1]\n",
        "      PL[\"Esc_SA\"] = ExponentialWeighted(0.05,PL.shape[0])\n",
        "      col_aux = list(PL.columns)\n",
        "      col_aux.remove(\"Esc_SA\")\n",
        "      vector_VaR = [VaR_CA(PL.iloc[:,i],PL.Esc_SA,alpha) for i in range(PL.shape[1]-1)]\n",
        "      VaR = pd.Series(vector_VaR,index = col_aux)\n",
        "    else:\n",
        "      c = 0\n",
        "      vector_VaR = [PL.iloc[:,i].quantile(alpha) for i in range(2)]\n",
        "      VaR = pd.Series(vector_VaR,index = ['Cambio','Indice'])\n",
        "      VaR = PL.quantile(alpha,numeric_only = True)\n",
        "    \n",
        "    for i in range(0,PL.shape[1]-c):\n",
        "      VC=CVaR(PL.iloc[:,i],VaR[i])\n",
        "      VaR_C.append(VC)\n",
        "\n",
        "    self.summary = pd.DataFrame({\"VaR\":VaR})\n",
        "    self.summary['CVaR'] = VaR_C\n",
        "\n",
        "    self.posiciones = M\n",
        "    self.strikes = K\n",
        "    self.VaR = self.summary[['VaR']]\n",
        "    self.CVaR = self.summary[['CVaR']]\n",
        "    self.alpha = alpha\n",
        "    self.alisado = alisado\n",
        "    self.precios = list(Y0)\n",
        "\n",
        "    return\n",
        "\n",
        "miForward = Riesgo_Forward()\n",
        "\n",
        "Libor=pd.read_table(\"Tarea1-AdRF/tasa_libor.txt\")\n",
        "Libor = Libor.rename(columns = {'DATE ':'DATE'})\n",
        "Libor['DATE'] =Libor['DATE'].apply(lambda x: str(x))\n",
        "Libor['DATE'] = Libor['DATE'].apply(lambda x: datetime(int(x[:4]), int(x[4:6]), int(x[6:])))\n",
        "nombre = list(Libor.columns)\n",
        "nombre.remove('DATE')\n",
        "Libor[nombre] = Libor[nombre]/100\n",
        "\n",
        "Guber= pd.read_table(\"Tarea1-AdRF/tasa_guber.txt\")\n",
        "Guber = Guber.rename(columns = {'DATE ':'DATE'})\n",
        "Guber['DATE'] =Guber['DATE'].apply(lambda x: str(x))\n",
        "Guber['DATE'] = Guber['DATE'].apply(lambda x: datetime(int(x[:4]), int(x[4:6]), int(x[6:])))\n",
        "\n",
        "\n",
        "div=pd.read_table(\"Tarea1-AdRF/tasa_dividendos.txt\")\n",
        "div = div.rename(columns = {'DATE ':'DATE'})\n",
        "div['DATE'] =div['DATE'].apply(lambda x: str(x))\n",
        "div['DATE'] = div['DATE'].apply(lambda x: datetime(int(x[:4]), int(x[4:6]), int(x[6:])))\n",
        "nombre = list(div.columns)\n",
        "nombre.remove('DATE')\n",
        "div[nombre] = div[nombre]/100\n",
        "\n",
        "S = pd.read_table(\"Tarea1-AdRF/tasas_IPC.txt\")\n",
        "S['Close']= S['Close'].replace(\"N/E\", np.NaN)\n",
        "S= S.dropna()\n",
        "S['Close'] = pd.to_numeric(S['Close'])\n",
        "S = S.rename(columns = {'Date':'DATE','Close':'^MXX'})\n",
        "S['DATE'] =S['DATE'].apply(lambda x: str(x))\n",
        "S['DATE'] = S['DATE'].apply(lambda x: datetime(int(x[:4]), int(x[4:6]), int(x[6:])))\n",
        "\n",
        "Y = pd.read_table(\"Tarea1-AdRF/tasa_spot.txt\")\n",
        "Y = Y.rename(columns = {'date':'DATE','precio':'USDMXN=X'})\n",
        "Y['DATE'] =Y['DATE'].apply(lambda x: str(x))\n",
        "Y['DATE'] = Y['DATE'].apply(lambda x: datetime(int(x[:4]), int(x[4:6]), int(x[6:])))\n",
        "\n",
        "S = S.merge(Y, on = 'DATE',how='inner')\n",
        "\n",
        "tx = [Guber,Guber]\n",
        "ty=[Libor,div]\n",
        "\n",
        "\n",
        "K = [20.83,49525]\n",
        "M = [100,50]\n",
        "vencimientos = [5,53]"
      ],
      "metadata": {
        "id": "xWXuweoKPX2J"
      },
      "execution_count": 4,
      "outputs": []
    },
    {
      "cell_type": "code",
      "source": [
        "miForward.compute(M,S,K,vencimientos,tx,ty,alisado=False)\n",
        "miForward.precios"
      ],
      "metadata": {
        "colab": {
          "base_uri": "https://localhost:8080/",
          "height": 329
        },
        "id": "aCQun1hpahIO",
        "outputId": "8349b885-8a65-4af6-c8e6-14ccfbce51a0"
      },
      "execution_count": 5,
      "outputs": [
        {
          "output_type": "error",
          "ename": "IndexError",
          "evalue": "ignored",
          "traceback": [
            "\u001b[0;31m---------------------------------------------------------------------------\u001b[0m",
            "\u001b[0;31mIndexError\u001b[0m                                Traceback (most recent call last)",
            "\u001b[0;32m<ipython-input-5-e838dd6cc3b4>\u001b[0m in \u001b[0;36m<cell line: 1>\u001b[0;34m()\u001b[0m\n\u001b[0;32m----> 1\u001b[0;31m \u001b[0mmiForward\u001b[0m\u001b[0;34m.\u001b[0m\u001b[0mcompute\u001b[0m\u001b[0;34m(\u001b[0m\u001b[0mM\u001b[0m\u001b[0;34m,\u001b[0m\u001b[0mS\u001b[0m\u001b[0;34m,\u001b[0m\u001b[0mK\u001b[0m\u001b[0;34m,\u001b[0m\u001b[0mvencimientos\u001b[0m\u001b[0;34m,\u001b[0m\u001b[0mtx\u001b[0m\u001b[0;34m,\u001b[0m\u001b[0mty\u001b[0m\u001b[0;34m,\u001b[0m\u001b[0malisado\u001b[0m\u001b[0;34m=\u001b[0m\u001b[0;32mFalse\u001b[0m\u001b[0;34m)\u001b[0m\u001b[0;34m\u001b[0m\u001b[0;34m\u001b[0m\u001b[0m\n\u001b[0m\u001b[1;32m      2\u001b[0m \u001b[0mmiForward\u001b[0m\u001b[0;34m.\u001b[0m\u001b[0mprecios\u001b[0m\u001b[0;34m\u001b[0m\u001b[0;34m\u001b[0m\u001b[0m\n",
            "\u001b[0;32m<ipython-input-4-08b86588c221>\u001b[0m in \u001b[0;36mcompute\u001b[0;34m(self, M, S, K, vencimientos, tx, ty, alpha, alisado)\u001b[0m\n\u001b[1;32m     62\u001b[0m     \u001b[0mX0\u001b[0m \u001b[0;34m=\u001b[0m \u001b[0mX\u001b[0m\u001b[0;34m.\u001b[0m\u001b[0mhead\u001b[0m\u001b[0;34m(\u001b[0m\u001b[0;36m1\u001b[0m\u001b[0;34m)\u001b[0m\u001b[0;34m\u001b[0m\u001b[0;34m\u001b[0m\u001b[0m\n\u001b[1;32m     63\u001b[0m     \u001b[0mDeltaX\u001b[0m \u001b[0;34m=\u001b[0m \u001b[0;34m(\u001b[0m\u001b[0mdf\u001b[0m\u001b[0;34m.\u001b[0m\u001b[0mshift\u001b[0m\u001b[0;34m(\u001b[0m\u001b[0;36m1\u001b[0m\u001b[0;34m)\u001b[0m\u001b[0;34m/\u001b[0m\u001b[0mdf\u001b[0m\u001b[0;34m)\u001b[0m\u001b[0;34m-\u001b[0m\u001b[0;36m1\u001b[0m\u001b[0;34m\u001b[0m\u001b[0;34m\u001b[0m\u001b[0m\n\u001b[0;32m---> 64\u001b[0;31m     \u001b[0mDeltaX\u001b[0m\u001b[0;34m.\u001b[0m\u001b[0miloc\u001b[0m\u001b[0;34m[\u001b[0m\u001b[0;36m0\u001b[0m\u001b[0;34m,\u001b[0m\u001b[0;34m:\u001b[0m\u001b[0;34m]\u001b[0m \u001b[0;34m=\u001b[0m \u001b[0;36m0\u001b[0m\u001b[0;34m\u001b[0m\u001b[0;34m\u001b[0m\u001b[0m\n\u001b[0m\u001b[1;32m     65\u001b[0m     \u001b[0mX_s\u001b[0m \u001b[0;34m=\u001b[0m \u001b[0mX0\u001b[0m\u001b[0;34m.\u001b[0m\u001b[0mvalues\u001b[0m\u001b[0;34m*\u001b[0m\u001b[0;34m(\u001b[0m\u001b[0;36m1\u001b[0m\u001b[0;34m+\u001b[0m\u001b[0mDeltaX\u001b[0m\u001b[0;34m)\u001b[0m\u001b[0;34m\u001b[0m\u001b[0;34m\u001b[0m\u001b[0m\n\u001b[1;32m     66\u001b[0m \u001b[0;34m\u001b[0m\u001b[0m\n",
            "\u001b[0;32m/usr/local/lib/python3.9/dist-packages/pandas/core/indexing.py\u001b[0m in \u001b[0;36m__setitem__\u001b[0;34m(self, key, value)\u001b[0m\n\u001b[1;32m    813\u001b[0m             \u001b[0mkey\u001b[0m \u001b[0;34m=\u001b[0m \u001b[0mcom\u001b[0m\u001b[0;34m.\u001b[0m\u001b[0mapply_if_callable\u001b[0m\u001b[0;34m(\u001b[0m\u001b[0mkey\u001b[0m\u001b[0;34m,\u001b[0m \u001b[0mself\u001b[0m\u001b[0;34m.\u001b[0m\u001b[0mobj\u001b[0m\u001b[0;34m)\u001b[0m\u001b[0;34m\u001b[0m\u001b[0;34m\u001b[0m\u001b[0m\n\u001b[1;32m    814\u001b[0m         \u001b[0mindexer\u001b[0m \u001b[0;34m=\u001b[0m \u001b[0mself\u001b[0m\u001b[0;34m.\u001b[0m\u001b[0m_get_setitem_indexer\u001b[0m\u001b[0;34m(\u001b[0m\u001b[0mkey\u001b[0m\u001b[0;34m)\u001b[0m\u001b[0;34m\u001b[0m\u001b[0;34m\u001b[0m\u001b[0m\n\u001b[0;32m--> 815\u001b[0;31m         \u001b[0mself\u001b[0m\u001b[0;34m.\u001b[0m\u001b[0m_has_valid_setitem_indexer\u001b[0m\u001b[0;34m(\u001b[0m\u001b[0mkey\u001b[0m\u001b[0;34m)\u001b[0m\u001b[0;34m\u001b[0m\u001b[0;34m\u001b[0m\u001b[0m\n\u001b[0m\u001b[1;32m    816\u001b[0m \u001b[0;34m\u001b[0m\u001b[0m\n\u001b[1;32m    817\u001b[0m         \u001b[0miloc\u001b[0m \u001b[0;34m=\u001b[0m \u001b[0mself\u001b[0m \u001b[0;32mif\u001b[0m \u001b[0mself\u001b[0m\u001b[0;34m.\u001b[0m\u001b[0mname\u001b[0m \u001b[0;34m==\u001b[0m \u001b[0;34m\"iloc\"\u001b[0m \u001b[0;32melse\u001b[0m \u001b[0mself\u001b[0m\u001b[0;34m.\u001b[0m\u001b[0mobj\u001b[0m\u001b[0;34m.\u001b[0m\u001b[0miloc\u001b[0m\u001b[0;34m\u001b[0m\u001b[0;34m\u001b[0m\u001b[0m\n",
            "\u001b[0;32m/usr/local/lib/python3.9/dist-packages/pandas/core/indexing.py\u001b[0m in \u001b[0;36m_has_valid_setitem_indexer\u001b[0;34m(self, indexer)\u001b[0m\n\u001b[1;32m   1516\u001b[0m             \u001b[0;32melif\u001b[0m \u001b[0mis_integer\u001b[0m\u001b[0;34m(\u001b[0m\u001b[0mi\u001b[0m\u001b[0;34m)\u001b[0m\u001b[0;34m:\u001b[0m\u001b[0;34m\u001b[0m\u001b[0;34m\u001b[0m\u001b[0m\n\u001b[1;32m   1517\u001b[0m                 \u001b[0;32mif\u001b[0m \u001b[0mi\u001b[0m \u001b[0;34m>=\u001b[0m \u001b[0mlen\u001b[0m\u001b[0;34m(\u001b[0m\u001b[0max\u001b[0m\u001b[0;34m)\u001b[0m\u001b[0;34m:\u001b[0m\u001b[0;34m\u001b[0m\u001b[0;34m\u001b[0m\u001b[0m\n\u001b[0;32m-> 1518\u001b[0;31m                     \u001b[0;32mraise\u001b[0m \u001b[0mIndexError\u001b[0m\u001b[0;34m(\u001b[0m\u001b[0;34m\"iloc cannot enlarge its target object\"\u001b[0m\u001b[0;34m)\u001b[0m\u001b[0;34m\u001b[0m\u001b[0;34m\u001b[0m\u001b[0m\n\u001b[0m\u001b[1;32m   1519\u001b[0m             \u001b[0;32melif\u001b[0m \u001b[0misinstance\u001b[0m\u001b[0;34m(\u001b[0m\u001b[0mi\u001b[0m\u001b[0;34m,\u001b[0m \u001b[0mdict\u001b[0m\u001b[0;34m)\u001b[0m\u001b[0;34m:\u001b[0m\u001b[0;34m\u001b[0m\u001b[0;34m\u001b[0m\u001b[0m\n\u001b[1;32m   1520\u001b[0m                 \u001b[0;32mraise\u001b[0m \u001b[0mIndexError\u001b[0m\u001b[0;34m(\u001b[0m\u001b[0;34m\"iloc cannot enlarge its target object\"\u001b[0m\u001b[0;34m)\u001b[0m\u001b[0;34m\u001b[0m\u001b[0;34m\u001b[0m\u001b[0m\n",
            "\u001b[0;31mIndexError\u001b[0m: iloc cannot enlarge its target object"
          ]
        }
      ]
    },
    {
      "cell_type": "markdown",
      "source": [
        "## Sin Alisado"
      ],
      "metadata": {
        "id": "5H3cX9L_TJNP"
      }
    },
    {
      "cell_type": "code",
      "source": [
        "miForward.compute(M,S,K,vencimientos,tx,ty,alisado=False)\n",
        "miForward.precios"
      ],
      "metadata": {
        "id": "-fyXbXz9TMra",
        "colab": {
          "base_uri": "https://localhost:8080/",
          "height": 329
        },
        "outputId": "5b7a4b29-8748-4db7-a760-e7bb9f04e0f0"
      },
      "execution_count": 117,
      "outputs": [
        {
          "output_type": "error",
          "ename": "IndexError",
          "evalue": "ignored",
          "traceback": [
            "\u001b[0;31m---------------------------------------------------------------------------\u001b[0m",
            "\u001b[0;31mIndexError\u001b[0m                                Traceback (most recent call last)",
            "\u001b[0;32m<ipython-input-117-e838dd6cc3b4>\u001b[0m in \u001b[0;36m<cell line: 1>\u001b[0;34m()\u001b[0m\n\u001b[0;32m----> 1\u001b[0;31m \u001b[0mmiForward\u001b[0m\u001b[0;34m.\u001b[0m\u001b[0mcompute\u001b[0m\u001b[0;34m(\u001b[0m\u001b[0mM\u001b[0m\u001b[0;34m,\u001b[0m\u001b[0mS\u001b[0m\u001b[0;34m,\u001b[0m\u001b[0mK\u001b[0m\u001b[0;34m,\u001b[0m\u001b[0mvencimientos\u001b[0m\u001b[0;34m,\u001b[0m\u001b[0mtx\u001b[0m\u001b[0;34m,\u001b[0m\u001b[0mty\u001b[0m\u001b[0;34m,\u001b[0m\u001b[0malisado\u001b[0m\u001b[0;34m=\u001b[0m\u001b[0;32mFalse\u001b[0m\u001b[0;34m)\u001b[0m\u001b[0;34m\u001b[0m\u001b[0;34m\u001b[0m\u001b[0m\n\u001b[0m\u001b[1;32m      2\u001b[0m \u001b[0mmiForward\u001b[0m\u001b[0;34m.\u001b[0m\u001b[0mprecios\u001b[0m\u001b[0;34m\u001b[0m\u001b[0;34m\u001b[0m\u001b[0m\n",
            "\u001b[0;32m<ipython-input-115-e8c746f8a356>\u001b[0m in \u001b[0;36mcompute\u001b[0;34m(self, M, S, K, vencimientos, tx, ty, alpha, alisado)\u001b[0m\n\u001b[1;32m     62\u001b[0m     \u001b[0mX0\u001b[0m \u001b[0;34m=\u001b[0m \u001b[0mX\u001b[0m\u001b[0;34m.\u001b[0m\u001b[0mhead\u001b[0m\u001b[0;34m(\u001b[0m\u001b[0;36m1\u001b[0m\u001b[0;34m)\u001b[0m\u001b[0;34m\u001b[0m\u001b[0;34m\u001b[0m\u001b[0m\n\u001b[1;32m     63\u001b[0m     \u001b[0mDeltaX\u001b[0m \u001b[0;34m=\u001b[0m \u001b[0;34m(\u001b[0m\u001b[0mdf\u001b[0m\u001b[0;34m.\u001b[0m\u001b[0mshift\u001b[0m\u001b[0;34m(\u001b[0m\u001b[0;36m1\u001b[0m\u001b[0;34m)\u001b[0m\u001b[0;34m/\u001b[0m\u001b[0mdf\u001b[0m\u001b[0;34m)\u001b[0m\u001b[0;34m-\u001b[0m\u001b[0;36m1\u001b[0m\u001b[0;34m\u001b[0m\u001b[0;34m\u001b[0m\u001b[0m\n\u001b[0;32m---> 64\u001b[0;31m     \u001b[0mDeltaX\u001b[0m\u001b[0;34m.\u001b[0m\u001b[0miloc\u001b[0m\u001b[0;34m[\u001b[0m\u001b[0;36m0\u001b[0m\u001b[0;34m,\u001b[0m\u001b[0;34m:\u001b[0m\u001b[0;34m]\u001b[0m \u001b[0;34m=\u001b[0m \u001b[0;36m0\u001b[0m\u001b[0;34m\u001b[0m\u001b[0;34m\u001b[0m\u001b[0m\n\u001b[0m\u001b[1;32m     65\u001b[0m     \u001b[0mX_s\u001b[0m \u001b[0;34m=\u001b[0m \u001b[0mX0\u001b[0m\u001b[0;34m.\u001b[0m\u001b[0mvalues\u001b[0m\u001b[0;34m*\u001b[0m\u001b[0;34m(\u001b[0m\u001b[0;36m1\u001b[0m\u001b[0;34m+\u001b[0m\u001b[0mDeltaX\u001b[0m\u001b[0;34m)\u001b[0m\u001b[0;34m\u001b[0m\u001b[0;34m\u001b[0m\u001b[0m\n\u001b[1;32m     66\u001b[0m \u001b[0;34m\u001b[0m\u001b[0m\n",
            "\u001b[0;32m/usr/local/lib/python3.9/dist-packages/pandas/core/indexing.py\u001b[0m in \u001b[0;36m__setitem__\u001b[0;34m(self, key, value)\u001b[0m\n\u001b[1;32m    813\u001b[0m             \u001b[0mkey\u001b[0m \u001b[0;34m=\u001b[0m \u001b[0mcom\u001b[0m\u001b[0;34m.\u001b[0m\u001b[0mapply_if_callable\u001b[0m\u001b[0;34m(\u001b[0m\u001b[0mkey\u001b[0m\u001b[0;34m,\u001b[0m \u001b[0mself\u001b[0m\u001b[0;34m.\u001b[0m\u001b[0mobj\u001b[0m\u001b[0;34m)\u001b[0m\u001b[0;34m\u001b[0m\u001b[0;34m\u001b[0m\u001b[0m\n\u001b[1;32m    814\u001b[0m         \u001b[0mindexer\u001b[0m \u001b[0;34m=\u001b[0m \u001b[0mself\u001b[0m\u001b[0;34m.\u001b[0m\u001b[0m_get_setitem_indexer\u001b[0m\u001b[0;34m(\u001b[0m\u001b[0mkey\u001b[0m\u001b[0;34m)\u001b[0m\u001b[0;34m\u001b[0m\u001b[0;34m\u001b[0m\u001b[0m\n\u001b[0;32m--> 815\u001b[0;31m         \u001b[0mself\u001b[0m\u001b[0;34m.\u001b[0m\u001b[0m_has_valid_setitem_indexer\u001b[0m\u001b[0;34m(\u001b[0m\u001b[0mkey\u001b[0m\u001b[0;34m)\u001b[0m\u001b[0;34m\u001b[0m\u001b[0;34m\u001b[0m\u001b[0m\n\u001b[0m\u001b[1;32m    816\u001b[0m \u001b[0;34m\u001b[0m\u001b[0m\n\u001b[1;32m    817\u001b[0m         \u001b[0miloc\u001b[0m \u001b[0;34m=\u001b[0m \u001b[0mself\u001b[0m \u001b[0;32mif\u001b[0m \u001b[0mself\u001b[0m\u001b[0;34m.\u001b[0m\u001b[0mname\u001b[0m \u001b[0;34m==\u001b[0m \u001b[0;34m\"iloc\"\u001b[0m \u001b[0;32melse\u001b[0m \u001b[0mself\u001b[0m\u001b[0;34m.\u001b[0m\u001b[0mobj\u001b[0m\u001b[0;34m.\u001b[0m\u001b[0miloc\u001b[0m\u001b[0;34m\u001b[0m\u001b[0;34m\u001b[0m\u001b[0m\n",
            "\u001b[0;32m/usr/local/lib/python3.9/dist-packages/pandas/core/indexing.py\u001b[0m in \u001b[0;36m_has_valid_setitem_indexer\u001b[0;34m(self, indexer)\u001b[0m\n\u001b[1;32m   1516\u001b[0m             \u001b[0;32melif\u001b[0m \u001b[0mis_integer\u001b[0m\u001b[0;34m(\u001b[0m\u001b[0mi\u001b[0m\u001b[0;34m)\u001b[0m\u001b[0;34m:\u001b[0m\u001b[0;34m\u001b[0m\u001b[0;34m\u001b[0m\u001b[0m\n\u001b[1;32m   1517\u001b[0m                 \u001b[0;32mif\u001b[0m \u001b[0mi\u001b[0m \u001b[0;34m>=\u001b[0m \u001b[0mlen\u001b[0m\u001b[0;34m(\u001b[0m\u001b[0max\u001b[0m\u001b[0;34m)\u001b[0m\u001b[0;34m:\u001b[0m\u001b[0;34m\u001b[0m\u001b[0;34m\u001b[0m\u001b[0m\n\u001b[0;32m-> 1518\u001b[0;31m                     \u001b[0;32mraise\u001b[0m \u001b[0mIndexError\u001b[0m\u001b[0;34m(\u001b[0m\u001b[0;34m\"iloc cannot enlarge its target object\"\u001b[0m\u001b[0;34m)\u001b[0m\u001b[0;34m\u001b[0m\u001b[0;34m\u001b[0m\u001b[0m\n\u001b[0m\u001b[1;32m   1519\u001b[0m             \u001b[0;32melif\u001b[0m \u001b[0misinstance\u001b[0m\u001b[0;34m(\u001b[0m\u001b[0mi\u001b[0m\u001b[0;34m,\u001b[0m \u001b[0mdict\u001b[0m\u001b[0;34m)\u001b[0m\u001b[0;34m:\u001b[0m\u001b[0;34m\u001b[0m\u001b[0;34m\u001b[0m\u001b[0m\n\u001b[1;32m   1520\u001b[0m                 \u001b[0;32mraise\u001b[0m \u001b[0mIndexError\u001b[0m\u001b[0;34m(\u001b[0m\u001b[0;34m\"iloc cannot enlarge its target object\"\u001b[0m\u001b[0;34m)\u001b[0m\u001b[0;34m\u001b[0m\u001b[0;34m\u001b[0m\u001b[0m\n",
            "\u001b[0;31mIndexError\u001b[0m: iloc cannot enlarge its target object"
          ]
        }
      ]
    },
    {
      "cell_type": "markdown",
      "source": [
        "## Con Alisado"
      ],
      "metadata": {
        "id": "qny7JgwjWGrl"
      }
    },
    {
      "cell_type": "code",
      "source": [
        "miForward.compute(M,S,K,vencimientos,tx,ty,alisado = True)"
      ],
      "metadata": {
        "id": "BBL9ROTUWIz7",
        "colab": {
          "base_uri": "https://localhost:8080/",
          "height": 311
        },
        "outputId": "7010e96f-7330-4d3a-85f9-bbc8ca5d2f21"
      },
      "execution_count": 119,
      "outputs": [
        {
          "output_type": "error",
          "ename": "IndexError",
          "evalue": "ignored",
          "traceback": [
            "\u001b[0;31m---------------------------------------------------------------------------\u001b[0m",
            "\u001b[0;31mIndexError\u001b[0m                                Traceback (most recent call last)",
            "\u001b[0;32m<ipython-input-119-a2a85475e60f>\u001b[0m in \u001b[0;36m<cell line: 1>\u001b[0;34m()\u001b[0m\n\u001b[0;32m----> 1\u001b[0;31m \u001b[0mmiForward\u001b[0m\u001b[0;34m.\u001b[0m\u001b[0mcompute\u001b[0m\u001b[0;34m(\u001b[0m\u001b[0mM\u001b[0m\u001b[0;34m,\u001b[0m\u001b[0mS\u001b[0m\u001b[0;34m,\u001b[0m\u001b[0mK\u001b[0m\u001b[0;34m,\u001b[0m\u001b[0mvencimientos\u001b[0m\u001b[0;34m,\u001b[0m\u001b[0mtx\u001b[0m\u001b[0;34m,\u001b[0m\u001b[0mty\u001b[0m\u001b[0;34m,\u001b[0m\u001b[0malisado\u001b[0m \u001b[0;34m=\u001b[0m \u001b[0;32mTrue\u001b[0m\u001b[0;34m)\u001b[0m\u001b[0;34m\u001b[0m\u001b[0;34m\u001b[0m\u001b[0m\n\u001b[0m",
            "\u001b[0;32m<ipython-input-115-e8c746f8a356>\u001b[0m in \u001b[0;36mcompute\u001b[0;34m(self, M, S, K, vencimientos, tx, ty, alpha, alisado)\u001b[0m\n\u001b[1;32m     62\u001b[0m     \u001b[0mX0\u001b[0m \u001b[0;34m=\u001b[0m \u001b[0mX\u001b[0m\u001b[0;34m.\u001b[0m\u001b[0mhead\u001b[0m\u001b[0;34m(\u001b[0m\u001b[0;36m1\u001b[0m\u001b[0;34m)\u001b[0m\u001b[0;34m\u001b[0m\u001b[0;34m\u001b[0m\u001b[0m\n\u001b[1;32m     63\u001b[0m     \u001b[0mDeltaX\u001b[0m \u001b[0;34m=\u001b[0m \u001b[0;34m(\u001b[0m\u001b[0mdf\u001b[0m\u001b[0;34m.\u001b[0m\u001b[0mshift\u001b[0m\u001b[0;34m(\u001b[0m\u001b[0;36m1\u001b[0m\u001b[0;34m)\u001b[0m\u001b[0;34m/\u001b[0m\u001b[0mdf\u001b[0m\u001b[0;34m)\u001b[0m\u001b[0;34m-\u001b[0m\u001b[0;36m1\u001b[0m\u001b[0;34m\u001b[0m\u001b[0;34m\u001b[0m\u001b[0m\n\u001b[0;32m---> 64\u001b[0;31m     \u001b[0mDeltaX\u001b[0m\u001b[0;34m.\u001b[0m\u001b[0miloc\u001b[0m\u001b[0;34m[\u001b[0m\u001b[0;36m0\u001b[0m\u001b[0;34m,\u001b[0m\u001b[0;34m:\u001b[0m\u001b[0;34m]\u001b[0m \u001b[0;34m=\u001b[0m \u001b[0;36m0\u001b[0m\u001b[0;34m\u001b[0m\u001b[0;34m\u001b[0m\u001b[0m\n\u001b[0m\u001b[1;32m     65\u001b[0m     \u001b[0mX_s\u001b[0m \u001b[0;34m=\u001b[0m \u001b[0mX0\u001b[0m\u001b[0;34m.\u001b[0m\u001b[0mvalues\u001b[0m\u001b[0;34m*\u001b[0m\u001b[0;34m(\u001b[0m\u001b[0;36m1\u001b[0m\u001b[0;34m+\u001b[0m\u001b[0mDeltaX\u001b[0m\u001b[0;34m)\u001b[0m\u001b[0;34m\u001b[0m\u001b[0;34m\u001b[0m\u001b[0m\n\u001b[1;32m     66\u001b[0m \u001b[0;34m\u001b[0m\u001b[0m\n",
            "\u001b[0;32m/usr/local/lib/python3.9/dist-packages/pandas/core/indexing.py\u001b[0m in \u001b[0;36m__setitem__\u001b[0;34m(self, key, value)\u001b[0m\n\u001b[1;32m    813\u001b[0m             \u001b[0mkey\u001b[0m \u001b[0;34m=\u001b[0m \u001b[0mcom\u001b[0m\u001b[0;34m.\u001b[0m\u001b[0mapply_if_callable\u001b[0m\u001b[0;34m(\u001b[0m\u001b[0mkey\u001b[0m\u001b[0;34m,\u001b[0m \u001b[0mself\u001b[0m\u001b[0;34m.\u001b[0m\u001b[0mobj\u001b[0m\u001b[0;34m)\u001b[0m\u001b[0;34m\u001b[0m\u001b[0;34m\u001b[0m\u001b[0m\n\u001b[1;32m    814\u001b[0m         \u001b[0mindexer\u001b[0m \u001b[0;34m=\u001b[0m \u001b[0mself\u001b[0m\u001b[0;34m.\u001b[0m\u001b[0m_get_setitem_indexer\u001b[0m\u001b[0;34m(\u001b[0m\u001b[0mkey\u001b[0m\u001b[0;34m)\u001b[0m\u001b[0;34m\u001b[0m\u001b[0;34m\u001b[0m\u001b[0m\n\u001b[0;32m--> 815\u001b[0;31m         \u001b[0mself\u001b[0m\u001b[0;34m.\u001b[0m\u001b[0m_has_valid_setitem_indexer\u001b[0m\u001b[0;34m(\u001b[0m\u001b[0mkey\u001b[0m\u001b[0;34m)\u001b[0m\u001b[0;34m\u001b[0m\u001b[0;34m\u001b[0m\u001b[0m\n\u001b[0m\u001b[1;32m    816\u001b[0m \u001b[0;34m\u001b[0m\u001b[0m\n\u001b[1;32m    817\u001b[0m         \u001b[0miloc\u001b[0m \u001b[0;34m=\u001b[0m \u001b[0mself\u001b[0m \u001b[0;32mif\u001b[0m \u001b[0mself\u001b[0m\u001b[0;34m.\u001b[0m\u001b[0mname\u001b[0m \u001b[0;34m==\u001b[0m \u001b[0;34m\"iloc\"\u001b[0m \u001b[0;32melse\u001b[0m \u001b[0mself\u001b[0m\u001b[0;34m.\u001b[0m\u001b[0mobj\u001b[0m\u001b[0;34m.\u001b[0m\u001b[0miloc\u001b[0m\u001b[0;34m\u001b[0m\u001b[0;34m\u001b[0m\u001b[0m\n",
            "\u001b[0;32m/usr/local/lib/python3.9/dist-packages/pandas/core/indexing.py\u001b[0m in \u001b[0;36m_has_valid_setitem_indexer\u001b[0;34m(self, indexer)\u001b[0m\n\u001b[1;32m   1516\u001b[0m             \u001b[0;32melif\u001b[0m \u001b[0mis_integer\u001b[0m\u001b[0;34m(\u001b[0m\u001b[0mi\u001b[0m\u001b[0;34m)\u001b[0m\u001b[0;34m:\u001b[0m\u001b[0;34m\u001b[0m\u001b[0;34m\u001b[0m\u001b[0m\n\u001b[1;32m   1517\u001b[0m                 \u001b[0;32mif\u001b[0m \u001b[0mi\u001b[0m \u001b[0;34m>=\u001b[0m \u001b[0mlen\u001b[0m\u001b[0;34m(\u001b[0m\u001b[0max\u001b[0m\u001b[0;34m)\u001b[0m\u001b[0;34m:\u001b[0m\u001b[0;34m\u001b[0m\u001b[0;34m\u001b[0m\u001b[0m\n\u001b[0;32m-> 1518\u001b[0;31m                     \u001b[0;32mraise\u001b[0m \u001b[0mIndexError\u001b[0m\u001b[0;34m(\u001b[0m\u001b[0;34m\"iloc cannot enlarge its target object\"\u001b[0m\u001b[0;34m)\u001b[0m\u001b[0;34m\u001b[0m\u001b[0;34m\u001b[0m\u001b[0m\n\u001b[0m\u001b[1;32m   1519\u001b[0m             \u001b[0;32melif\u001b[0m \u001b[0misinstance\u001b[0m\u001b[0;34m(\u001b[0m\u001b[0mi\u001b[0m\u001b[0;34m,\u001b[0m \u001b[0mdict\u001b[0m\u001b[0;34m)\u001b[0m\u001b[0;34m:\u001b[0m\u001b[0;34m\u001b[0m\u001b[0;34m\u001b[0m\u001b[0m\n\u001b[1;32m   1520\u001b[0m                 \u001b[0;32mraise\u001b[0m \u001b[0mIndexError\u001b[0m\u001b[0;34m(\u001b[0m\u001b[0;34m\"iloc cannot enlarge its target object\"\u001b[0m\u001b[0;34m)\u001b[0m\u001b[0;34m\u001b[0m\u001b[0;34m\u001b[0m\u001b[0m\n",
            "\u001b[0;31mIndexError\u001b[0m: iloc cannot enlarge its target object"
          ]
        }
      ]
    },
    {
      "cell_type": "markdown",
      "source": [
        "# SWAP"
      ],
      "metadata": {
        "id": "FCnnXF1iWs4w"
      }
    },
    {
      "cell_type": "markdown",
      "source": [
        "Un swap largo con nocional de 16 millones pagando tasa fija de 6.6% anual (cada 28 días) y recibiendo tasa\n",
        "flotante de la curva TIIE vencimiento de 588 días, un swap corto con nocional de 12 millones pagando tasa\n",
        "variable de la TIIE y recibiendo fija de 5.9% vencimiento de 270 días."
      ],
      "metadata": {
        "id": "YU6QbYTNWz-9"
      }
    },
    {
      "cell_type": "code",
      "source": [
        "def InterpolacionLineal(x,X,Y):\n",
        "    n = len(X)\n",
        "    for i in range(n-1):\n",
        "        if X[i]<= x <= X[i+1]:\n",
        "            a = Y[i+1] - Y[i]\n",
        "            b = (X[i+1] - X[i]).days\n",
        "            return Y[i] + (x - X[i]).days*(a/b)\n",
        "    return \"No es posible interpolar\"\n",
        "\n",
        "class InterestRateSwap:\n",
        "    \n",
        "    def __init__(self):\n",
        "        self.precio = None\n",
        "        self.n_cupones = None\n",
        "        self.nocional = None\n",
        "        self.posicion = None\n",
        "        self.convencion = None\n",
        "        self.fija = None\n",
        "        self.flotante = None\n",
        "        self.descuentos = None\n",
        "        self.summary = None\n",
        "        \n",
        "    def compute(self, fval, M, n, fix_rate, flotante,calen_flotante, descuentos, calen_desc, \n",
        "                plazos, tau,  payer = False, act_360 = True):\n",
        "        \"\"\"\n",
        "        M: Nocional\n",
        "        n: # de cupones\n",
        "        fix_rate: Tasa fija de la pata larga del IRS\n",
        "        flotante: Curva de tasas de mercado (la que encuentras en BANXICO) de la pata corta\n",
        "        calen_flotante: Las fechas dadas por la curva de flotante\n",
        "        descuentos: Curca de tasas de descuento de mercado para valuar el IRS\n",
        "        calen_desc: Las fechas dadas por la curva de descuentos\n",
        "        plazos : Lista de plazo del i -ésimo cupón (habiles)\n",
        "        tau: Plazo en dias del i-ésimo cupón. (naturales)\n",
        "        payer: Dummy; 1 si paga fija, 0 si paga flotante\n",
        "        act_360: Dummy; tipo de convención 1 si act/360, 0 si act/365\n",
        "        \"\"\"\n",
        "\n",
        "        spot = fval\n",
        "        \n",
        "        if act_360:\n",
        "            conv = 360\n",
        "        else:\n",
        "            conv = 365\n",
        "            \n",
        "        aux = pd.DataFrame({\"Cupon\":list(range(1,n+1)), \"Tau\":tau})\n",
        "        aux[\"Desde Spot\"] = aux[\"Tau\"].cumsum()\n",
        "        aux[\"Fecha\"] = aux[\"Desde Spot\"].apply(lambda x: timedelta(x) + spot)\n",
        "                \n",
        "        df = pd.DataFrame({\"Cupon\":list(range(1,n+1)), \"Plazo\": plazos, \"Tau\": tau})\n",
        "                \n",
        "        df[\"Fechas\"] =  aux[\"Fecha\"]\n",
        "        df[\"Flotante\"] = df[\"Fechas\"].apply(InterpolacionLineal, args=(calen_flotante, flotante))\n",
        "        df[\"Descuentos\"]=df[\"Fechas\"].apply(InterpolacionLineal, args=(calen_desc, descuentos))\n",
        "        \n",
        "        # Calculo de tasas forward\n",
        "        df['Forward_Flotante'] = (conv/(aux['Desde Spot']-aux['Desde Spot'].shift(1)))*(((1+(df['Flotante']*aux['Desde Spot']/conv))/(1+(df['Flotante'].shift(1)*aux['Desde Spot'].shift(1)/conv))) - 1)\n",
        "        df['Forward_Flotante'][0] = df['Flotante'][0]\n",
        "        \n",
        "        df[\"Sumando\"] = ((df[\"Forward_Flotante\"]-fix_rate)*df[\"Plazo\"]/conv) / (1 + (df[\"Descuentos\"]*df[\"Tau\"]/conv))\n",
        "        \n",
        "        self.precio =  M*((-1)**payer)*df[\"Sumando\"].sum()\n",
        "        self.n_cupones = n\n",
        "        self.nocional = M\n",
        "        self.posicion = \"Payer\" if payer else \"Receiver\"\n",
        "        self.convencion = conv\n",
        "        self.fija = fix_rate\n",
        "        self.flotante = df[[\"Fechas\",\"Forward_Flotante\"]]\n",
        "        self.descuentos = df[[\"Fechas\", \"Descuentos\"]]\n",
        "        self.summary = df\n",
        "        \n",
        "        return\n",
        "    \n",
        "    def plots(self):\n",
        "        Bool = True\n",
        "        while Bool:\n",
        "            print(\"\\n\")\n",
        "            choice = input(\"Si deseas ver las tasas de descuento teclea 'Descuentos', si deseas\\\n",
        "                                ver las tasas flotantes teclea 'Tasas' o si deseas salir escribe '0':\\n\")\n",
        "            if choice == 'Descuentos' or choice =='Tasas' or choice == '0':\n",
        "                Bool = False\n",
        "            else:\n",
        "                print('\\nTu elección no es válida')\n",
        "        if choice == 'Descuentos':\n",
        "            sns.set_style('darkgrid')\n",
        "            sns.set_palette('tab10')\n",
        "            plt.figure(figsize = (12,8))\n",
        "            ax = sns.lineplot(x = self.summary['Fechas'], y = self.summary['Descuentos'])\n",
        "            ax.set_title(\"Curva de Descuentos\",fontsize = '25')\n",
        "            plt.show()\n",
        "            \n",
        "            return\n",
        "        elif choice == 'Tasas':\n",
        "            sns.set_style('darkgrid')\n",
        "            sns.set_palette('tab10')\n",
        "            plt.figure(figsize = (12,8))\n",
        "            ax = sns.lineplot(x = self.summary['Fechas'], y = self.summary['Forward_Flotante'], color = 'red')\n",
        "            ax.set_title(\"Curva de Tasas Forward Flotantes\",fontsize = '25')\n",
        "            plt.show()\n",
        "            \n",
        "            return\n",
        "        else:\n",
        "            return"
      ],
      "metadata": {
        "id": "_3ZeZF8nWy_1"
      },
      "execution_count": 120,
      "outputs": []
    },
    {
      "cell_type": "code",
      "source": [
        "class Riesgo_IRS:\n",
        "\n",
        "  def __init__(self):\n",
        "    self.posiciones = None\n",
        "    self.tasas_fijas = None\n",
        "    self.vencimientos = None\n",
        "    self.dias_bono = None\n",
        "    self.VaR = None\n",
        "    self.CVaR = None\n",
        "    self.alpha = None\n",
        "    self.summary = None\n",
        "    self.ordenado = None\n",
        "    self.alisado = None\n",
        "    self.precios = None\n",
        "    \n",
        "  def compute(self, fval, tasas_fijas, cupon_l, descuento_l,cupon_c,descuento_c,\\\n",
        "              vencimientos, dias_bono, posiciones, alpha,alisado =False):\n",
        "    \"\"\"\n",
        "    a\n",
        "    \"\"\"\n",
        "    calen_flotante_l = cupon_l.columns\n",
        "    calen_flotante_l = list(calen_flotante_l)\n",
        "    calen_flotante_l.remove('DATE')\n",
        "    calen_desc_l = descuento_l.columns\n",
        "    calen_desc_l = list(calen_desc_l)\n",
        "    calen_desc_l.remove('DATE')\n",
        "\n",
        "\n",
        "    calen_flotante_c = cupon_c.columns\n",
        "    calen_flotante_c = list(calen_flotante_c)\n",
        "    calen_flotante_c.remove('DATE')\n",
        "    calen_desc_c = descuento_c.columns\n",
        "    calen_desc_c = list(calen_desc_c)\n",
        "    calen_desc_c.remove('DATE')\n",
        "\n",
        "    \n",
        "    n_l = int(vencimientos[0]/dias_bono[0])\n",
        "    if n_l == (vencimientos[0]/dias_bono[0]):\n",
        "        plazos_l = [dias_bono[0]]*n_l\n",
        "        tau_l = plazos_l\n",
        "    else:\n",
        "        plazos_l = [vencimientos[0]-n_l*dias_bono[0]] + [dias_bono[0]]*(n_l-1)\n",
        "        tau_l = plazos_l\n",
        "\n",
        "    n_c = int(vencimientos[1]/dias_bono[1])\n",
        "    if n_c == (vencimientos[1]/dias_bono[1]):\n",
        "        plazos_c = [dias_bono[1]]*n_c\n",
        "        tau_c = plazos_c\n",
        "    else:\n",
        "        plazos_c = [vencimientos[1]-n_c*dias_bono[1]] + [dias_bono[1]]*(n_c-1)\n",
        "        tau_c = plazos_c\n",
        "\n",
        "\n",
        "\n",
        "    n_cupl = cupon_l.shape[1] - 1\n",
        "    n_descl = descuento_l.shape[1] - 1\n",
        "    n_cupc = cupon_c.shape[1] - 1\n",
        "    n_descc = descuento_c.shape[1] - 1\n",
        "\n",
        "    # \n",
        "    X = cupon_l.merge(descuento_l,how = 'inner',on = 'DATE')\n",
        "    X = X.merge(cupon_c,how = 'inner',on = 'DATE')\n",
        "    X = X.merge(descuento_c,how = 'inner',on = 'DATE')\n",
        "    X.set_index('DATE', inplace=True)\n",
        "    X0 = X.head(1)\n",
        "    DeltaX = (X.shift(1)/X)-1\n",
        "    DeltaX.iloc[0,:] = 0\n",
        "    X_s = X0.values*(1+DeltaX)\n",
        "\n",
        "    Y_s = pd.DataFrame()\n",
        "\n",
        "    cup_l = X_s.iloc[:,:n_cupl]\n",
        "    desc_l = X_s.iloc[:,n_cupl:n_cupl+n_descl]\n",
        "    cup_c = X_s.iloc[:,n_cupl+n_descl:n_cupl+n_descl+n_cupc]\n",
        "    desc_c = X_s.iloc[:,n_cupl+n_descl+n_cupc:n_cupl+n_descl+n_cupc+n_descc]\n",
        "\n",
        "    # Largo\n",
        "    largo = []\n",
        "    for i in range(len(cup_l)):\n",
        "      fval_aux = cup_l.index[i]\n",
        "      flotante =  cup_l.iloc[i,:].values/100\n",
        "      flotante = list(flotante)\n",
        "      descuentos = desc_l.iloc[i,:].values/100\n",
        "      descuentos = list(descuentos)\n",
        "      calen_flotante_l_aux = [fval_aux + timedelta(int(i)) for i in calen_flotante_l]\n",
        "      calen_desc_l_aux = [fval_aux + timedelta(int(i)) for i in calen_desc_l]\n",
        "      irs = InterestRateSwap()\n",
        "      # fval vs fval_aux\n",
        "      irs.compute(fval_aux, posiciones[0], n_l,tasas_fijas[0] , flotante,calen_flotante_l_aux, descuentos, calen_desc_l_aux, plazos_l, tau_l)\n",
        "      largo.append(irs.precio)\n",
        "\n",
        "    # Corto\n",
        "    corto = []\n",
        "    for i in range(len(cup_c)):\n",
        "      fval_aux = cup_c.index[i]\n",
        "      flotante =  cup_c.iloc[i,:].values/100\n",
        "      flotante = list(flotante)\n",
        "      descuentos = desc_c.iloc[i,:].values/100\n",
        "      descuentos = list(descuentos)\n",
        "      calen_flotante_c_aux = [fval_aux + timedelta(int(i)) for i in calen_flotante_c]\n",
        "      calen_desc_c_aux = [fval_aux + timedelta(int(i)) for i in calen_desc_c]\n",
        "      irs = InterestRateSwap()\n",
        "      # fval vs fval_aux\n",
        "      irs.compute(fval_aux, posiciones[1], n_c, tasas_fijas[1] , flotante,calen_flotante_c_aux, descuentos, calen_desc_c_aux, plazos_c, tau_c)\n",
        "      corto.append(irs.precio)\n",
        "\n",
        "    Y_s['IRS_l'] = largo\n",
        "    Y_s['IRS_c'] = corto\n",
        "    #print(Y_s)\n",
        "    posiciones = pd.Series(posiciones,index = ['IRS_l','IRS_c'])\n",
        "    Y0 = Y_s.head(1)\n",
        "    Y0 = Y0.values[0]\n",
        "    self.precios = Y0\n",
        "    #print(Y0)\n",
        "    PL = (Y_s-Y0)*posiciones\n",
        "    PL['Total']=PL.sum(axis=1)\n",
        "    #print(PL)\n",
        "    VaR_C=[]\n",
        "\n",
        "    if alisado:\n",
        "      c = 1\n",
        "      PL.dropna(inplace = True)\n",
        "      #PL = PL.iloc[::-1]\n",
        "      PL[\"Esc_SA\"] = ExponentialWeighted(0.05,PL.shape[0])\n",
        "      col_aux = list(PL.columns)\n",
        "      col_aux.remove(\"Esc_SA\")\n",
        "      vector_VaR = [VaR_CA(PL.iloc[:,i],PL.Esc_SA,alpha) for i in range(PL.shape[1]-1)]\n",
        "      VaR = pd.Series(vector_VaR,index = col_aux)\n",
        "    else:\n",
        "      c = 0\n",
        "      VaR=PL.quantile(alpha, numeric_only=False)\n",
        "\n",
        "\n",
        "    for i in range(0,PL.shape[1]-c):\n",
        "      VC=CVaR(PL.iloc[:,i],VaR[i])\n",
        "      VaR_C.append(VC)\n",
        "    \n",
        "    self.summary = pd.DataFrame({\"VaR\":VaR})\n",
        "    self.summary['CVaR'] = VaR_C\n",
        "\n",
        "    self.posiciones = {'Largo':posiciones[0],'Corto':posiciones[1]}\n",
        "    self.tasas_fijas = {'Largo':tasas_fijas[0],'Corto':tasas_fijas[1]}\n",
        "    self.vencimientos = {'Largo':vencimientos[0],'Corto':vencimientos[1]}\n",
        "    self.dias_bono = {'Largo':dias_bono[0],'Corto':dias_bono[1]}\n",
        "    self.VaR = self.summary[['VaR']]\n",
        "    self.CVaR = self.summary[['CVaR']]\n",
        "    self.alpha = alpha\n",
        "    self.alisado = alisado\n",
        "    self.precios = Y0\n",
        "    return \n"
      ],
      "metadata": {
        "id": "psuUG41QXAO3"
      },
      "execution_count": 121,
      "outputs": []
    },
    {
      "cell_type": "code",
      "source": [
        "# SWAP para el caso con CUPÓN\n",
        "fval = datetime(2023,3,10) # Fecha de valoración: 10 de marzo de 2023\n",
        "tasas_fijas = [0.066,0.059]  # SWAP Largo tasa fija del 6.6% anual\n",
        "                             # Recibe tasa fija de 5.9%\n",
        "\n",
        "\n",
        "cupon_l = pd.read_csv(\"Tarea1-AdRF/tasa_DIRS_SW_OP.txt\", delimiter = \"\\t\")\n",
        "cupon_l = cupon_l.rename(columns = {'DATE ':'DATE'})\n",
        "cupon_l['DATE'] =cupon_l['DATE'].apply(lambda x: str(x))\n",
        "cupon_l['DATE'] = cupon_l['DATE'].apply(lambda x: datetime(int(x[:4]), int(x[4:6]), int(x[6:])))\n",
        "cupon_c  = cupon_l\n",
        "\n",
        "descuento_l = pd.read_csv(\"Tarea1-AdRF/tasa_TIIE_SW_OP.txt\", delimiter = \"\\t\")\n",
        "descuento_l = descuento_l.rename(columns = {'DATE ':'DATE'})\n",
        "descuento_l['DATE'] =descuento_l['DATE'].apply(lambda x: str(x))\n",
        "descuento_l['DATE'] = descuento_l['DATE'].apply(lambda x: datetime(int(x[:4]), int(x[4:6]), int(x[6:])))\n",
        "descuento_c = descuento_l\n",
        "\n",
        "\n",
        "vencimientos = [588,270] # Un SWAP vence en 588 días y el otro en 270 días\n",
        "dias_bono = [28,28]      # Días del bono\n",
        "posiciones  = [16000000, -12000000] # Valor del nocional por cada SWAP\n",
        "alpha = 0.98"
      ],
      "metadata": {
        "id": "ajjn6birrEa4"
      },
      "execution_count": 129,
      "outputs": []
    },
    {
      "cell_type": "code",
      "source": [
        "miIRS= Riesgo_IRS()"
      ],
      "metadata": {
        "id": "G6DTia1UbbtF"
      },
      "execution_count": 130,
      "outputs": []
    },
    {
      "cell_type": "markdown",
      "source": [
        "## Sin Alisado"
      ],
      "metadata": {
        "id": "5WwBufb8bewz"
      }
    },
    {
      "cell_type": "code",
      "source": [
        "miIRS.compute(fval, tasas_fijas, cupon_l, descuento_l,cupon_c,descuento_c,\\\n",
        "              vencimientos, dias_bono, posiciones, alpha,False)"
      ],
      "metadata": {
        "id": "3dWWgs1Sbg1O"
      },
      "execution_count": null,
      "outputs": []
    },
    {
      "cell_type": "code",
      "source": [
        "miIRS.summary"
      ],
      "metadata": {
        "id": "_dNX-Djibn84",
        "colab": {
          "base_uri": "https://localhost:8080/",
          "height": 143
        },
        "outputId": "d5e1943e-2125-4441-e6b6-339e46796296"
      },
      "execution_count": 132,
      "outputs": [
        {
          "output_type": "execute_result",
          "data": {
            "text/plain": [
              "                VaR          CVaR\n",
              "IRS_l  3.061388e+11  5.126185e+11\n",
              "IRS_c  7.601928e+10  1.208232e+11\n",
              "Total  3.283307e+11  5.712966e+11"
            ],
            "text/html": [
              "\n",
              "  <div id=\"df-ff8271e9-8db5-4f44-becf-c1d428d5524f\">\n",
              "    <div class=\"colab-df-container\">\n",
              "      <div>\n",
              "<style scoped>\n",
              "    .dataframe tbody tr th:only-of-type {\n",
              "        vertical-align: middle;\n",
              "    }\n",
              "\n",
              "    .dataframe tbody tr th {\n",
              "        vertical-align: top;\n",
              "    }\n",
              "\n",
              "    .dataframe thead th {\n",
              "        text-align: right;\n",
              "    }\n",
              "</style>\n",
              "<table border=\"1\" class=\"dataframe\">\n",
              "  <thead>\n",
              "    <tr style=\"text-align: right;\">\n",
              "      <th></th>\n",
              "      <th>VaR</th>\n",
              "      <th>CVaR</th>\n",
              "    </tr>\n",
              "  </thead>\n",
              "  <tbody>\n",
              "    <tr>\n",
              "      <th>IRS_l</th>\n",
              "      <td>3.061388e+11</td>\n",
              "      <td>5.126185e+11</td>\n",
              "    </tr>\n",
              "    <tr>\n",
              "      <th>IRS_c</th>\n",
              "      <td>7.601928e+10</td>\n",
              "      <td>1.208232e+11</td>\n",
              "    </tr>\n",
              "    <tr>\n",
              "      <th>Total</th>\n",
              "      <td>3.283307e+11</td>\n",
              "      <td>5.712966e+11</td>\n",
              "    </tr>\n",
              "  </tbody>\n",
              "</table>\n",
              "</div>\n",
              "      <button class=\"colab-df-convert\" onclick=\"convertToInteractive('df-ff8271e9-8db5-4f44-becf-c1d428d5524f')\"\n",
              "              title=\"Convert this dataframe to an interactive table.\"\n",
              "              style=\"display:none;\">\n",
              "        \n",
              "  <svg xmlns=\"http://www.w3.org/2000/svg\" height=\"24px\"viewBox=\"0 0 24 24\"\n",
              "       width=\"24px\">\n",
              "    <path d=\"M0 0h24v24H0V0z\" fill=\"none\"/>\n",
              "    <path d=\"M18.56 5.44l.94 2.06.94-2.06 2.06-.94-2.06-.94-.94-2.06-.94 2.06-2.06.94zm-11 1L8.5 8.5l.94-2.06 2.06-.94-2.06-.94L8.5 2.5l-.94 2.06-2.06.94zm10 10l.94 2.06.94-2.06 2.06-.94-2.06-.94-.94-2.06-.94 2.06-2.06.94z\"/><path d=\"M17.41 7.96l-1.37-1.37c-.4-.4-.92-.59-1.43-.59-.52 0-1.04.2-1.43.59L10.3 9.45l-7.72 7.72c-.78.78-.78 2.05 0 2.83L4 21.41c.39.39.9.59 1.41.59.51 0 1.02-.2 1.41-.59l7.78-7.78 2.81-2.81c.8-.78.8-2.07 0-2.86zM5.41 20L4 18.59l7.72-7.72 1.47 1.35L5.41 20z\"/>\n",
              "  </svg>\n",
              "      </button>\n",
              "      \n",
              "  <style>\n",
              "    .colab-df-container {\n",
              "      display:flex;\n",
              "      flex-wrap:wrap;\n",
              "      gap: 12px;\n",
              "    }\n",
              "\n",
              "    .colab-df-convert {\n",
              "      background-color: #E8F0FE;\n",
              "      border: none;\n",
              "      border-radius: 50%;\n",
              "      cursor: pointer;\n",
              "      display: none;\n",
              "      fill: #1967D2;\n",
              "      height: 32px;\n",
              "      padding: 0 0 0 0;\n",
              "      width: 32px;\n",
              "    }\n",
              "\n",
              "    .colab-df-convert:hover {\n",
              "      background-color: #E2EBFA;\n",
              "      box-shadow: 0px 1px 2px rgba(60, 64, 67, 0.3), 0px 1px 3px 1px rgba(60, 64, 67, 0.15);\n",
              "      fill: #174EA6;\n",
              "    }\n",
              "\n",
              "    [theme=dark] .colab-df-convert {\n",
              "      background-color: #3B4455;\n",
              "      fill: #D2E3FC;\n",
              "    }\n",
              "\n",
              "    [theme=dark] .colab-df-convert:hover {\n",
              "      background-color: #434B5C;\n",
              "      box-shadow: 0px 1px 3px 1px rgba(0, 0, 0, 0.15);\n",
              "      filter: drop-shadow(0px 1px 2px rgba(0, 0, 0, 0.3));\n",
              "      fill: #FFFFFF;\n",
              "    }\n",
              "  </style>\n",
              "\n",
              "      <script>\n",
              "        const buttonEl =\n",
              "          document.querySelector('#df-ff8271e9-8db5-4f44-becf-c1d428d5524f button.colab-df-convert');\n",
              "        buttonEl.style.display =\n",
              "          google.colab.kernel.accessAllowed ? 'block' : 'none';\n",
              "\n",
              "        async function convertToInteractive(key) {\n",
              "          const element = document.querySelector('#df-ff8271e9-8db5-4f44-becf-c1d428d5524f');\n",
              "          const dataTable =\n",
              "            await google.colab.kernel.invokeFunction('convertToInteractive',\n",
              "                                                     [key], {});\n",
              "          if (!dataTable) return;\n",
              "\n",
              "          const docLinkHtml = 'Like what you see? Visit the ' +\n",
              "            '<a target=\"_blank\" href=https://colab.research.google.com/notebooks/data_table.ipynb>data table notebook</a>'\n",
              "            + ' to learn more about interactive tables.';\n",
              "          element.innerHTML = '';\n",
              "          dataTable['output_type'] = 'display_data';\n",
              "          await google.colab.output.renderOutput(dataTable, element);\n",
              "          const docLink = document.createElement('div');\n",
              "          docLink.innerHTML = docLinkHtml;\n",
              "          element.appendChild(docLink);\n",
              "        }\n",
              "      </script>\n",
              "    </div>\n",
              "  </div>\n",
              "  "
            ]
          },
          "metadata": {},
          "execution_count": 132
        }
      ]
    },
    {
      "cell_type": "markdown",
      "source": [
        "## Con Alisado"
      ],
      "metadata": {
        "id": "moxIbLZZcl5g"
      }
    },
    {
      "cell_type": "code",
      "source": [
        "miIRS.compute(fval, tasas_fijas, cupon_l, descuento_l,cupon_c,descuento_c,\\\n",
        "              vencimientos, dias_bono, posiciones, alpha,True)"
      ],
      "metadata": {
        "id": "Bf1xez6HcneG"
      },
      "execution_count": null,
      "outputs": []
    },
    {
      "cell_type": "code",
      "source": [
        "miIRS.summary"
      ],
      "metadata": {
        "id": "TswPcZe3ct5p",
        "colab": {
          "base_uri": "https://localhost:8080/",
          "height": 143
        },
        "outputId": "555dcb47-3333-4f12-86d1-fbf4cfd0fca4"
      },
      "execution_count": 134,
      "outputs": [
        {
          "output_type": "execute_result",
          "data": {
            "text/plain": [
              "                VaR          CVaR\n",
              "IRS_l  1.970513e+11  3.036477e+11\n",
              "IRS_c  4.490584e+10  7.785653e+10\n",
              "Total  2.102452e+11  3.391953e+11"
            ],
            "text/html": [
              "\n",
              "  <div id=\"df-bb41b27f-55cc-4e44-b89e-389b5a834d46\">\n",
              "    <div class=\"colab-df-container\">\n",
              "      <div>\n",
              "<style scoped>\n",
              "    .dataframe tbody tr th:only-of-type {\n",
              "        vertical-align: middle;\n",
              "    }\n",
              "\n",
              "    .dataframe tbody tr th {\n",
              "        vertical-align: top;\n",
              "    }\n",
              "\n",
              "    .dataframe thead th {\n",
              "        text-align: right;\n",
              "    }\n",
              "</style>\n",
              "<table border=\"1\" class=\"dataframe\">\n",
              "  <thead>\n",
              "    <tr style=\"text-align: right;\">\n",
              "      <th></th>\n",
              "      <th>VaR</th>\n",
              "      <th>CVaR</th>\n",
              "    </tr>\n",
              "  </thead>\n",
              "  <tbody>\n",
              "    <tr>\n",
              "      <th>IRS_l</th>\n",
              "      <td>1.970513e+11</td>\n",
              "      <td>3.036477e+11</td>\n",
              "    </tr>\n",
              "    <tr>\n",
              "      <th>IRS_c</th>\n",
              "      <td>4.490584e+10</td>\n",
              "      <td>7.785653e+10</td>\n",
              "    </tr>\n",
              "    <tr>\n",
              "      <th>Total</th>\n",
              "      <td>2.102452e+11</td>\n",
              "      <td>3.391953e+11</td>\n",
              "    </tr>\n",
              "  </tbody>\n",
              "</table>\n",
              "</div>\n",
              "      <button class=\"colab-df-convert\" onclick=\"convertToInteractive('df-bb41b27f-55cc-4e44-b89e-389b5a834d46')\"\n",
              "              title=\"Convert this dataframe to an interactive table.\"\n",
              "              style=\"display:none;\">\n",
              "        \n",
              "  <svg xmlns=\"http://www.w3.org/2000/svg\" height=\"24px\"viewBox=\"0 0 24 24\"\n",
              "       width=\"24px\">\n",
              "    <path d=\"M0 0h24v24H0V0z\" fill=\"none\"/>\n",
              "    <path d=\"M18.56 5.44l.94 2.06.94-2.06 2.06-.94-2.06-.94-.94-2.06-.94 2.06-2.06.94zm-11 1L8.5 8.5l.94-2.06 2.06-.94-2.06-.94L8.5 2.5l-.94 2.06-2.06.94zm10 10l.94 2.06.94-2.06 2.06-.94-2.06-.94-.94-2.06-.94 2.06-2.06.94z\"/><path d=\"M17.41 7.96l-1.37-1.37c-.4-.4-.92-.59-1.43-.59-.52 0-1.04.2-1.43.59L10.3 9.45l-7.72 7.72c-.78.78-.78 2.05 0 2.83L4 21.41c.39.39.9.59 1.41.59.51 0 1.02-.2 1.41-.59l7.78-7.78 2.81-2.81c.8-.78.8-2.07 0-2.86zM5.41 20L4 18.59l7.72-7.72 1.47 1.35L5.41 20z\"/>\n",
              "  </svg>\n",
              "      </button>\n",
              "      \n",
              "  <style>\n",
              "    .colab-df-container {\n",
              "      display:flex;\n",
              "      flex-wrap:wrap;\n",
              "      gap: 12px;\n",
              "    }\n",
              "\n",
              "    .colab-df-convert {\n",
              "      background-color: #E8F0FE;\n",
              "      border: none;\n",
              "      border-radius: 50%;\n",
              "      cursor: pointer;\n",
              "      display: none;\n",
              "      fill: #1967D2;\n",
              "      height: 32px;\n",
              "      padding: 0 0 0 0;\n",
              "      width: 32px;\n",
              "    }\n",
              "\n",
              "    .colab-df-convert:hover {\n",
              "      background-color: #E2EBFA;\n",
              "      box-shadow: 0px 1px 2px rgba(60, 64, 67, 0.3), 0px 1px 3px 1px rgba(60, 64, 67, 0.15);\n",
              "      fill: #174EA6;\n",
              "    }\n",
              "\n",
              "    [theme=dark] .colab-df-convert {\n",
              "      background-color: #3B4455;\n",
              "      fill: #D2E3FC;\n",
              "    }\n",
              "\n",
              "    [theme=dark] .colab-df-convert:hover {\n",
              "      background-color: #434B5C;\n",
              "      box-shadow: 0px 1px 3px 1px rgba(0, 0, 0, 0.15);\n",
              "      filter: drop-shadow(0px 1px 2px rgba(0, 0, 0, 0.3));\n",
              "      fill: #FFFFFF;\n",
              "    }\n",
              "  </style>\n",
              "\n",
              "      <script>\n",
              "        const buttonEl =\n",
              "          document.querySelector('#df-bb41b27f-55cc-4e44-b89e-389b5a834d46 button.colab-df-convert');\n",
              "        buttonEl.style.display =\n",
              "          google.colab.kernel.accessAllowed ? 'block' : 'none';\n",
              "\n",
              "        async function convertToInteractive(key) {\n",
              "          const element = document.querySelector('#df-bb41b27f-55cc-4e44-b89e-389b5a834d46');\n",
              "          const dataTable =\n",
              "            await google.colab.kernel.invokeFunction('convertToInteractive',\n",
              "                                                     [key], {});\n",
              "          if (!dataTable) return;\n",
              "\n",
              "          const docLinkHtml = 'Like what you see? Visit the ' +\n",
              "            '<a target=\"_blank\" href=https://colab.research.google.com/notebooks/data_table.ipynb>data table notebook</a>'\n",
              "            + ' to learn more about interactive tables.';\n",
              "          element.innerHTML = '';\n",
              "          dataTable['output_type'] = 'display_data';\n",
              "          await google.colab.output.renderOutput(dataTable, element);\n",
              "          const docLink = document.createElement('div');\n",
              "          docLink.innerHTML = docLinkHtml;\n",
              "          element.appendChild(docLink);\n",
              "        }\n",
              "      </script>\n",
              "    </div>\n",
              "  </div>\n",
              "  "
            ]
          },
          "metadata": {},
          "execution_count": 134
        }
      ]
    },
    {
      "cell_type": "markdown",
      "source": [
        "Obtenemos el valor de las posiciones."
      ],
      "metadata": {
        "id": "Ds0G8DGA-5yH"
      }
    },
    {
      "cell_type": "code",
      "source": [
        "print(miIRS.posiciones)\n",
        "print(miIRS.tasas_fijas)\n",
        "print(miIRS.vencimientos)\n",
        "print(miIRS.dias_bono)\n",
        "print(miIRS.precios)"
      ],
      "metadata": {
        "colab": {
          "base_uri": "https://localhost:8080/"
        },
        "id": "YBufxc_69S7Z",
        "outputId": "bf17a76e-1acd-471b-dc42-af66a172d721"
      },
      "execution_count": 138,
      "outputs": [
        {
          "output_type": "stream",
          "name": "stdout",
          "text": [
            "{'Largo': 16000000, 'Corto': -12000000}\n",
            "{'Largo': 0.066, 'Corto': 0.059}\n",
            "{'Largo': 588, 'Corto': 270}\n",
            "{'Largo': 28, 'Corto': 28}\n",
            "[ 281990.62710715 -173029.84047835]\n"
          ]
        }
      ]
    },
    {
      "cell_type": "markdown",
      "source": [
        "# Opciones"
      ],
      "metadata": {
        "id": "eX3KR4pZ_E3J"
      }
    },
    {
      "cell_type": "markdown",
      "source": [
        "Dos opciones europeas, una de tasa de interés larga call con strike de 5.8 % vencimiento de 1700 días 1000\n",
        "contratos, y otra put larga de tasa de interés con strike de 6.0 % de la tiie nocional de 500 contratos vencimiento 700 días. (se valuará basado en las superficies de volatilidad si es in o out the money y en las curvas de tasa de interés TIIE o Pagarés)."
      ],
      "metadata": {
        "id": "nyrw_-uF_KLe"
      }
    },
    {
      "cell_type": "code",
      "source": [
        "%%R\n",
        "#require(quantmod)\n",
        "install.packages(\"quantmod\")\n",
        "library(quantmod)\n",
        "# require(data.table)\n",
        "install.packages(\"data.table\")\n",
        "library(data.table)\n",
        "\n",
        "install.packages(\"Deriv\")\n",
        "library(Deriv)\n",
        "\n",
        "\n",
        "library(dplyr)\n",
        "con = gzcon(url('https://github.com/systematicinvestor/SIT/raw/master/sit.gz', 'rb'))\n",
        "source(con)\n",
        "close(con)"
      ],
      "metadata": {
        "id": "ofoz0mLKBpf8"
      },
      "execution_count": null,
      "outputs": []
    },
    {
      "cell_type": "code",
      "source": [
        "%%R\n",
        "#FUNCIÓN DE INTERPOLACIÓN ALAMBRADA\n",
        "\n",
        "talamb=function(nodos,curva,plazos) #función de interpolación de tasas por el método alamabrada\n",
        "{\n",
        "  n=max(ncol(plazos),1)\n",
        "  m=max(ncol(nodos),1)\n",
        "  TC=matrix(0,1,n)\n",
        "  TL=matrix(0,1,n)\n",
        "  TF=matrix(0,1,n)\n",
        "  for (j in 1:n)\n",
        "  {\n",
        "    i=1\n",
        "    repeat\n",
        "    {\n",
        "      if(nodos[i]<= plazos[j] && plazos[j] <=nodos[i+1])\n",
        "      {\n",
        "        TC[j]=curva[i]\n",
        "        TL[j]=curva[i+1]\n",
        "        TF[j]=((((1+TL[j]*nodos[i+1]/360)/(1+TC[j]*nodos[i]/360))^((plazos[j]-nodos[i])/(nodos[i+1]-nodos[i]))*(1+TC[j]*nodos[i]/360))-1)*360/plazos[j]\n",
        "        break\n",
        "      }\n",
        "      else if (plazos[j]<nodos[1])\n",
        "      {\n",
        "        TC[j]=curva[1]\n",
        "        TL[j]=curva[1]\n",
        "        TF[j]=curva[1]\n",
        "        break\n",
        "      }\n",
        "      else if (plazos[j]>nodos[m])\n",
        "      {\n",
        "        TC[j]=curva[m]\n",
        "        TL[j]=curva[m]\n",
        "        TF[j]=curva[m]\n",
        "        break\n",
        "      }\n",
        "      else\n",
        "      {i=i+1}\n",
        "    }\n",
        "  }\n",
        "  as.matrix(t(as.numeric(rbind(TF))))\n",
        "}\n",
        "\n",
        "#funciones necesarias\n",
        "diagv=function(x)\t\t\t#función para diagonalizar un vector\n",
        "{\n",
        "  n01=nrow(as.matrix(x))\n",
        "  m01=ncol(as.matrix(x))\n",
        "  dimmax=max(n01,m01)\n",
        "  res=matrix(0,dimmax,dimmax)\n",
        "  for (i in 1:dimmax)\n",
        "  {\n",
        "    res[i,i]=x[i]\n",
        "  }\n",
        "  res\n",
        "}\n",
        "\n",
        "\n",
        "diagm=function(x)\t\t#función para diagonalizar una matriz en una de mayor dimensión\n",
        "{\n",
        "  n01=nrow(as.matrix(x))\n",
        "  m01=ncol(as.matrix(x))\n",
        "  if(m01>=n01 )\n",
        "  {\n",
        "    res=matrix(0,m01,m01)\n",
        "    for (i in 1:(m01/n01))\n",
        "    {\n",
        "      z=(i-1)*n01\n",
        "      for(j in 1:n01)\n",
        "      {\n",
        "        for(k in 1:n01)\n",
        "        {\n",
        "          res[z+k,z+j]=x[k,z+j]\n",
        "        }\n",
        "      }\n",
        "    }\n",
        "    res\n",
        "  }\n",
        "  else\n",
        "  {\n",
        "    \"no es matriz cuadrada\"\n",
        "  }\n",
        "}\n",
        "\n",
        "#Función de cuantil más cercano\n",
        "equantile <- function(v,p=.5,ns=nrow(as.matrix(v))) \n",
        "{ \n",
        "  if ( !is.numeric(p) || any( p<0 | p>1) ) \n",
        "    stop(\"Percentil tiene que ser 0<=p<=1\") \n",
        "  ranking <- order(v) \n",
        "  vw=matrix(0,ns,1)\n",
        "  vw[1:ns]=seq(1/ns,ns)  \n",
        "  sumw <- cumsum(vw[ranking]) \n",
        "  plist <- sumw / sumw[ length(sumw) ] \n",
        "  v [ ranking [ which.max( plist >= p ) ] ]  \n",
        "} "
      ],
      "metadata": {
        "id": "YLBxEph6CapK"
      },
      "execution_count": 140,
      "outputs": []
    },
    {
      "cell_type": "code",
      "source": [
        "%%R\n",
        "\n",
        "#MEDIDAS DE RIESGO CON ALISADO\n",
        "\n",
        "#VaR con alisado\n",
        "wquantile <- function(v,w=rep(1,length(v)),p=.5) \n",
        "{ \n",
        "  if ( !is.numeric(w) || length(v) != length(w) ) \n",
        "    stop(\"Los valores y los pesos tienen que tener misma longitud\") \n",
        "  if ( !is.numeric(p) || any( p<0 | p>1) ) \n",
        "    stop(\"Percentil tiene que ser 0<=p<=1\") \n",
        "  if ( min(w) < 0 ) stop(\"Los pesos tiene que ser mayores que 0\") \n",
        "  ranking <- order(v) \n",
        "  sumw <- cumsum(w[ranking]) \n",
        "  plist <- sumw / sumw[ length(sumw) ] \n",
        "  v [ ranking [ which.max( plist >= p ) ] ]  \n",
        "} \n",
        "\n",
        "#CVaR con alisado\n",
        "wcvar <- function(v,w=rep(1,length(v)),p=.5) \n",
        "{ \n",
        "  if ( !is.numeric(w) || length(v) != length(w) ) \n",
        "    stop(\"Los valores y los pesos tienen que tener misma longitud\") \n",
        "  if ( !is.numeric(p) || any( p<0 | p>1) ) \n",
        "    stop(\"Percentil tiene que ser 0<=p<=1\") \n",
        "  if ( min(w) < 0 ) stop(\"Los pesos tiene que ser mayores que 0\") \n",
        "  ranking <- order(v) \n",
        "  sumw <- cumsum(w[ranking]) \n",
        "  plist <- sumw / sumw[ length(sumw) ] \n",
        "  loss= v [ ranking [ which( plist <= p ) ] ]  \n",
        "  esc=w [ ranking [ which( plist <= p ) ] ]  \n",
        "  sum(loss*esc)/(sum(esc))\n",
        "} \n"
      ],
      "metadata": {
        "id": "mdnrLvaACf6m"
      },
      "execution_count": 141,
      "outputs": []
    },
    {
      "cell_type": "code",
      "source": [
        "# Definción de parámetros para valorar:\n",
        "\n",
        "%%R\n",
        "fval=as.Date(\"20230310\",format=\"%Y%m%d\") #Fecha de valoración\n",
        "itpl=0 #poner 0 si se quiere interpolación lineal o 1 si se quiere tasa alambrada\n",
        "alpha=0.98 #Nivel de confianza para obtener estimaciones de riesgo\n",
        "nh=3660 #número de días de historia\n",
        "#yext=1 #si se usa la historia de internet o fija\n",
        "\n",
        "btasadesc_oir=\"Tarea1-AdRF/tasa_TIIE_SW_OP.txt\"\n",
        "btasaspot_oir=\"Tarea1-AdRF/tasa_DIRS_SW_OP.txt\"\n",
        "bvolspot_oir=\"Tarea1-AdRF/tvoltiie_opc.txt\"\n",
        "plazos_oir=cbind(1700, 700) #T-t\n",
        "pr_oir=28 #plazo de referencia\n",
        "dct_oir=360 #d_base\n",
        "cp_oir=cbind(1,0) #si es call (cap) o put (floor)\n",
        "K_oir=cbind( 0.058, 0.06)\n",
        "contratos_oir=cbind(1000, 500)\n",
        "nominal_oir=1 \n",
        "cs_oir=1 #1 si es continua la tasa 0 si es simple"
      ],
      "metadata": {
        "id": "pmXQ1EwoCmH3"
      },
      "execution_count": 142,
      "outputs": []
    },
    {
      "cell_type": "code",
      "source": [
        "%%R\n",
        "\n",
        "#CARGA DE DATOS PARA OPCIONES DE TASA DE INTERÉS\n",
        "  #carga de datos\n",
        "  #carga de rho\t\n",
        "  data1<-read.table(btasadesc_oir) \n",
        "  n<-nrow(data1)\n",
        "  m1_orig_oir=ncol(data1)\n",
        "  x1_orig_oir=data.table(mutate(data1[2:n,1:m1_orig_oir],Date=as.Date(V1,format=\"%Y%m%d\")))\n",
        "  x1_orig_oir=x1_orig_oir%>%select(-V1)\n",
        "  nodos1_oir=data.frame(data1[1,2:m1_orig_oir])\n",
        "  \n",
        "  #data1[1:3,]\n",
        "  #carga de tasas spot\n",
        "  data2<-read.table(btasaspot_oir)\n",
        "  n<-nrow(data2)\n",
        "  m2_orig_oir=ncol(data2)\n",
        "  x2_orig_oir=data.table(mutate(data2[2:n,1:m2_orig_oir],Date=as.Date(V1,format=\"%Y%m%d\")))\n",
        "  x2_orig_oir=x2_orig_oir%>%select(-V1)\n",
        "  nodos2_oir=data.frame(data2[1,2:m2_orig_oir])\n",
        "  #carga de volatilidades de spot\n",
        "  data3<-read.table(bvolspot_oir)\n",
        "  n<-nrow(data3)\n",
        "  m3_orig_oir=ncol(data3)\n",
        "  x3_orig_oir=data.table(mutate(data3[2:n,1:m3_orig_oir],Date=as.Date(V1,format=\"%Y%m%d\")))\n",
        "  x3_orig_oir=x3_orig_oir%>%select(-V1)\n",
        "  \n",
        "  nodos3_oir=data.frame(data3[1,2:m3_orig_oir])"
      ],
      "metadata": {
        "id": "EqmNWYGFC5A3"
      },
      "execution_count": 143,
      "outputs": []
    },
    {
      "cell_type": "code",
      "source": [
        "%%R\n",
        "#INTERSECCIÓN DE FECHAS DE LAS OPCIONES    \n",
        "  \n",
        "lin_gub_bmybdst_flibfwdspind_swcupvp_oirsvp=data.table(Date=as.Date(x1_orig_oir[x2_orig_oir,on=.(Date),nomatch=0]$Date)) #Fechas acciones, equity, guber, st (bonde), libor, fwd, spot, equity or index, swap cupón, opciones ir spot, opc ir vp\n",
        "lin_gub_bmybdst_flibfwdspind_swcupvp_oirsvpvol=data.table(Date=as.Date(lin_gub_bmybdst_flibfwdspind_swcupvp_oirsvp[x3_orig_oir,on=.(Date),nomatch=0]$Date)) #Fechas acciones, equity, guber, st (bonde), libor, fwd, spot, equity or index, swap cupón, opciones ir spot, opc ir vp, opc ir vol\n"
      ],
      "metadata": {
        "id": "nVMZ18KsEqGj"
      },
      "execution_count": 144,
      "outputs": []
    },
    {
      "cell_type": "code",
      "source": [
        "%%R\n",
        "head(lin_gub_bmybdst_flibfwdspind_swcupvp_oirsvp)\n",
        "head(lin_gub_bmybdst_flibfwdspind_swcupvp_oirsvpvol)\n"
      ],
      "metadata": {
        "colab": {
          "base_uri": "https://localhost:8080/"
        },
        "id": "j4Nc1bL4EtNu",
        "outputId": "23f49b2a-5554-407f-fa35-ff0e3d79db4a"
      },
      "execution_count": 145,
      "outputs": [
        {
          "output_type": "stream",
          "name": "stdout",
          "text": [
            "         Date\n",
            "1: 2023-02-28\n",
            "2: 2023-02-27\n",
            "3: 2023-02-24\n",
            "4: 2023-02-23\n",
            "5: 2023-02-22\n",
            "6: 2023-02-21\n"
          ]
        }
      ]
    },
    {
      "cell_type": "code",
      "source": [
        "%%R\n",
        "n=nrow(lin_gub_bmybdst_flibfwdspind_swcupvp_oirsvpvol) #Historia de todos\n",
        "\n",
        "#historia de opciones\n",
        "x1_orig_oir=lin_gub_bmybdst_flibfwdspind_swcupvp_oirsvpvol[x1_orig_oir,on=.(Date),nomatch=0][order(-Date)]\n",
        "x1_orig_oir=x1_orig_oir%>%select(-Date)/100\n",
        "x2_orig_oir=lin_gub_bmybdst_flibfwdspind_swcupvp_oirsvpvol[x2_orig_oir,on=.(Date),nomatch=0][order(-Date)]\n",
        "x2_orig_oir=x2_orig_oir%>%select(-Date)/100\n",
        "x3_orig_oir=lin_gub_bmybdst_flibfwdspind_swcupvp_oirsvpvol[x3_orig_oir,on=.(Date),nomatch=0][order(-Date)]\n",
        "x3_orig_oir=x3_orig_oir%>%select(-Date)"
      ],
      "metadata": {
        "id": "IUnkJLYwEz4Y"
      },
      "execution_count": 146,
      "outputs": []
    },
    {
      "cell_type": "code",
      "source": [
        "%%R\n",
        "\n",
        "\n",
        "##opciones de tasa de interés, con inicio el día de la valuación CÁLCULO\n",
        "#Posición inicial\n",
        "\n",
        "#interpolación de tasas y volatilidades\n",
        "m=ncol(plazos_oir)\n",
        "x1=matrix(0,n,m)\n",
        "x2tc=matrix(0,n,m)\n",
        "x2tl=matrix(0,n,m)\n",
        "x2=matrix(0,n,m)\n",
        "x3=matrix(0,n,m)\n",
        "for (i in 1:(n))\n",
        "{\n",
        "  x1[i,]=if(itpl==0){approx(nodos1_oir,x1_orig_oir[i,],plazos_oir,rule=2)$y}else{talamb(nodos1_oir,x1_orig_oir[i,],plazos_oir)}\n",
        "  x2tc[i,]=if(itpl==0){approx(nodos2_oir,x2_orig_oir[i,],plazos_oir,rule=2)$y}else{talamb(nodos2_oir,x2_orig_oir[i,],plazos_oir)}\n",
        "  x2tl[i,]=if(itpl==0){approx(nodos2_oir,x2_orig_oir[i,],(plazos_oir+pr_oir),rule=2)$y}else{talamb(nodos2_oir,x2_orig_oir[i,],(plazos_oir+pr_oir))}\n",
        "  x3[i,]=if(itpl==0){approx(nodos3_oir,x3_orig_oir[i,],plazos_oir,rule=2)$y}else{talamb(nodos3_oir,x3_orig_oir[i,],plazos_oir)}\n",
        "  x2[i,]=((1+x2tl[i,]*(plazos_oir+pr_oir)/360)/(1+x2tc[i,]*(plazos_oir)/360)-1)*360/pr_oir\n",
        "}\n",
        "\n",
        "#Se toma la primera fila de las tasas, ie la tasa más actual para calcular la valoracion\n",
        "x01=x1[1,] #tasas de descuento\n",
        "x02=x2[1,] #tasas spot\n",
        "x03=x3[1,] #volatilidades\n",
        "\n",
        "X_oir=cbind(x1,x2,x3)\n",
        "\n",
        "opctint = function(d,S,K_oir,vol,t,cp_oir,cs_oir,pr_oir,dct_oir)\t#función de una opción europea\n",
        "{\n",
        "  d1=if(cs_oir==1){(log(S/K_oir)+vol^2*t/(365*2))*(1/(vol*sqrt(t/365)))}else{(log(S/K_oir)+vol^2*t/(360*2))*(1/(vol*sqrt(t/360)))}\n",
        "  d2=if(cs_oir==1){(log(S/K_oir)-vol^2*t/(365*2))*(1/(vol*sqrt(t/365)))}else{(log(S/K_oir)-vol^2*t/(360*2))*(1/(vol*sqrt(t/360)))}\n",
        "  vp=if(cs_oir==1){log(1+d*t/360)*365/t}else{d}  \n",
        "  (if(cs_oir==1){(S*pnorm(d1*(-1)^cp_oir)-K_oir*pnorm(d2*(-1)^cp_oir))*(exp(-vp*t/365))*(-1)^cp_oir}else{(S*pnorm(d1*(-1)^cp_oir)-K_oir*pnorm(d2*(-1)^cp_oir))*(1/(1+vp*t/360))*(-1)^cp_oir})*(pr_oir/dct_oir)/(1+S*pr_oir/dct_oir)\n",
        "}\n",
        "\n",
        "#Usa la funcion para valuar las opciones\n",
        "V0_oir=opctint(x01,x02,K_oir,x03,plazos_oir,cp_oir,cs_oir,pr_oir,dct_oir)*contratos_oir*nominal_oir #Valor del portafolio\n",
        "V0_oir\n"
      ],
      "metadata": {
        "colab": {
          "base_uri": "https://localhost:8080/"
        },
        "id": "zslVBeczE9LC",
        "outputId": "2a18d952-67f6-4e4b-d758-f5ade51b997f"
      },
      "execution_count": 147,
      "outputs": [
        {
          "output_type": "stream",
          "name": "stdout",
          "text": [
            "          [,1]      [,2]\n",
            "[1,] 0.7591073 0.4324731\n"
          ]
        }
      ]
    },
    {
      "cell_type": "code",
      "source": [
        "%%R\n",
        "#DIMENSION DE TODOS LOS INSTRUMENTOS\n",
        "n_if=matrix(0,1,1)\n",
        "n_if[1]=ncol(X_oir) #fwd tdc\n",
        "\n",
        "#valor del portafolio\n",
        "\n",
        "V0_port=cbind(V0_oir)\n",
        "V0T_port=sum(V0_port)\n",
        "\n",
        "\n",
        "#INTEGRACIÓN DE TODOS LOS FACTORES DE RIESGO EN UNA MATRIZ\n",
        "X_port=cbind(X_oir) #Factores de riesgo del portafolios de 2 opciones y 3 factores de riesgo\n",
        "\n",
        "#Tasas que nos interesan \n",
        "#print(head(X_port))\n",
        "\n",
        "\n",
        "#Cálculo de variaciones Delta_X DEL PORTAFOLIOS\n",
        "DeltaX_port=as.matrix(log(X_port[1:(n-1),]/X_port[2:(n),]))\n",
        "DeltaX_port[is.nan(DeltaX_port)] <- 0 #quitamos NaN\n",
        "DeltaX_port[is.na(DeltaX_port)] <- 0 #quitamos Na\n",
        "DeltaX_port[is.infinite(DeltaX_port)] <- 0 #quitamos Na\n",
        "\n",
        "Ns=nrow(DeltaX_port) #Definimos número de escenarios históricos\n",
        "DeltaX_s=DeltaX_port"
      ],
      "metadata": {
        "id": "9M-kKWeGN8MY"
      },
      "execution_count": 148,
      "outputs": []
    },
    {
      "cell_type": "markdown",
      "source": [
        "##  Sin Alisado"
      ],
      "metadata": {
        "id": "OH2zgpdDOGxv"
      }
    },
    {
      "cell_type": "code",
      "source": [
        "%%R\n",
        "m=ncol(plazos_oir) \n",
        "X_s_oir=matrix(0,Ns,n_if[1]) #Factores de riesgo simulados con base en DeltaX_s x0*(1+Delta_Xs) #PASO CLAVE\n",
        "V_oir=matrix(0,Ns,m)\n",
        "Vfr1_oir=matrix(0,Ns,m)\n",
        "Vfr2_oir=matrix(0,Ns,m)\n",
        "Vfr3_oir=matrix(0,Ns,m)\n",
        "PG_oir=matrix(0,Ns,m) #Pèrdidas y ganancias\n",
        "PGfr1_oir=matrix(0,Ns,m)\n",
        "PGfr2_oir=matrix(0,Ns,m)\n",
        "PGfr3_oir=matrix(0,Ns,m)\n",
        "PGT_oir=matrix(0,Ns,1)\n",
        "PGfr1T_oir=matrix(0,Ns,1)\n",
        "PGfr2T_oir=matrix(0,Ns,1)\n",
        "PGfr3T_oir=matrix(0,Ns,1)\n",
        "\n",
        "DeltaX_s_oir=DeltaX_s  \n",
        "x0_oir=X_oir[1,] \n",
        "\n",
        "for (i in 1:Ns)\n",
        "{\n",
        "  X_s_oir[i,]=x0_oir*exp(DeltaX_s_oir[i,])\n",
        "  #PASO CLAVE\n",
        "  V_oir[i,]=  opctint(X_s_oir[i,(1:(n_if[1]/3))],X_s_oir[i,((n_if[1]/3+1):(n_if[1]/3*2))],K_oir,X_s_oir[i,((n_if[1]*2/3+1):(n_if[1]))],plazos_oir,cp_oir,cs_oir,pr_oir,dct_oir)*contratos_oir*nominal_oir #Valor del portafolio  \n",
        "  #PASO CLAVE\n",
        "  Vfr1_oir[i,]=opctint(X_s_oir[i,(1:(n_if[1]/3))],x0_oir[((n_if[1]/3+1):(n_if[1]/3*2))],K_oir,x0_oir[((n_if[1]*2/3+1):(n_if[1]))],plazos_oir,cp_oir,cs_oir,pr_oir,dct_oir)*contratos_oir*nominal_oir #Valor del portafolio  \n",
        "  #PASO CLAVE\n",
        "  Vfr2_oir[i,]=opctint(x0_oir[(1:(n_if[1]/3))],X_s_oir[i,((n_if[1]/3+1):(n_if[1]/3*2))],K_oir,x0_oir[((n_if[1]*2/3+1):(n_if[1]))],plazos_oir,cp_oir,cs_oir,pr_oir,dct_oir)*contratos_oir*nominal_oir #Valor del portafolio  \n",
        "  #PASO CLAVE\n",
        "  Vfr3_oir[i,]=opctint(x0_oir[(1:(n_if[1]/3))],x0_oir[((n_if[1]/3+1):(n_if[1]/3*2))],K_oir,X_s_oir[i,((n_if[1]*2/3+1):(n_if[1]))],plazos_oir,cp_oir,cs_oir,pr_oir,dct_oir)*contratos_oir*nominal_oir #Valor del portafolio  \n",
        "  PG_oir[i,]=V_oir[i,]-V0_oir\n",
        "  PGfr1_oir[i,]=Vfr1_oir[i,]-V0_oir\n",
        "  PGfr2_oir[i,]=Vfr2_oir[i,]-V0_oir\n",
        "  PGfr3_oir[i,]=Vfr3_oir[i,]-V0_oir\n",
        "  PGT_oir[i,]=sum(PG_oir[i,])\n",
        "  PGfr1T_oir[i,]=sum(PGfr1_oir[i,])\n",
        "  PGfr2T_oir[i,]=sum(PGfr2_oir[i,])\n",
        "  PGfr3T_oir[i,]=sum(PGfr3_oir[i,])\n",
        "}\n",
        "\n",
        "\n",
        "\n",
        "#VaR por posición\n",
        "VaRCont_oir=matrix(0,1,m)\n",
        "VaRfr1_oir=matrix(0,1,m)\n",
        "VaRfr2_oir=matrix(0,1,m)\n",
        "VaRfr3_oir=matrix(0,1,m)\n",
        "CVaRCont_oir=matrix(0,1,m)\n",
        "CVaRfr1_oir=matrix(0,1,m)\n",
        "CVaRfr2_oir=matrix(0,1,m)\n",
        "CVaRfr3_oir=matrix(0,1,m)\n",
        "for (i in (1:m))\n",
        "{\n",
        "  VaRCont_oir[i]=equantile(PG_oir[,i],1-alpha,Ns)\n",
        "  VaRfr1_oir[i]=equantile(PGfr1_oir[,i],1-alpha,Ns)\n",
        "  VaRfr2_oir[i]=equantile(PGfr2_oir[,i],1-alpha,Ns)\n",
        "  VaRfr3_oir[i]=equantile(PGfr3_oir[,i],1-alpha,Ns)\n",
        "  CVaRfr1_oir[i]= mean(merge(which(PGfr1_oir[,i]<VaRfr1_oir[i]),cbind(seq(1,Ns),PGfr1_oir[,i]), by.x=1,by.y=1)[,2])\n",
        "  CVaRfr2_oir[i]= mean(merge(which(PGfr2_oir[,i]<VaRfr2_oir[i]),cbind(seq(1,Ns),PGfr2_oir[,i]), by.x=1,by.y=1)[,2])\n",
        "  CVaRfr3_oir[i]= mean(merge(which(PGfr3_oir[,i]<VaRfr3_oir[i]),cbind(seq(1,Ns),PGfr3_oir[,i]), by.x=1,by.y=1)[,2])\n",
        "  CVaRCont_oir[i]= mean(merge(which(PG_oir[,i]<VaRCont_oir[i]),cbind(seq(1,Ns),PG_oir[,i]), by.x=1,by.y=1)[,2])\n",
        "}\n",
        "\n",
        "\n",
        "#VaR Total\n",
        "VaRTotal_oir=equantile(PGT_oir,1-alpha,Ns)\n",
        "CVaRTotal_oir= mean(merge(which(PGT_oir<VaRTotal_oir),cbind(seq(1,Ns),PGT_oir), by.x=1,by.y=1)[,2])\n",
        "VaRTotalfr1_oir=equantile(PGfr1T_oir,1-alpha,Ns)\n",
        "CVaRTotalfr1_oir= mean(PGfr1T_oir[which(PGfr1T_oir<VaRTotalfr1_oir),])\n",
        "VaRTotalfr2_oir=equantile(PGfr2T_oir,1-alpha,Ns)\n",
        "CVaRTotalfr2_oir= mean(PGfr2T_oir[which(PGfr2T_oir<VaRTotalfr2_oir),])\n",
        "VaRTotalfr3_oir=equantile(PGfr3T_oir,1-alpha,Ns)\n",
        "CVaRTotalfr3_oir= mean(PGfr3T_oir[which(PGfr2T_oir<VaRTotalfr2_oir),])\n",
        "\n",
        "\n",
        "print(\"Valor del portafolio\")\n",
        "print(V0_oir)\n",
        "print(\"VaR por contrato\")\n",
        "print(VaRCont_oir)\n",
        "print(\"VaR por el factor de riesgo tasas de descuento por contrato\")\n",
        "print(VaRfr1_oir)\n",
        "print(\"VaR por el factor de riesgo tasas spot por contrato\")\n",
        "print(VaRfr2_oir)\n",
        "print(\"VaR por el factor de riesgo volatilidades por contrato\")\n",
        "print(VaRfr3_oir)\n",
        "print(\"VaR por el factor de riesgo tasas de descuento total\")\n",
        "print(VaRTotalfr1_oir)\n",
        "print(\"VaR por el factor de riesgo tasas spot 2 total\")\n",
        "print(VaRTotalfr2_oir)\n",
        "print(\"VaR por el factor de riesgo volatilidades total\")\n",
        "print(VaRTotalfr3_oir)\n",
        "print(\"VaR Total\")\n",
        "print(VaRTotal_oir)\n",
        "\n",
        "print(\"CVaR por contrato\")\n",
        "print(CVaRCont_oir)\n",
        "print(\"CVaR por el factor de riesgo tasas de descuento por contrato\")\n",
        "print(CVaRfr1_oir)\n",
        "print(\"CVaR por el factor de riesgo tasas spot por contrato\")\n",
        "print(CVaRfr2_oir)\n",
        "print(\"CVaR por el factor de riesgo volatilidades por contrato\")\n",
        "print(CVaRfr3_oir)\n",
        "print(\"CVaR por el factor de riesgo tasas de descuento total\")\n",
        "print(CVaRTotalfr1_oir)\n",
        "print(\"CVaR por el factor de riesgo tasas spot total\")\n",
        "print(CVaRTotalfr2_oir)\n",
        "print(\"CVaR por el factor de riesgo volatilidades total\")\n",
        "print(CVaRTotalfr3_oir)\n",
        "print(\"CVaR Total\")\n",
        "print(CVaRTotal_oir)\n"
      ],
      "metadata": {
        "colab": {
          "base_uri": "https://localhost:8080/"
        },
        "id": "xX803mIiOKSl",
        "outputId": "3d313c59-6abd-495a-9e36-b015c7c90a98"
      },
      "execution_count": 150,
      "outputs": [
        {
          "output_type": "stream",
          "name": "stdout",
          "text": [
            "[1] \"Valor del portafolio\"\n",
            "          [,1]      [,2]\n",
            "[1,] 0.7591073 0.4324731\n",
            "[1] \"VaR por contrato\"\n",
            "            [,1]        [,2]\n",
            "[1,] -0.06650712 -0.05306331\n",
            "[1] \"VaR por el factor de riesgo tasas de descuento por contrato\"\n",
            "             [,1]          [,2]\n",
            "[1,] -0.005392273 -0.0009158142\n",
            "[1] \"VaR por el factor de riesgo tasas spot por contrato\"\n",
            "            [,1]        [,2]\n",
            "[1,] -0.05332608 -0.04557009\n",
            "[1] \"VaR por el factor de riesgo volatilidades por contrato\"\n",
            "            [,1]        [,2]\n",
            "[1,] -0.03410272 -0.02882067\n",
            "[1] \"VaR por el factor de riesgo tasas de descuento total\"\n",
            "[1] -0.006410024\n",
            "[1] \"VaR por el factor de riesgo tasas spot 2 total\"\n",
            "[1] -0.06062326\n",
            "[1] \"VaR por el factor de riesgo volatilidades total\"\n",
            "[1] -0.05654009\n",
            "[1] \"VaR Total\"\n",
            "[1] -0.07728335\n",
            "[1] \"CVaR por contrato\"\n",
            "           [,1]        [,2]\n",
            "[1,] -0.1110112 -0.08302614\n",
            "[1] \"CVaR por el factor de riesgo tasas de descuento por contrato\"\n",
            "             [,1]         [,2]\n",
            "[1,] -0.005704847 -0.001742734\n",
            "[1] \"CVaR por el factor de riesgo tasas spot por contrato\"\n",
            "            [,1]        [,2]\n",
            "[1,] -0.06895449 -0.06741225\n",
            "[1] \"CVaR por el factor de riesgo volatilidades por contrato\"\n",
            "            [,1]       [,2]\n",
            "[1,] -0.09895649 -0.0557664\n",
            "[1] \"CVaR por el factor de riesgo tasas de descuento total\"\n",
            "[1] -0.006818362\n",
            "[1] \"CVaR por el factor de riesgo tasas spot total\"\n",
            "[1] -0.07660615\n",
            "[1] \"CVaR por el factor de riesgo volatilidades total\"\n",
            "[1] 0.02714812\n",
            "[1] \"CVaR Total\"\n",
            "[1] -0.1450146\n"
          ]
        }
      ]
    },
    {
      "cell_type": "markdown",
      "source": [
        "## Con Alisado"
      ],
      "metadata": {
        "id": "4rqEDynEOaDl"
      }
    },
    {
      "cell_type": "code",
      "source": [
        "%%R\n",
        "w0 <- 0.05\n",
        "lambda =uniroot(function(x) w0*(1-x^(n))/(1-x)-1, c(0,0.99), tol = 1e-28)$root\n",
        "\n",
        "\n",
        "#generamos la función que genera \"n\" escenarios con base en w0 y lambda\n",
        "genera_esc=function(lamda,w0,n)\n",
        "{\n",
        "  p_esc=matrix(0,n,1)\n",
        "  for (i in (1:n))\n",
        "  {\n",
        "    p_esc[i]=w0*lambda^(i-1)\n",
        "  }\n",
        "  p_esc\n",
        "}\n",
        "\n",
        "p_esc=genera_esc(lambda,w0,Ns)"
      ],
      "metadata": {
        "id": "co35_nyPOdFB"
      },
      "execution_count": 151,
      "outputs": []
    },
    {
      "cell_type": "code",
      "source": [
        "%%R\n",
        "m=ncol(plazos_oir)\n",
        "VaRCACont_oir=matrix(0,1,m)\n",
        "VaRCAfr1_oir=matrix(0,1,m)\n",
        "VaRCAfr2_oir=matrix(0,1,m)\n",
        "VaRCAfr3_oir=matrix(0,1,m)\n",
        "CVaRCACont_oir=matrix(0,1,m)\n",
        "CVaRCAfr1_oir=matrix(0,1,m)\n",
        "CVaRCAfr2_oir=matrix(0,1,m)\n",
        "CVaRCAfr3_oir=matrix(0,1,m)\n",
        "for (i in (1:m))\n",
        "{\n",
        "  VaRCACont_oir[i]=wquantile(PG_oir[,i],p_esc,1-alpha)\n",
        "  VaRCAfr1_oir[i]=wquantile(PGfr1_oir[,i],p_esc,1-alpha)\n",
        "  VaRCAfr2_oir[i]=wquantile(PGfr2_oir[,i],p_esc,1-alpha)\n",
        "  VaRCAfr3_oir[i]=wquantile(PGfr3_oir[,i],p_esc,1-alpha)\n",
        "  CVaRCAfr1_oir[i]= wcvar(PGfr1_oir[,i],p_esc,1-alpha)\n",
        "  CVaRCAfr2_oir[i]= wcvar(PGfr2_oir[,i],p_esc,1-alpha)\n",
        "  CVaRCAfr3_oir[i]= wcvar(PGfr3_oir[,i],p_esc,1-alpha)\n",
        "  CVaRCACont_oir[i]= wcvar(PG_oir[,i],p_esc,1-alpha)\n",
        "}\n",
        "\n",
        "\n",
        "#VaRCA Total\n",
        "VaRCATotal_oir=wquantile(PGT_oir,p_esc,1-alpha)\n",
        "CVaRCATotal_oir= wcvar(PGT_oir,p_esc,1-alpha)\n",
        "VaRCATotalfr1_oir=wquantile(PGfr1T_oir,p_esc,1-alpha)\n",
        "CVaRCATotalfr1_oir= wcvar(PGfr1T_oir,p_esc,1-alpha)\n",
        "VaRCATotalfr2_oir=wquantile(PGfr2T_oir,p_esc,1-alpha)\n",
        "CVaRCATotalfr2_oir= wcvar(PGfr2T_oir,p_esc,1-alpha)\n",
        "VaRCATotalfr3_oir=wquantile(PGfr3T_oir,p_esc,1-alpha)\n",
        "CVaRCATotalfr3_oir= wcvar(PGfr3T_oir,p_esc,1-alpha)\n",
        "\n",
        "print(\"Valor del portafolio\")\n",
        "print(V0_oir)\n",
        "print(\"VaRCA por contrato\")\n",
        "print(VaRCACont_oir)\n",
        "print(\"VaRCA por el factor de riesgo tasas de descuento por contrato\")\n",
        "print(VaRCAfr1_oir)\n",
        "print(\"VaRCA por el factor de riesgo tasas spot por contrato\")\n",
        "print(VaRCAfr2_oir)\n",
        "print(\"VaRCA por el factor de riesgo volatilidades por contrato\")\n",
        "print(VaRCAfr3_oir)\n",
        "print(\"VaRCA por el factor de riesgo tasas de descuento total\")\n",
        "print(VaRCATotalfr1_oir)\n",
        "print(\"VaRCA por el factor de riesgo tasas spot total\")\n",
        "print(VaRCATotalfr2_oir)\n",
        "print(\"VaRCA por el factor de riesgo volatilidades total\")\n",
        "print(VaRCATotalfr3_oir)\n",
        "print(\"VaRCA Total\")\n",
        "print(VaRCATotal_oir)\n",
        "\n",
        "print(\"CVaRCA por contrato\")\n",
        "print(CVaRCACont_oir)\n",
        "print(\"CVaRCA por el factor de riesgo tasas de descuento por contrato\")\n",
        "print(CVaRCAfr1_oir)\n",
        "print(\"CVaRCA por el factor de riesgo tasas spot por contrato\")\n",
        "print(CVaRCAfr2_oir)\n",
        "print(\"CVaRCA por el factor de riesgo volatilidades por contrato\")\n",
        "print(CVaRCAfr3_oir)\n",
        "print(\"CVaRCA por el factor de riesgo tasas de descuento total\")\n",
        "print(CVaRCATotalfr1_oir)\n",
        "print(\"CVaRCA por el factor de riesgo tasas spot total\")\n",
        "print(CVaRCATotalfr2_oir)\n",
        "print(\"CVaRCA por el factor de riesgo volatilidades total\")\n",
        "print(CVaRCATotalfr3_oir)\n",
        "print(\"CVaRCA Total\")\n",
        "print(CVaRCATotal_oir)"
      ],
      "metadata": {
        "colab": {
          "base_uri": "https://localhost:8080/"
        },
        "id": "Do9XhdfHOlbN",
        "outputId": "abf05517-f1de-4759-a1dd-5fc8bdaafd9b"
      },
      "execution_count": 152,
      "outputs": [
        {
          "output_type": "stream",
          "name": "stdout",
          "text": [
            "[1] \"Valor del portafolio\"\n",
            "          [,1]      [,2]\n",
            "[1,] 0.7591073 0.4324731\n",
            "[1] \"VaRCA por contrato\"\n",
            "            [,1]        [,2]\n",
            "[1,] -0.04960231 -0.03164635\n",
            "[1] \"VaRCA por el factor de riesgo tasas de descuento por contrato\"\n",
            "             [,1]          [,2]\n",
            "[1,] -0.003179866 -0.0005385752\n",
            "[1] \"VaRCA por el factor de riesgo tasas spot por contrato\"\n",
            "            [,1]        [,2]\n",
            "[1,] -0.04392037 -0.03161865\n",
            "[1] \"VaRCA por el factor de riesgo volatilidades por contrato\"\n",
            "            [,1]        [,2]\n",
            "[1,] -0.03465482 -0.02155953\n",
            "[1] \"VaRCA por el factor de riesgo tasas de descuento total\"\n",
            "[1] -0.003448647\n",
            "[1] \"VaRCA por el factor de riesgo tasas spot total\"\n",
            "[1] -0.03900403\n",
            "[1] \"VaRCA por el factor de riesgo volatilidades total\"\n",
            "[1] -0.04751759\n",
            "[1] \"VaRCA Total\"\n",
            "[1] -0.06252591\n",
            "[1] \"CVaRCA por contrato\"\n",
            "            [,1]        [,2]\n",
            "[1,] -0.06760054 -0.04457509\n",
            "[1] \"CVaRCA por el factor de riesgo tasas de descuento por contrato\"\n",
            "             [,1]          [,2]\n",
            "[1,] -0.004164656 -0.0006644505\n",
            "[1] \"CVaRCA por el factor de riesgo tasas spot por contrato\"\n",
            "           [,1]        [,2]\n",
            "[1,] -0.0740793 -0.05156001\n",
            "[1] \"CVaRCA por el factor de riesgo volatilidades por contrato\"\n",
            "           [,1]        [,2]\n",
            "[1,] -0.1477644 -0.02854904\n",
            "[1] \"CVaRCA por el factor de riesgo tasas de descuento total\"\n",
            "[1] -0.004617723\n",
            "[1] \"CVaRCA por el factor de riesgo tasas spot total\"\n",
            "[1] -0.06323964\n",
            "[1] \"CVaRCA por el factor de riesgo volatilidades total\"\n",
            "[1] -0.08435466\n",
            "[1] \"CVaRCA Total\"\n",
            "[1] -0.09178647\n"
          ]
        }
      ]
    },
    {
      "cell_type": "markdown",
      "source": [
        "# Ejercicio 2"
      ],
      "metadata": {
        "id": "8vkZonbbQDPy"
      }
    },
    {
      "cell_type": "markdown",
      "source": [
        "2. Crear un programa en google colab (R o Python) para valorar portafolio de CCS peso mexicano - dólar tasa variable vs variable, y que calcule el riesgo por simulación histórica (2.5 puntos extra)."
      ],
      "metadata": {
        "id": "a9LQQILFQF7X"
      }
    },
    {
      "cell_type": "code",
      "source": [
        "class CrossCurrencySwap:\n",
        "    \n",
        "    def __init__(self):\n",
        "        self.precio = None\n",
        "        self.nocional_extranjera = None\n",
        "        self.nocional_local = None\n",
        "        self.n_cupones = None\n",
        "        self.posicion = None\n",
        "        self.convencion = None\n",
        "        self.flotante_ext = None\n",
        "        self.flotante_loc = None\n",
        "        self.descuentos_ext = None\n",
        "        self.descuentos_loc = None\n",
        "        self.spot = None\n",
        "        self.summary = None\n",
        "        \n",
        "    def compute(self, fval, n,M_l, M_e, Spot, flot_l,cal_flot_l, flot_e,cal_flot_e, desc_l, cal_desc_l,\n",
        "                desc_e, cal_desc_e,plazos, tau,  payer = False, act_360 = True):\n",
        "        \"\"\"\n",
        "        M: Nocional\n",
        "        n: # de cupones\n",
        "        fix_rate: Tasa fija de la pata larga del IRS\n",
        "        flotante: Curva de tasas de mercado (la que encuentras en BANXICO) de la pata corta\n",
        "        calen_flotante: Las fechas dadas por la curva de flotante\n",
        "        descuentos: Curca de tasas de descuento de mercado para valuar el IRS\n",
        "        calen_desc: Las fechas dadas por la curva de descuentos\n",
        "        plazos : Lista de plazo del i -ésimo cupón (habiles)\n",
        "        tau: Plazo en dias del i-ésimo cupón. (naturales)\n",
        "        payer: Dummy; 1 si paga fija, 0 si paga flotante\n",
        "        act_360: Dummy; tipo de convención 1 si act/360, 0 si act/365\n",
        "        \"\"\"\n",
        "\n",
        "        spot = fval\n",
        "        \n",
        "        if act_360:\n",
        "            conv = 360\n",
        "        else:\n",
        "            conv = 365\n",
        "            \n",
        "        aux = pd.DataFrame({\"Cupon\":list(range(1,n+1)), \"Tau\":tau})\n",
        "        aux[\"Desde Spot\"] = aux[\"Tau\"].cumsum()\n",
        "        aux[\"Fecha\"] = aux[\"Desde Spot\"].apply(lambda x: timedelta(x) + spot)\n",
        "                \n",
        "        df = pd.DataFrame({\"Cupon\":list(range(1,n+1)), \"Plazo\": plazos, \"Tau\": tau})\n",
        "                \n",
        "        df[\"Fechas\"] =  aux[\"Fecha\"]\n",
        "        df[\"Flotante_Local\"] = df[\"Fechas\"].apply(InterpolacionLineal, args=(cal_flot_l, flot_l))\n",
        "        df[\"Descuentos_Local\"]=df[\"Fechas\"].apply(InterpolacionLineal, args=(cal_desc_l, desc_l))\n",
        "        df[\"Flotante_Ext\"] = df[\"Fechas\"].apply(InterpolacionLineal, args=(cal_flot_e, flot_e))\n",
        "        df[\"Descuentos_Ext\"]=df[\"Fechas\"].apply(InterpolacionLineal, args=(cal_desc_e, desc_e))\n",
        "        \n",
        "        # Calculo de tasas forward\n",
        "        df['Forward_Flotante_Local'] = (conv/(aux['Desde Spot']-aux['Desde Spot'].shift(1)))*(((1+(df['Flotante_Local']*aux['Desde Spot']/conv))/(1+(df['Flotante_Local'].shift(1)*aux['Desde Spot'].shift(1)/conv))) - 1)\n",
        "        df['Forward_Flotante_Local'][0] = df['Flotante_Local'][0]\n",
        "        df['Forward_Flotante_Ext'] = (conv/(aux['Desde Spot']-aux['Desde Spot'].shift(1)))*(((1+(df['Flotante_Ext']*aux['Desde Spot']/conv))/(1+(df['Flotante_Ext'].shift(1)*aux['Desde Spot'].shift(1)/conv))) - 1)\n",
        "        df['Forward_Flotante_Ext'][0] = df['Flotante_Ext'][0]\n",
        "        \n",
        "        df[\"Sumando_Local\"] = (M_l*((df[\"Forward_Flotante_Local\"])*df[\"Plazo\"]/conv)) / (1 + (df[\"Descuentos_Local\"]*df[\"Tau\"]/conv))\n",
        "        df[\"Sumando_Ext\"] = (M_e*Spot*((df[\"Forward_Flotante_Ext\"])*df[\"Plazo\"]/conv)) / (1 + (df[\"Descuentos_Ext\"]*df[\"Tau\"]/conv))\n",
        "        df[\"Sumando\"] = df[\"Sumando_Local\"] - df[\"Sumando_Ext\"]\n",
        "\n",
        "        self.precio =  ((-1)**payer)*df[\"Sumando\"].sum()\n",
        "        self.nocional_extranjera = M_e\n",
        "        self.nocional_local = M_l\n",
        "        self.n_cupones = n\n",
        "        self.posicion = \"Payer\" if payer else \"Receiver\"\n",
        "        self.convencion = conv\n",
        "        self.flotante_ext = df[[\"Fechas\",\"Forward_Flotante_Ext\"]]\n",
        "        self.flotante_loc = df[[\"Fechas\",\"Forward_Flotante_Local\"]]\n",
        "        self.descuentos_ext = df[[\"Fechas\", \"Descuentos_Ext\"]]\n",
        "        self.descuentos_loc = df[[\"Fechas\", \"Descuentos_Local\"]]\n",
        "        self.spot = Spot\n",
        "        self.summary = df\n",
        "        return\n",
        "    \n",
        "    # PENDIENTE\n",
        "    def plots(self):\n",
        "        Bool = True\n",
        "        while Bool:\n",
        "            print(\"\\n\")\n",
        "            choice = input(\"Si deseas ver las tasas de descuento teclea 'Descuentos', si deseas\\\n",
        "                                ver las tasas flotantes teclea 'Tasas' o si deseas salir escribe '0':\\n\")\n",
        "            if choice == 'Descuentos' or choice =='Tasas' or choice == '0':\n",
        "                Bool = False\n",
        "            else:\n",
        "                print('\\nTu elección no es válida')\n",
        "        if choice == 'Descuentos':\n",
        "            sns.set_style('darkgrid')\n",
        "            sns.set_palette('tab10')\n",
        "            plt.figure(figsize = (12,8))\n",
        "            ax = sns.lineplot(x = self.summary['Fechas'], y = self.summary['Descuentos'])\n",
        "            ax.set_title(\"Curva de Descuentos\",fontsize = '25')\n",
        "            plt.show()\n",
        "            \n",
        "            return\n",
        "        elif choice == 'Tasas':\n",
        "            sns.set_style('darkgrid')\n",
        "            sns.set_palette('tab10')\n",
        "            plt.figure(figsize = (12,8))\n",
        "            ax = sns.lineplot(x = self.summary['Fechas'], y = self.summary['Forward_Flotante'], color = 'red')\n",
        "            ax.set_title(\"Curva de Tasas Forward Flotantes\",fontsize = '25')\n",
        "            plt.show()\n",
        "            \n",
        "            return\n",
        "        else:\n",
        "            return"
      ],
      "metadata": {
        "id": "sg1P_wJNQaif"
      },
      "execution_count": null,
      "outputs": []
    },
    {
      "cell_type": "code",
      "source": [
        "class Riesgo_CCS:\n",
        "\n",
        "  def __init__(self):\n",
        "    self.nocionales = None\n",
        "    self.vencimiento = None\n",
        "    self.dias_bono = None\n",
        "    self.VaR = None\n",
        "    self.CVaR = None\n",
        "    self.alpha = None\n",
        "    self.spot = None\n",
        "    self.summary = None\n",
        "    self.ordenado = None\n",
        "    self.alisado = None\n",
        "    self.precios = None\n",
        "    \n",
        "  def compute(self, fval, spot,cupon_l, descuento_l,cupon_e,descuento_e, vencimiento,\\\n",
        "              dias_bono, posiciones, alpha, alisado = False):\n",
        "    \"\"\"\n",
        "    a\n",
        "    \"\"\"\n",
        "    calen_flotante_l = cupon_l.columns\n",
        "    calen_flotante_l = list(calen_flotante_l)\n",
        "    calen_flotante_l.remove('DATE')\n",
        "    calen_desc_l = descuento_l.columns\n",
        "    calen_desc_l = list(calen_desc_l)\n",
        "    calen_desc_l.remove('DATE')\n",
        "\n",
        "\n",
        "    calen_flotante_e = cupon_e.columns\n",
        "    calen_flotante_e = list(calen_flotante_e)\n",
        "    calen_flotante_e.remove('DATE')\n",
        "    calen_desc_e = descuento_e.columns\n",
        "    calen_desc_e = list(calen_desc_e)\n",
        "    calen_desc_e.remove('DATE')\n",
        "\n",
        "\n",
        "    n = int(vencimiento/dias_bono)\n",
        "    if n == (vencimiento/dias_bono):\n",
        "        plazos = [dias_bono]*n\n",
        "        tau = plazos\n",
        "    else:\n",
        "        plazos = [vencimiento-n*dias_bono] + [dias_bono]*(n-1)\n",
        "        tau = plazos\n",
        "\n",
        "    # Aquí vamos\n",
        "    n_cupl = cupon_l.shape[1] - 1\n",
        "    n_descl = descuento_l.shape[1] - 1\n",
        "    n_cupe = cupon_e.shape[1] - 1\n",
        "    n_desce = descuento_e.shape[1] - 1\n",
        "\n",
        "    # Spot\n",
        "    cross_currency = yf.download(spot, end = fval)\n",
        "    cross_currency = cross_currency[['Close']]\n",
        "    cross_currency = cross_currency.iloc[::-1]\n",
        "    cross_currency =cross_currency.reset_index()\n",
        "    cross_currency = cross_currency.rename(columns = {'Date':'DATE','Close':spot})\n",
        "    \n",
        "    #  X\n",
        "\n",
        "    X = cupon_l.merge(descuento_l,how = 'inner',on = 'DATE')\n",
        "    X = X.merge(cupon_e,how = 'inner',on = 'DATE')\n",
        "    X = X.merge(descuento_e,how = 'inner',on = 'DATE')\n",
        "    X = X.merge(cross_currency, how = 'inner',on = 'DATE')\n",
        "    X.set_index('DATE', inplace=True)\n",
        "\n",
        "    X0 = X.head(1)\n",
        "    DeltaX = (X.shift(1)/X)-1\n",
        "    DeltaX.iloc[0,:] = 0\n",
        "    X_s = X0.values*(1+DeltaX)\n",
        "\n",
        "\n",
        "\n",
        "    Y_s = pd.DataFrame()\n",
        "    irs_c= InterestRateSwap()\n",
        "    cup_l = X_s.iloc[:,:n_cupl]\n",
        "    desc_l = X_s.iloc[:,n_cupl:n_cupl+n_descl]\n",
        "    cup_e = X_s.iloc[:,n_cupl+n_descl:n_cupl+n_descl+n_cupe]\n",
        "    desc_e = X_s.iloc[:,n_cupl+n_descl+n_cupe:n_cupl+n_descl+n_cupe+n_desce]\n",
        "\n",
        "    #(self, fval, n,M_l, M_e, Spot, flot_l,cal_flot_l, flot_e,cal_flot_e, descu_l, cal_desc_l, \n",
        "    #            desc_e, cal_desc_e,plazos, tau,  payer = False, act_360 = True)\n",
        "\n",
        "    # Valoraciones\n",
        "    aux = []\n",
        "    for i in range(len(cup_l)):\n",
        "      fval_aux = cup_l.index[i]\n",
        "      flot_l =  cup_l.iloc[i,:].values/100\n",
        "      flot_l = list(flot_l)\n",
        "      descu_l = desc_l.iloc[i,:].values/100\n",
        "      descu_l = list(descu_l)\n",
        "      cal_flot_l_aux = [fval_aux + timedelta(int(i)) for i in calen_flotante_l]\n",
        "      cal_desc_l_aux = [fval_aux + timedelta(int(i)) for i in calen_desc_l]\n",
        "\n",
        "      flot_e =  cup_e.iloc[i,:].values/100\n",
        "      flot_e = list(flot_e)\n",
        "      descu_e = desc_e.iloc[i,:].values/100\n",
        "      descu_e = list(descu_e)\n",
        "      cal_flot_e_aux = [fval_aux + timedelta(int(i)) for i in calen_flotante_e]\n",
        "      cal_desc_e_aux = [fval_aux + timedelta(int(i)) for i in calen_desc_e]\n",
        "\n",
        "      ccs = CrossCurrencySwap()\n",
        "      ccs.compute(fval_aux, n ,posiciones[0],posiciones[1], X[spot][i], flot_l,cal_flot_l_aux, flot_e,cal_flot_e_aux, descu_l, cal_desc_l_aux,\\\n",
        "                  descu_e, cal_desc_e_aux,plazos, tau)\n",
        "\n",
        "      aux.append(ccs.precio)\n",
        "\n",
        "    Y_s['CCS'] = aux\n",
        "\n",
        "    #print(Y_s)\n",
        " \n",
        "    Y0 = Y_s.head(1)\n",
        "    Y0 = Y0.values[0]\n",
        "    #print(Y0)\n",
        "    PL = Y_s-Y0\n",
        "    PL['Total']=PL.sum(axis=1)\n",
        "    #print(PL)\n",
        "    VaR_C=[]\n",
        "\n",
        "    if alisado:\n",
        "      c = 1\n",
        "      PL.dropna(inplace = True)\n",
        "      PL = PL.iloc[::-1]\n",
        "      PL[\"Esc_SA\"] = ExponentialWeighted(0.05,PL.shape[0])\n",
        "      col_aux = list(PL.columns)\n",
        "      col_aux.remove(\"Esc_SA\")\n",
        "      vector_VaR = [VaR_CA(PL.iloc[:,i],PL.Esc_SA,alpha) for i in range(PL.shape[1]-1)]\n",
        "      VaR = pd.Series(vector_VaR,index = col_aux)\n",
        "    else:\n",
        "      c = 0\n",
        "      VaR=PL.quantile(alpha, numeric_only=False)\n",
        "\n",
        "\n",
        "    for i in range(0,PL.shape[1]-c):\n",
        "      VC=CVaR(PL.iloc[:,i],VaR[i])\n",
        "      VaR_C.append(VC)\n",
        "    VaR=PL.quantile(alpha, numeric_only=False)\n",
        "    \n",
        "    self.summary = pd.DataFrame({\"VaR\":VaR})\n",
        "    self.summary['CVaR'] = VaR_C\n",
        "\n",
        "    self.nocionales = {'Local':posiciones[0],'Extranjero':posiciones[1]}\n",
        "    self.vencimiento = vencimiento\n",
        "    self.dias_bono = dias_bono\n",
        "    self.spot = spot\n",
        "    self.VaR = self.summary[['VaR']]\n",
        "    self.CVaR = self.summary[['CVaR']]\n",
        "    self.alpha = alpha\n",
        "    self.alisado = alisado\n",
        "    self.precios = Y0\n",
        "\n",
        "    return"
      ],
      "metadata": {
        "id": "d_n3FBlBQe2O"
      },
      "execution_count": null,
      "outputs": []
    }
  ]
}